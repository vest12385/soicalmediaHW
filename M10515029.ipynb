{
 "cells": [
  {
   "cell_type": "code",
   "execution_count": 1,
   "metadata": {
    "collapsed": false
   },
   "outputs": [
    {
     "data": {
      "text/plain": [
       "3822"
      ]
     },
     "execution_count": 1,
     "metadata": {},
     "output_type": "execute_result"
    }
   ],
   "source": [
    "import pyes\n",
    "import elasticsearch\n",
    "\n",
    "es_address='140.118.155.14:9200'\n",
    "conn = pyes.es.ES(es_address)\n",
    "bq = pyes.query.BoolQuery() \n",
    "#q = pyes.query.MatchAllQuery()\n",
    "\n",
    "cve = pyes.query.TermQuery(field=\"text\", value=\"cve\")\n",
    "vul = pyes.query.TermQuery(field=\"text\", value=\"vulnerability\")\n",
    "exp = pyes.query.TermQuery(field=\"text\", value=\"exploit\")\n",
    "back = pyes.query.TermQuery(field=\"text\", value=\"backdoor\")\n",
    "apt = pyes.query.TermQuery(field=\"text\", value=\"apt\")\n",
    "mal = pyes.query.TermQuery(field=\"text\", value=\"malware\")\n",
    "\n",
    "\n",
    "ESR = pyes.ESRange(field=\"created_at_linux_timestamp\", from_value=\"1388534400000\", to_value=\"1420070400000\", \n",
    "                   include_lower=True ,include_upper=False)\n",
    "rq = pyes.query.RangeQuery(qrange=ESR)\n",
    "\n",
    "bq.add_should(cve)\n",
    "bq.add_should(vul)\n",
    "bq.add_should(exp)\n",
    "bq.add_should(back)\n",
    "bq.add_should(apt)\n",
    "bq.add_should(mal)\n",
    "bq.add_must(rq)\n",
    "\n",
    "result = conn.search(query=bq , indices='twitter2' , doc_types='tweet') \n",
    "len(result)"
   ]
  },
  {
   "cell_type": "code",
   "execution_count": 2,
   "metadata": {
    "collapsed": false
   },
   "outputs": [],
   "source": [
    "from collections import defaultdict\n",
    "twitters = set()\n",
    "twitterPerMon = defaultdict(set)\n",
    "tweetsPerMon = [0]*12\n",
    "indicators = defaultdict(list)\n",
    "twitterFollower = dict()\n",
    "twitterFriend = dict()\n",
    "twitterList = dict()"
   ]
  },
  {
   "cell_type": "code",
   "execution_count": 3,
   "metadata": {
    "collapsed": false
   },
   "outputs": [
    {
     "name": "stdout",
     "output_type": "stream",
     "text": [
      "91\n"
     ]
    }
   ],
   "source": [
    "import datetime\n",
    "import re\n",
    "\n",
    "haveUrl = 0\n",
    "        \n",
    "regex = re.compile(r'http[s]?://(?:[a-zA-Z]|[0-9]|[$-_@.&+]|[!*\\(\\),]|(?:%[0-9a-fA-F][0-9a-fA-F]))+')\n",
    "for oneTweet in result:\n",
    "    twitters.add(oneTweet['user']['id'])\n",
    "    month = int(datetime.datetime.fromtimestamp(oneTweet['created_at_linux_timestamp']/1000).strftime('%Y-%m-%d %H:%M:%S').split('-')[1])\n",
    "    twitterPerMon[month - 1].add(oneTweet['user']['id'])\n",
    "    tweetsPerMon[month - 1] += 1\n",
    "    if regex.findall(oneTweet['text']):\n",
    "        #print(regex.findall(oneTweet['text']))\n",
    "        haveUrl += 1\n",
    "    if oneTweet['user']['id'] not in indicators.iterkeys():\n",
    "        indicators[oneTweet['user']['id']].append(1)\n",
    "        indicators[oneTweet['user']['id']].append(0)\n",
    "        indicators[oneTweet['user']['id']].append(0)\n",
    "    else:\n",
    "        indicators[oneTweet['user']['id']][0] += 1\n",
    "        indicators[oneTweet['user']['id']][1] += oneTweet['retweet_count']\n",
    "        indicators[oneTweet['user']['id']][2] += oneTweet['favorite_count']\n",
    "        \n",
    "    if oneTweet['user']['name'] not in twitterFollower.iterkeys():\n",
    "        twitterFollower[oneTweet['user']['name']] = 0\n",
    "    else:\n",
    "        if twitterFollower[oneTweet['user']['name']] < oneTweet['user']['followers_count']:\n",
    "            twitterFollower[oneTweet['user']['name']] = oneTweet['user']['followers_count']\n",
    "            \n",
    "    if oneTweet['user']['name'] not in twitterFriend.iterkeys():\n",
    "        twitterFriend[oneTweet['user']['name']] = 0\n",
    "    else:\n",
    "        if twitterFriend[oneTweet['user']['name']] < oneTweet['user']['friends_count']:\n",
    "            twitterFriend[oneTweet['user']['name']] = oneTweet['user']['friends_count']\n",
    "            \n",
    "    if oneTweet['user']['name'] not in twitterList.iterkeys():\n",
    "        twitterList[oneTweet['user']['name']] = 0\n",
    "    else:\n",
    "        if twitterList[oneTweet['user']['name']] < oneTweet['user']['listed_count']:\n",
    "            twitterList[oneTweet['user']['name']] = oneTweet['user']['listed_count']\n",
    "\n",
    "noUrl = len(result) - haveUrl\n",
    "print (len(twitters))\n",
    "#print (twitterPerMon)\n",
    "#print (tweetsPerMon)\n",
    "#print (haveUrl, noUrl)\n",
    "#print (indicators)\n",
    "#len(indicators)\n",
    "#print(twitterFollower)"
   ]
  },
  {
   "cell_type": "code",
   "execution_count": 4,
   "metadata": {
    "collapsed": false,
    "scrolled": true
   },
   "outputs": [
    {
     "name": "stdout",
     "output_type": "stream",
     "text": [
      "{'tweets': [322, 316, 226, 285, 194, 271, 352, 260, 404, 424, 399, 369], 'twitter': [45, 48, 40, 55, 47, 49, 58, 54, 64, 68, 59, 60], 'label': ['Jan', 'Feb', 'Mar', 'Apr', 'May', 'Jun', 'Jul', 'Aug', 'Sep', 'Oct', 'Nov', 'Dec']}\n"
     ]
    },
    {
     "data": {
      "text/html": [
       "\n",
       "    <div class=\"bk-root\">\n",
       "        <a href=\"http://bokeh.pydata.org\" target=\"_blank\" class=\"bk-logo bk-logo-small bk-logo-notebook\"></a>\n",
       "        <span id=\"d69427c9-0c5e-4279-a6ee-918317287e86\">Loading BokehJS ...</span>\n",
       "    </div>"
      ]
     },
     "metadata": {},
     "output_type": "display_data"
    },
    {
     "data": {
      "application/javascript": [
       "\n",
       "(function(global) {\n",
       "  function now() {\n",
       "    return new Date();\n",
       "  }\n",
       "\n",
       "  if (typeof (window._bokeh_onload_callbacks) === \"undefined\") {\n",
       "    window._bokeh_onload_callbacks = [];\n",
       "  }\n",
       "\n",
       "  function run_callbacks() {\n",
       "    window._bokeh_onload_callbacks.forEach(function(callback) { callback() });\n",
       "    delete window._bokeh_onload_callbacks\n",
       "    console.info(\"Bokeh: all callbacks have finished\");\n",
       "  }\n",
       "\n",
       "  function load_libs(js_urls, callback) {\n",
       "    window._bokeh_onload_callbacks.push(callback);\n",
       "    if (window._bokeh_is_loading > 0) {\n",
       "      console.log(\"Bokeh: BokehJS is being loaded, scheduling callback at\", now());\n",
       "      return null;\n",
       "    }\n",
       "    if (js_urls == null || js_urls.length === 0) {\n",
       "      run_callbacks();\n",
       "      return null;\n",
       "    }\n",
       "    console.log(\"Bokeh: BokehJS not loaded, scheduling load and callback at\", now());\n",
       "    window._bokeh_is_loading = js_urls.length;\n",
       "    for (var i = 0; i < js_urls.length; i++) {\n",
       "      var url = js_urls[i];\n",
       "      var s = document.createElement('script');\n",
       "      s.src = url;\n",
       "      s.async = false;\n",
       "      s.onreadystatechange = s.onload = function() {\n",
       "        window._bokeh_is_loading--;\n",
       "        if (window._bokeh_is_loading === 0) {\n",
       "          console.log(\"Bokeh: all BokehJS libraries loaded\");\n",
       "          run_callbacks()\n",
       "        }\n",
       "      };\n",
       "      s.onerror = function() {\n",
       "        console.warn(\"failed to load library \" + url);\n",
       "      };\n",
       "      console.log(\"Bokeh: injecting script tag for BokehJS library: \", url);\n",
       "      document.getElementsByTagName(\"head\")[0].appendChild(s);\n",
       "    }\n",
       "  };\n",
       "\n",
       "  var js_urls = ['https://cdn.pydata.org/bokeh/release/bokeh-0.12.0.min.js', 'https://cdn.pydata.org/bokeh/release/bokeh-widgets-0.12.0.min.js', 'https://cdn.pydata.org/bokeh/release/bokeh-compiler-0.12.0.min.js'];\n",
       "\n",
       "  var inline_js = [\n",
       "    function(Bokeh) {\n",
       "      Bokeh.set_log_level(\"info\");\n",
       "    },\n",
       "    \n",
       "    function(Bokeh) {\n",
       "      Bokeh.$(\"#d69427c9-0c5e-4279-a6ee-918317287e86\").text(\"BokehJS successfully loaded\");\n",
       "    },\n",
       "    function(Bokeh) {\n",
       "      console.log(\"Bokeh: injecting CSS: https://cdn.pydata.org/bokeh/release/bokeh-0.12.0.min.css\");\n",
       "      Bokeh.embed.inject_css(\"https://cdn.pydata.org/bokeh/release/bokeh-0.12.0.min.css\");\n",
       "      console.log(\"Bokeh: injecting CSS: https://cdn.pydata.org/bokeh/release/bokeh-widgets-0.12.0.min.css\");\n",
       "      Bokeh.embed.inject_css(\"https://cdn.pydata.org/bokeh/release/bokeh-widgets-0.12.0.min.css\");\n",
       "    }\n",
       "  ];\n",
       "\n",
       "  function run_inline_js() {\n",
       "    for (var i = 0; i < inline_js.length; i++) {\n",
       "      inline_js[i](window.Bokeh);\n",
       "    }\n",
       "  }\n",
       "\n",
       "  if (window._bokeh_is_loading === 0) {\n",
       "    console.log(\"Bokeh: BokehJS loaded, going straight to plotting\");\n",
       "    run_inline_js();\n",
       "  } else {\n",
       "    load_libs(js_urls, function() {\n",
       "      console.log(\"Bokeh: BokehJS plotting callback run at\", now());\n",
       "      run_inline_js();\n",
       "    });\n",
       "  }\n",
       "}(this));"
      ]
     },
     "metadata": {},
     "output_type": "display_data"
    },
    {
     "data": {
      "text/html": [
       "\n",
       "\n",
       "    <div class=\"bk-root\">\n",
       "        <div class=\"plotdiv\" id=\"0e017105-8b61-45ab-872b-7502323517ef\"></div>\n",
       "    </div>\n",
       "<script type=\"text/javascript\">\n",
       "  \n",
       "  (function(global) {\n",
       "    function now() {\n",
       "      return new Date();\n",
       "    }\n",
       "  \n",
       "    if (typeof (window._bokeh_onload_callbacks) === \"undefined\") {\n",
       "      window._bokeh_onload_callbacks = [];\n",
       "    }\n",
       "  \n",
       "    function run_callbacks() {\n",
       "      window._bokeh_onload_callbacks.forEach(function(callback) { callback() });\n",
       "      delete window._bokeh_onload_callbacks\n",
       "      console.info(\"Bokeh: all callbacks have finished\");\n",
       "    }\n",
       "  \n",
       "    function load_libs(js_urls, callback) {\n",
       "      window._bokeh_onload_callbacks.push(callback);\n",
       "      if (window._bokeh_is_loading > 0) {\n",
       "        console.log(\"Bokeh: BokehJS is being loaded, scheduling callback at\", now());\n",
       "        return null;\n",
       "      }\n",
       "      if (js_urls == null || js_urls.length === 0) {\n",
       "        run_callbacks();\n",
       "        return null;\n",
       "      }\n",
       "      console.log(\"Bokeh: BokehJS not loaded, scheduling load and callback at\", now());\n",
       "      window._bokeh_is_loading = js_urls.length;\n",
       "      for (var i = 0; i < js_urls.length; i++) {\n",
       "        var url = js_urls[i];\n",
       "        var s = document.createElement('script');\n",
       "        s.src = url;\n",
       "        s.async = false;\n",
       "        s.onreadystatechange = s.onload = function() {\n",
       "          window._bokeh_is_loading--;\n",
       "          if (window._bokeh_is_loading === 0) {\n",
       "            console.log(\"Bokeh: all BokehJS libraries loaded\");\n",
       "            run_callbacks()\n",
       "          }\n",
       "        };\n",
       "        s.onerror = function() {\n",
       "          console.warn(\"failed to load library \" + url);\n",
       "        };\n",
       "        console.log(\"Bokeh: injecting script tag for BokehJS library: \", url);\n",
       "        document.getElementsByTagName(\"head\")[0].appendChild(s);\n",
       "      }\n",
       "    };var element = document.getElementById(\"0e017105-8b61-45ab-872b-7502323517ef\");\n",
       "    if (element == null) {\n",
       "      console.log(\"Bokeh: ERROR: autoload.js configured with elementid '0e017105-8b61-45ab-872b-7502323517ef' but no matching script tag was found. \")\n",
       "      return false;\n",
       "    }\n",
       "  \n",
       "    var js_urls = [];\n",
       "  \n",
       "    var inline_js = [\n",
       "      function(Bokeh) {\n",
       "        Bokeh.$(function() {\n",
       "            var docs_json = {\"1e79c2ec-53ed-46fb-8779-a8868efebc51\":{\"roots\":{\"references\":[{\"attributes\":{\"overlay\":{\"id\":\"f16c5e82-346f-4c58-94ba-ba6274442a9b\",\"type\":\"BoxAnnotation\"},\"plot\":{\"id\":\"9d9f1968-be5b-48d6-84fc-928f5e0189d8\",\"subtype\":\"Chart\",\"type\":\"Plot\"}},\"id\":\"430042af-ee95-4ca7-a5a8-5eaf6819bfe8\",\"type\":\"BoxZoomTool\"},{\"attributes\":{\"callback\":null,\"column_names\":[\"line_color\",\"line_alpha\",\"color\",\"fill_alpha\",\"height\",\"width\",\"y\",\"x\",\"label\"],\"data\":{\"chart_index\":[{\"label\":\"Feb\"}],\"color\":[\"#f22c40\"],\"fill_alpha\":[0.8],\"height\":[48.0],\"label\":[\"Feb\"],\"line_alpha\":[1.0],\"line_color\":[\"white\"],\"width\":[0.8],\"x\":[\"Feb\"],\"y\":[24.0]}},\"id\":\"6bec268b-a4b2-4f4f-ac78-3726e52d7e2a\",\"type\":\"ColumnDataSource\"},{\"attributes\":{\"fill_alpha\":{\"field\":\"fill_alpha\"},\"fill_color\":{\"field\":\"color\"},\"height\":{\"field\":\"height\",\"units\":\"data\"},\"line_color\":{\"field\":\"line_color\"},\"width\":{\"field\":\"width\",\"units\":\"data\"},\"x\":{\"field\":\"x\"},\"y\":{\"field\":\"y\"}},\"id\":\"34d29d0b-ce7c-4f67-a84f-f57211879096\",\"type\":\"Rect\"},{\"attributes\":{\"data_source\":{\"id\":\"587c80a7-b2a7-483e-afcb-9a7caf0b6399\",\"type\":\"ColumnDataSource\"},\"glyph\":{\"id\":\"a59dc05d-9264-4cd7-bcd0-7f9f34c11d90\",\"type\":\"Rect\"},\"hover_glyph\":null,\"nonselection_glyph\":null,\"selection_glyph\":null},\"id\":\"3b166b38-095b-4e17-b594-f6115f02765e\",\"type\":\"GlyphRenderer\"},{\"attributes\":{\"callback\":null,\"column_names\":[\"line_color\",\"line_alpha\",\"color\",\"fill_alpha\",\"height\",\"width\",\"y\",\"x\",\"label\"],\"data\":{\"chart_index\":[{\"label\":\"Aug\"}],\"color\":[\"#f22c40\"],\"fill_alpha\":[0.8],\"height\":[54.0],\"label\":[\"Aug\"],\"line_alpha\":[1.0],\"line_color\":[\"white\"],\"width\":[0.8],\"x\":[\"Aug\"],\"y\":[27.0]}},\"id\":\"d484f44f-7ee5-4bff-b1ef-8d752c19878b\",\"type\":\"ColumnDataSource\"},{\"attributes\":{\"plot\":{\"id\":\"9d9f1968-be5b-48d6-84fc-928f5e0189d8\",\"subtype\":\"Chart\",\"type\":\"Plot\"}},\"id\":\"752cf333-ffc2-4ad7-862f-a797e14d3311\",\"type\":\"SaveTool\"},{\"attributes\":{\"callback\":null,\"column_names\":[\"line_color\",\"line_alpha\",\"color\",\"fill_alpha\",\"height\",\"width\",\"y\",\"x\",\"label\"],\"data\":{\"chart_index\":[{\"label\":\"Mar\"}],\"color\":[\"#f22c40\"],\"fill_alpha\":[0.8],\"height\":[40.0],\"label\":[\"Mar\"],\"line_alpha\":[1.0],\"line_color\":[\"white\"],\"width\":[0.8],\"x\":[\"Mar\"],\"y\":[20.0]}},\"id\":\"7caaba5e-acc5-4f48-bd83-b874bf05a5ce\",\"type\":\"ColumnDataSource\"},{\"attributes\":{\"callback\":null,\"column_names\":[\"line_color\",\"line_alpha\",\"color\",\"fill_alpha\",\"height\",\"width\",\"y\",\"x\",\"label\"],\"data\":{\"chart_index\":[{\"label\":\"Apr\"}],\"color\":[\"#f22c40\"],\"fill_alpha\":[0.8],\"height\":[55.0],\"label\":[\"Apr\"],\"line_alpha\":[1.0],\"line_color\":[\"white\"],\"width\":[0.8],\"x\":[\"Apr\"],\"y\":[27.5]}},\"id\":\"e2cee708-7981-4721-863e-180c5c3241b5\",\"type\":\"ColumnDataSource\"},{\"attributes\":{\"fill_alpha\":{\"field\":\"fill_alpha\"},\"fill_color\":{\"field\":\"color\"},\"height\":{\"field\":\"height\",\"units\":\"data\"},\"line_color\":{\"field\":\"line_color\"},\"width\":{\"field\":\"width\",\"units\":\"data\"},\"x\":{\"field\":\"x\"},\"y\":{\"field\":\"y\"}},\"id\":\"45abca44-7d81-4c93-8518-8aa0d7397755\",\"type\":\"Rect\"},{\"attributes\":{\"data_source\":{\"id\":\"4d4bbb35-a322-4564-84aa-ddddb6d8c0ba\",\"type\":\"ColumnDataSource\"},\"glyph\":{\"id\":\"beebc7e9-9abe-4cf3-968e-44800593d6c4\",\"type\":\"Rect\"},\"hover_glyph\":null,\"nonselection_glyph\":null,\"selection_glyph\":null},\"id\":\"c4f79bf9-9b14-4342-b9b8-21eb5ae341ab\",\"type\":\"GlyphRenderer\"},{\"attributes\":{\"data_source\":{\"id\":\"fe1a9b56-2dc7-4005-8825-3805b833946f\",\"type\":\"ColumnDataSource\"},\"glyph\":{\"id\":\"d049c7dd-cbf1-415a-84fb-7f4c15707fdf\",\"type\":\"Rect\"},\"hover_glyph\":null,\"nonselection_glyph\":null,\"selection_glyph\":null},\"id\":\"09bad6e7-4b99-4109-aa0a-354e0c2e22b9\",\"type\":\"GlyphRenderer\"},{\"attributes\":{\"callback\":null,\"column_names\":[\"line_color\",\"line_alpha\",\"color\",\"fill_alpha\",\"height\",\"width\",\"y\",\"x\",\"label\"],\"data\":{\"chart_index\":[{\"label\":\"Jul\"}],\"color\":[\"#f22c40\"],\"fill_alpha\":[0.8],\"height\":[58.0],\"label\":[\"Jul\"],\"line_alpha\":[1.0],\"line_color\":[\"white\"],\"width\":[0.8],\"x\":[\"Jul\"],\"y\":[29.0]}},\"id\":\"e71a3bd1-98f7-4aba-bd44-92062f5beac4\",\"type\":\"ColumnDataSource\"},{\"attributes\":{\"plot\":{\"id\":\"9d9f1968-be5b-48d6-84fc-928f5e0189d8\",\"subtype\":\"Chart\",\"type\":\"Plot\"}},\"id\":\"bbdf5c64-9dc0-4506-aaef-2da6dc96ad7f\",\"type\":\"PanTool\"},{\"attributes\":{\"plot\":{\"id\":\"9d9f1968-be5b-48d6-84fc-928f5e0189d8\",\"subtype\":\"Chart\",\"type\":\"Plot\"}},\"id\":\"4fb2ee6d-7066-473a-9057-8569a9c0be72\",\"type\":\"ResetTool\"},{\"attributes\":{\"callback\":null,\"column_names\":[\"line_color\",\"line_alpha\",\"color\",\"fill_alpha\",\"height\",\"width\",\"y\",\"x\",\"label\"],\"data\":{\"chart_index\":[{\"label\":\"Jan\"}],\"color\":[\"#f22c40\"],\"fill_alpha\":[0.8],\"height\":[45.0],\"label\":[\"Jan\"],\"line_alpha\":[1.0],\"line_color\":[\"white\"],\"width\":[0.8],\"x\":[\"Jan\"],\"y\":[22.5]}},\"id\":\"68ac5648-2907-4245-af1e-373b9e31e28e\",\"type\":\"ColumnDataSource\"},{\"attributes\":{\"data_source\":{\"id\":\"523040af-cb29-433c-bf9f-9e7a47669dca\",\"type\":\"ColumnDataSource\"},\"glyph\":{\"id\":\"26942105-3383-4d39-8d30-cb3197de81e2\",\"type\":\"Rect\"},\"hover_glyph\":null,\"nonselection_glyph\":null,\"selection_glyph\":null},\"id\":\"99e92103-c556-4d90-99da-7c13525c8711\",\"type\":\"GlyphRenderer\"},{\"attributes\":{\"fill_alpha\":{\"field\":\"fill_alpha\"},\"fill_color\":{\"field\":\"color\"},\"height\":{\"field\":\"height\",\"units\":\"data\"},\"line_color\":{\"field\":\"line_color\"},\"width\":{\"field\":\"width\",\"units\":\"data\"},\"x\":{\"field\":\"x\"},\"y\":{\"field\":\"y\"}},\"id\":\"e3885d40-51e1-4613-b463-aced68901f60\",\"type\":\"Rect\"},{\"attributes\":{\"plot\":null,\"text\":\"Twitter Per Month\"},\"id\":\"aa3b1a75-1225-422a-8f2b-632ff6b3318b\",\"type\":\"Title\"},{\"attributes\":{\"data_source\":{\"id\":\"6bec268b-a4b2-4f4f-ac78-3726e52d7e2a\",\"type\":\"ColumnDataSource\"},\"glyph\":{\"id\":\"7c09ac8f-dd96-4250-815f-57ae5770d2bc\",\"type\":\"Rect\"},\"hover_glyph\":null,\"nonselection_glyph\":null,\"selection_glyph\":null},\"id\":\"b35bd8c3-f16b-4ebb-ad18-fc2f4b147e54\",\"type\":\"GlyphRenderer\"},{\"attributes\":{\"dimension\":1,\"plot\":{\"id\":\"9d9f1968-be5b-48d6-84fc-928f5e0189d8\",\"subtype\":\"Chart\",\"type\":\"Plot\"},\"ticker\":{\"id\":\"e0c5c2ef-1a29-4e36-9a6f-be2bf995f79d\",\"type\":\"BasicTicker\"}},\"id\":\"8283489c-9cd4-4e91-8dcd-613e43be7e84\",\"type\":\"Grid\"},{\"attributes\":{\"callback\":null,\"column_names\":[\"line_color\",\"line_alpha\",\"color\",\"fill_alpha\",\"height\",\"width\",\"y\",\"x\",\"label\"],\"data\":{\"chart_index\":[{\"label\":\"May\"}],\"color\":[\"#f22c40\"],\"fill_alpha\":[0.8],\"height\":[47.0],\"label\":[\"May\"],\"line_alpha\":[1.0],\"line_color\":[\"white\"],\"width\":[0.8],\"x\":[\"May\"],\"y\":[23.5]}},\"id\":\"bee816fc-8f08-4c86-b82c-a3fbe5771143\",\"type\":\"ColumnDataSource\"},{\"attributes\":{\"data_source\":{\"id\":\"d484f44f-7ee5-4bff-b1ef-8d752c19878b\",\"type\":\"ColumnDataSource\"},\"glyph\":{\"id\":\"41be183c-d785-4f6e-8b30-0a6b69ec2031\",\"type\":\"Rect\"},\"hover_glyph\":null,\"nonselection_glyph\":null,\"selection_glyph\":null},\"id\":\"9e1d4db3-f56d-4c67-a9b2-47d2c04fb05a\",\"type\":\"GlyphRenderer\"},{\"attributes\":{\"callback\":null,\"column_names\":[\"line_color\",\"line_alpha\",\"color\",\"fill_alpha\",\"height\",\"width\",\"y\",\"x\",\"label\"],\"data\":{\"chart_index\":[{\"label\":\"Sep\"}],\"color\":[\"#f22c40\"],\"fill_alpha\":[0.8],\"height\":[64.0],\"label\":[\"Sep\"],\"line_alpha\":[1.0],\"line_color\":[\"white\"],\"width\":[0.8],\"x\":[\"Sep\"],\"y\":[32.0]}},\"id\":\"fe1a9b56-2dc7-4005-8825-3805b833946f\",\"type\":\"ColumnDataSource\"},{\"attributes\":{\"fill_alpha\":{\"field\":\"fill_alpha\"},\"fill_color\":{\"field\":\"color\"},\"height\":{\"field\":\"height\",\"units\":\"data\"},\"line_color\":{\"field\":\"line_color\"},\"width\":{\"field\":\"width\",\"units\":\"data\"},\"x\":{\"field\":\"x\"},\"y\":{\"field\":\"y\"}},\"id\":\"26942105-3383-4d39-8d30-cb3197de81e2\",\"type\":\"Rect\"},{\"attributes\":{\"data_source\":{\"id\":\"68ac5648-2907-4245-af1e-373b9e31e28e\",\"type\":\"ColumnDataSource\"},\"glyph\":{\"id\":\"3a3b369c-c32e-41cf-adcb-28015d7306d6\",\"type\":\"Rect\"},\"hover_glyph\":null,\"nonselection_glyph\":null,\"selection_glyph\":null},\"id\":\"743f7bd0-4dda-455e-b1ed-f83b942370c7\",\"type\":\"GlyphRenderer\"},{\"attributes\":{},\"id\":\"0383d8e8-d98c-4f11-a030-87520ca4139d\",\"type\":\"BasicTickFormatter\"},{\"attributes\":{\"fill_alpha\":{\"field\":\"fill_alpha\"},\"fill_color\":{\"field\":\"color\"},\"height\":{\"field\":\"height\",\"units\":\"data\"},\"line_color\":{\"field\":\"line_color\"},\"width\":{\"field\":\"width\",\"units\":\"data\"},\"x\":{\"field\":\"x\"},\"y\":{\"field\":\"y\"}},\"id\":\"3a3b369c-c32e-41cf-adcb-28015d7306d6\",\"type\":\"Rect\"},{\"attributes\":{\"fill_alpha\":{\"field\":\"fill_alpha\"},\"fill_color\":{\"field\":\"color\"},\"height\":{\"field\":\"height\",\"units\":\"data\"},\"line_color\":{\"field\":\"line_color\"},\"width\":{\"field\":\"width\",\"units\":\"data\"},\"x\":{\"field\":\"x\"},\"y\":{\"field\":\"y\"}},\"id\":\"beebc7e9-9abe-4cf3-968e-44800593d6c4\",\"type\":\"Rect\"},{\"attributes\":{\"axis_label\":\"Sum( Twitter )\",\"formatter\":{\"id\":\"0383d8e8-d98c-4f11-a030-87520ca4139d\",\"type\":\"BasicTickFormatter\"},\"plot\":{\"id\":\"9d9f1968-be5b-48d6-84fc-928f5e0189d8\",\"subtype\":\"Chart\",\"type\":\"Plot\"},\"ticker\":{\"id\":\"e0c5c2ef-1a29-4e36-9a6f-be2bf995f79d\",\"type\":\"BasicTicker\"}},\"id\":\"7e38bd1e-cbf3-4c20-adb1-85bbf97715ab\",\"type\":\"LinearAxis\"},{\"attributes\":{\"legends\":[[\"Jan\",[{\"id\":\"743f7bd0-4dda-455e-b1ed-f83b942370c7\",\"type\":\"GlyphRenderer\"}]],[\"Feb\",[{\"id\":\"b35bd8c3-f16b-4ebb-ad18-fc2f4b147e54\",\"type\":\"GlyphRenderer\"}]],[\"Mar\",[{\"id\":\"1c320576-cb10-4251-8d8e-92ada4d2de8d\",\"type\":\"GlyphRenderer\"}]],[\"Apr\",[{\"id\":\"d3e28cb1-0137-4c77-9c4b-131106db542b\",\"type\":\"GlyphRenderer\"}]],[\"May\",[{\"id\":\"f2f14fc3-4d4b-476e-a46f-d725ef8b5b71\",\"type\":\"GlyphRenderer\"}]],[\"Jun\",[{\"id\":\"99e92103-c556-4d90-99da-7c13525c8711\",\"type\":\"GlyphRenderer\"}]],[\"Jul\",[{\"id\":\"eba76c53-f176-4750-a65c-9dfe624d83c4\",\"type\":\"GlyphRenderer\"}]],[\"Aug\",[{\"id\":\"9e1d4db3-f56d-4c67-a9b2-47d2c04fb05a\",\"type\":\"GlyphRenderer\"}]],[\"Sep\",[{\"id\":\"09bad6e7-4b99-4109-aa0a-354e0c2e22b9\",\"type\":\"GlyphRenderer\"}]],[\"Oct\",[{\"id\":\"3b166b38-095b-4e17-b594-f6115f02765e\",\"type\":\"GlyphRenderer\"}]],[\"Nov\",[{\"id\":\"4f5e8969-a40b-4a16-a2b8-f69c414591bb\",\"type\":\"GlyphRenderer\"}]],[\"Dec\",[{\"id\":\"c4f79bf9-9b14-4342-b9b8-21eb5ae341ab\",\"type\":\"GlyphRenderer\"}]]],\"location\":\"top_left\",\"plot\":{\"id\":\"9d9f1968-be5b-48d6-84fc-928f5e0189d8\",\"subtype\":\"Chart\",\"type\":\"Plot\"}},\"id\":\"5f548c20-aea1-46a9-9b86-6e416d90b66c\",\"type\":\"Legend\"},{\"attributes\":{\"callback\":null,\"factors\":[\"Jan\",\"Feb\",\"Mar\",\"Apr\",\"May\",\"Jun\",\"Jul\",\"Aug\",\"Sep\",\"Oct\",\"Nov\",\"Dec\"]},\"id\":\"88814314-fa06-4b1e-89e7-0e513e76463a\",\"type\":\"FactorRange\"},{\"attributes\":{\"active_drag\":\"auto\",\"active_scroll\":\"auto\",\"active_tap\":\"auto\",\"tools\":[{\"id\":\"bbdf5c64-9dc0-4506-aaef-2da6dc96ad7f\",\"type\":\"PanTool\"},{\"id\":\"4f5749d4-59b4-4324-960d-0c6b8549b6c0\",\"type\":\"WheelZoomTool\"},{\"id\":\"430042af-ee95-4ca7-a5a8-5eaf6819bfe8\",\"type\":\"BoxZoomTool\"},{\"id\":\"752cf333-ffc2-4ad7-862f-a797e14d3311\",\"type\":\"SaveTool\"},{\"id\":\"4fb2ee6d-7066-473a-9057-8569a9c0be72\",\"type\":\"ResetTool\"},{\"id\":\"6f78208a-c049-444c-ad82-a14d3d0048ff\",\"type\":\"HelpTool\"}]},\"id\":\"baff5178-b729-45bc-80d4-a1aa7b655e12\",\"type\":\"Toolbar\"},{\"attributes\":{},\"id\":\"14e08e45-1db9-493e-a07d-35201e577a94\",\"type\":\"CategoricalTickFormatter\"},{\"attributes\":{\"data_source\":{\"id\":\"e2cee708-7981-4721-863e-180c5c3241b5\",\"type\":\"ColumnDataSource\"},\"glyph\":{\"id\":\"34d29d0b-ce7c-4f67-a84f-f57211879096\",\"type\":\"Rect\"},\"hover_glyph\":null,\"nonselection_glyph\":null,\"selection_glyph\":null},\"id\":\"d3e28cb1-0137-4c77-9c4b-131106db542b\",\"type\":\"GlyphRenderer\"},{\"attributes\":{\"below\":[{\"id\":\"50feb8d9-d102-4c5c-a004-9164b6e040a4\",\"type\":\"CategoricalAxis\"}],\"left\":[{\"id\":\"7e38bd1e-cbf3-4c20-adb1-85bbf97715ab\",\"type\":\"LinearAxis\"}],\"renderers\":[{\"id\":\"f16c5e82-346f-4c58-94ba-ba6274442a9b\",\"type\":\"BoxAnnotation\"},{\"id\":\"743f7bd0-4dda-455e-b1ed-f83b942370c7\",\"type\":\"GlyphRenderer\"},{\"id\":\"b35bd8c3-f16b-4ebb-ad18-fc2f4b147e54\",\"type\":\"GlyphRenderer\"},{\"id\":\"1c320576-cb10-4251-8d8e-92ada4d2de8d\",\"type\":\"GlyphRenderer\"},{\"id\":\"d3e28cb1-0137-4c77-9c4b-131106db542b\",\"type\":\"GlyphRenderer\"},{\"id\":\"f2f14fc3-4d4b-476e-a46f-d725ef8b5b71\",\"type\":\"GlyphRenderer\"},{\"id\":\"99e92103-c556-4d90-99da-7c13525c8711\",\"type\":\"GlyphRenderer\"},{\"id\":\"eba76c53-f176-4750-a65c-9dfe624d83c4\",\"type\":\"GlyphRenderer\"},{\"id\":\"9e1d4db3-f56d-4c67-a9b2-47d2c04fb05a\",\"type\":\"GlyphRenderer\"},{\"id\":\"09bad6e7-4b99-4109-aa0a-354e0c2e22b9\",\"type\":\"GlyphRenderer\"},{\"id\":\"3b166b38-095b-4e17-b594-f6115f02765e\",\"type\":\"GlyphRenderer\"},{\"id\":\"4f5e8969-a40b-4a16-a2b8-f69c414591bb\",\"type\":\"GlyphRenderer\"},{\"id\":\"c4f79bf9-9b14-4342-b9b8-21eb5ae341ab\",\"type\":\"GlyphRenderer\"},{\"id\":\"5f548c20-aea1-46a9-9b86-6e416d90b66c\",\"type\":\"Legend\"},{\"id\":\"50feb8d9-d102-4c5c-a004-9164b6e040a4\",\"type\":\"CategoricalAxis\"},{\"id\":\"7e38bd1e-cbf3-4c20-adb1-85bbf97715ab\",\"type\":\"LinearAxis\"},{\"id\":\"8283489c-9cd4-4e91-8dcd-613e43be7e84\",\"type\":\"Grid\"}],\"title\":{\"id\":\"aa3b1a75-1225-422a-8f2b-632ff6b3318b\",\"type\":\"Title\"},\"tool_events\":{\"id\":\"9c03c4bb-3230-4ca1-be2e-91fde9ba2457\",\"type\":\"ToolEvents\"},\"toolbar\":{\"id\":\"baff5178-b729-45bc-80d4-a1aa7b655e12\",\"type\":\"Toolbar\"},\"x_mapper_type\":\"auto\",\"x_range\":{\"id\":\"88814314-fa06-4b1e-89e7-0e513e76463a\",\"type\":\"FactorRange\"},\"y_mapper_type\":\"auto\",\"y_range\":{\"id\":\"4cdb40e2-56e4-4f01-a58c-890ec83efa7d\",\"type\":\"Range1d\"}},\"id\":\"9d9f1968-be5b-48d6-84fc-928f5e0189d8\",\"subtype\":\"Chart\",\"type\":\"Plot\"},{\"attributes\":{\"data_source\":{\"id\":\"70d790c1-5b26-48a1-af8d-795c577d6d06\",\"type\":\"ColumnDataSource\"},\"glyph\":{\"id\":\"e3885d40-51e1-4613-b463-aced68901f60\",\"type\":\"Rect\"},\"hover_glyph\":null,\"nonselection_glyph\":null,\"selection_glyph\":null},\"id\":\"4f5e8969-a40b-4a16-a2b8-f69c414591bb\",\"type\":\"GlyphRenderer\"},{\"attributes\":{\"callback\":null,\"column_names\":[\"line_color\",\"line_alpha\",\"color\",\"fill_alpha\",\"height\",\"width\",\"y\",\"x\",\"label\"],\"data\":{\"chart_index\":[{\"label\":\"Oct\"}],\"color\":[\"#f22c40\"],\"fill_alpha\":[0.8],\"height\":[68.0],\"label\":[\"Oct\"],\"line_alpha\":[1.0],\"line_color\":[\"white\"],\"width\":[0.8],\"x\":[\"Oct\"],\"y\":[34.0]}},\"id\":\"587c80a7-b2a7-483e-afcb-9a7caf0b6399\",\"type\":\"ColumnDataSource\"},{\"attributes\":{\"data_source\":{\"id\":\"e71a3bd1-98f7-4aba-bd44-92062f5beac4\",\"type\":\"ColumnDataSource\"},\"glyph\":{\"id\":\"45abca44-7d81-4c93-8518-8aa0d7397755\",\"type\":\"Rect\"},\"hover_glyph\":null,\"nonselection_glyph\":null,\"selection_glyph\":null},\"id\":\"eba76c53-f176-4750-a65c-9dfe624d83c4\",\"type\":\"GlyphRenderer\"},{\"attributes\":{\"fill_alpha\":{\"field\":\"fill_alpha\"},\"fill_color\":{\"field\":\"color\"},\"height\":{\"field\":\"height\",\"units\":\"data\"},\"line_color\":{\"field\":\"line_color\"},\"width\":{\"field\":\"width\",\"units\":\"data\"},\"x\":{\"field\":\"x\"},\"y\":{\"field\":\"y\"}},\"id\":\"d049c7dd-cbf1-415a-84fb-7f4c15707fdf\",\"type\":\"Rect\"},{\"attributes\":{\"bottom_units\":\"screen\",\"fill_alpha\":{\"value\":0.5},\"fill_color\":{\"value\":\"lightgrey\"},\"left_units\":\"screen\",\"level\":\"overlay\",\"line_alpha\":{\"value\":1.0},\"line_color\":{\"value\":\"black\"},\"line_dash\":[4,4],\"line_width\":{\"value\":2},\"plot\":null,\"render_mode\":\"css\",\"right_units\":\"screen\",\"top_units\":\"screen\"},\"id\":\"f16c5e82-346f-4c58-94ba-ba6274442a9b\",\"type\":\"BoxAnnotation\"},{\"attributes\":{\"fill_alpha\":{\"field\":\"fill_alpha\"},\"fill_color\":{\"field\":\"color\"},\"height\":{\"field\":\"height\",\"units\":\"data\"},\"line_color\":{\"field\":\"line_color\"},\"width\":{\"field\":\"width\",\"units\":\"data\"},\"x\":{\"field\":\"x\"},\"y\":{\"field\":\"y\"}},\"id\":\"a59dc05d-9264-4cd7-bcd0-7f9f34c11d90\",\"type\":\"Rect\"},{\"attributes\":{},\"id\":\"e0c5c2ef-1a29-4e36-9a6f-be2bf995f79d\",\"type\":\"BasicTicker\"},{\"attributes\":{},\"id\":\"9c03c4bb-3230-4ca1-be2e-91fde9ba2457\",\"type\":\"ToolEvents\"},{\"attributes\":{\"plot\":{\"id\":\"9d9f1968-be5b-48d6-84fc-928f5e0189d8\",\"subtype\":\"Chart\",\"type\":\"Plot\"}},\"id\":\"4f5749d4-59b4-4324-960d-0c6b8549b6c0\",\"type\":\"WheelZoomTool\"},{\"attributes\":{\"axis_label\":\"Label\",\"formatter\":{\"id\":\"14e08e45-1db9-493e-a07d-35201e577a94\",\"type\":\"CategoricalTickFormatter\"},\"major_label_orientation\":0.7853981633974483,\"plot\":{\"id\":\"9d9f1968-be5b-48d6-84fc-928f5e0189d8\",\"subtype\":\"Chart\",\"type\":\"Plot\"},\"ticker\":{\"id\":\"c77e2c14-7c4d-42b3-b39d-f62fd3a4548c\",\"type\":\"CategoricalTicker\"}},\"id\":\"50feb8d9-d102-4c5c-a004-9164b6e040a4\",\"type\":\"CategoricalAxis\"},{\"attributes\":{\"fill_alpha\":{\"field\":\"fill_alpha\"},\"fill_color\":{\"field\":\"color\"},\"height\":{\"field\":\"height\",\"units\":\"data\"},\"line_color\":{\"field\":\"line_color\"},\"width\":{\"field\":\"width\",\"units\":\"data\"},\"x\":{\"field\":\"x\"},\"y\":{\"field\":\"y\"}},\"id\":\"41be183c-d785-4f6e-8b30-0a6b69ec2031\",\"type\":\"Rect\"},{\"attributes\":{},\"id\":\"c77e2c14-7c4d-42b3-b39d-f62fd3a4548c\",\"type\":\"CategoricalTicker\"},{\"attributes\":{\"callback\":null,\"column_names\":[\"line_color\",\"line_alpha\",\"color\",\"fill_alpha\",\"height\",\"width\",\"y\",\"x\",\"label\"],\"data\":{\"chart_index\":[{\"label\":\"Nov\"}],\"color\":[\"#f22c40\"],\"fill_alpha\":[0.8],\"height\":[59.0],\"label\":[\"Nov\"],\"line_alpha\":[1.0],\"line_color\":[\"white\"],\"width\":[0.8],\"x\":[\"Nov\"],\"y\":[29.5]}},\"id\":\"70d790c1-5b26-48a1-af8d-795c577d6d06\",\"type\":\"ColumnDataSource\"},{\"attributes\":{\"plot\":{\"id\":\"9d9f1968-be5b-48d6-84fc-928f5e0189d8\",\"subtype\":\"Chart\",\"type\":\"Plot\"}},\"id\":\"6f78208a-c049-444c-ad82-a14d3d0048ff\",\"type\":\"HelpTool\"},{\"attributes\":{\"data_source\":{\"id\":\"7caaba5e-acc5-4f48-bd83-b874bf05a5ce\",\"type\":\"ColumnDataSource\"},\"glyph\":{\"id\":\"1c19532d-bae6-4fb1-8ca7-13b852506fbb\",\"type\":\"Rect\"},\"hover_glyph\":null,\"nonselection_glyph\":null,\"selection_glyph\":null},\"id\":\"1c320576-cb10-4251-8d8e-92ada4d2de8d\",\"type\":\"GlyphRenderer\"},{\"attributes\":{\"callback\":null,\"column_names\":[\"line_color\",\"line_alpha\",\"color\",\"fill_alpha\",\"height\",\"width\",\"y\",\"x\",\"label\"],\"data\":{\"chart_index\":[{\"label\":\"Dec\"}],\"color\":[\"#f22c40\"],\"fill_alpha\":[0.8],\"height\":[60.0],\"label\":[\"Dec\"],\"line_alpha\":[1.0],\"line_color\":[\"white\"],\"width\":[0.8],\"x\":[\"Dec\"],\"y\":[30.0]}},\"id\":\"4d4bbb35-a322-4564-84aa-ddddb6d8c0ba\",\"type\":\"ColumnDataSource\"},{\"attributes\":{\"fill_alpha\":{\"field\":\"fill_alpha\"},\"fill_color\":{\"field\":\"color\"},\"height\":{\"field\":\"height\",\"units\":\"data\"},\"line_color\":{\"field\":\"line_color\"},\"width\":{\"field\":\"width\",\"units\":\"data\"},\"x\":{\"field\":\"x\"},\"y\":{\"field\":\"y\"}},\"id\":\"38bdf8c5-34c8-42e2-bfbe-52beb6fb2d09\",\"type\":\"Rect\"},{\"attributes\":{\"fill_alpha\":{\"field\":\"fill_alpha\"},\"fill_color\":{\"field\":\"color\"},\"height\":{\"field\":\"height\",\"units\":\"data\"},\"line_color\":{\"field\":\"line_color\"},\"width\":{\"field\":\"width\",\"units\":\"data\"},\"x\":{\"field\":\"x\"},\"y\":{\"field\":\"y\"}},\"id\":\"7c09ac8f-dd96-4250-815f-57ae5770d2bc\",\"type\":\"Rect\"},{\"attributes\":{\"data_source\":{\"id\":\"bee816fc-8f08-4c86-b82c-a3fbe5771143\",\"type\":\"ColumnDataSource\"},\"glyph\":{\"id\":\"38bdf8c5-34c8-42e2-bfbe-52beb6fb2d09\",\"type\":\"Rect\"},\"hover_glyph\":null,\"nonselection_glyph\":null,\"selection_glyph\":null},\"id\":\"f2f14fc3-4d4b-476e-a46f-d725ef8b5b71\",\"type\":\"GlyphRenderer\"},{\"attributes\":{\"callback\":null,\"column_names\":[\"line_color\",\"line_alpha\",\"color\",\"fill_alpha\",\"height\",\"width\",\"y\",\"x\",\"label\"],\"data\":{\"chart_index\":[{\"label\":\"Jun\"}],\"color\":[\"#f22c40\"],\"fill_alpha\":[0.8],\"height\":[49.0],\"label\":[\"Jun\"],\"line_alpha\":[1.0],\"line_color\":[\"white\"],\"width\":[0.8],\"x\":[\"Jun\"],\"y\":[24.5]}},\"id\":\"523040af-cb29-433c-bf9f-9e7a47669dca\",\"type\":\"ColumnDataSource\"},{\"attributes\":{\"fill_alpha\":{\"field\":\"fill_alpha\"},\"fill_color\":{\"field\":\"color\"},\"height\":{\"field\":\"height\",\"units\":\"data\"},\"line_color\":{\"field\":\"line_color\"},\"width\":{\"field\":\"width\",\"units\":\"data\"},\"x\":{\"field\":\"x\"},\"y\":{\"field\":\"y\"}},\"id\":\"1c19532d-bae6-4fb1-8ca7-13b852506fbb\",\"type\":\"Rect\"},{\"attributes\":{\"callback\":null,\"end\":71.4},\"id\":\"4cdb40e2-56e4-4f01-a58c-890ec83efa7d\",\"type\":\"Range1d\"}],\"root_ids\":[\"9d9f1968-be5b-48d6-84fc-928f5e0189d8\"]},\"title\":\"Bokeh Application\",\"version\":\"0.12.0\"}};\n",
       "            var render_items = [{\"docid\":\"1e79c2ec-53ed-46fb-8779-a8868efebc51\",\"elementid\":\"0e017105-8b61-45ab-872b-7502323517ef\",\"modelid\":\"9d9f1968-be5b-48d6-84fc-928f5e0189d8\",\"notebook_comms_target\":\"0864b3f5-37ab-403b-845a-6849f9cb7074\"}];\n",
       "            \n",
       "            Bokeh.embed.embed_items(docs_json, render_items);\n",
       "        });\n",
       "      },\n",
       "      function(Bokeh) {\n",
       "      }\n",
       "    ];\n",
       "  \n",
       "    function run_inline_js() {\n",
       "      for (var i = 0; i < inline_js.length; i++) {\n",
       "        inline_js[i](window.Bokeh);\n",
       "      }\n",
       "    }\n",
       "  \n",
       "    if (window._bokeh_is_loading === 0) {\n",
       "      console.log(\"Bokeh: BokehJS loaded, going straight to plotting\");\n",
       "      run_inline_js();\n",
       "    } else {\n",
       "      load_libs(js_urls, function() {\n",
       "        console.log(\"Bokeh: BokehJS plotting callback run at\", now());\n",
       "        run_inline_js();\n",
       "      });\n",
       "    }\n",
       "  }(this));\n",
       "</script>"
      ]
     },
     "metadata": {},
     "output_type": "display_data"
    },
    {
     "data": {
      "text/html": [
       "\n",
       "\n",
       "    <div class=\"bk-root\">\n",
       "        <div class=\"plotdiv\" id=\"86fee32e-f804-48f4-8762-418b5055a9a7\"></div>\n",
       "    </div>\n",
       "<script type=\"text/javascript\">\n",
       "  \n",
       "  (function(global) {\n",
       "    function now() {\n",
       "      return new Date();\n",
       "    }\n",
       "  \n",
       "    if (typeof (window._bokeh_onload_callbacks) === \"undefined\") {\n",
       "      window._bokeh_onload_callbacks = [];\n",
       "    }\n",
       "  \n",
       "    function run_callbacks() {\n",
       "      window._bokeh_onload_callbacks.forEach(function(callback) { callback() });\n",
       "      delete window._bokeh_onload_callbacks\n",
       "      console.info(\"Bokeh: all callbacks have finished\");\n",
       "    }\n",
       "  \n",
       "    function load_libs(js_urls, callback) {\n",
       "      window._bokeh_onload_callbacks.push(callback);\n",
       "      if (window._bokeh_is_loading > 0) {\n",
       "        console.log(\"Bokeh: BokehJS is being loaded, scheduling callback at\", now());\n",
       "        return null;\n",
       "      }\n",
       "      if (js_urls == null || js_urls.length === 0) {\n",
       "        run_callbacks();\n",
       "        return null;\n",
       "      }\n",
       "      console.log(\"Bokeh: BokehJS not loaded, scheduling load and callback at\", now());\n",
       "      window._bokeh_is_loading = js_urls.length;\n",
       "      for (var i = 0; i < js_urls.length; i++) {\n",
       "        var url = js_urls[i];\n",
       "        var s = document.createElement('script');\n",
       "        s.src = url;\n",
       "        s.async = false;\n",
       "        s.onreadystatechange = s.onload = function() {\n",
       "          window._bokeh_is_loading--;\n",
       "          if (window._bokeh_is_loading === 0) {\n",
       "            console.log(\"Bokeh: all BokehJS libraries loaded\");\n",
       "            run_callbacks()\n",
       "          }\n",
       "        };\n",
       "        s.onerror = function() {\n",
       "          console.warn(\"failed to load library \" + url);\n",
       "        };\n",
       "        console.log(\"Bokeh: injecting script tag for BokehJS library: \", url);\n",
       "        document.getElementsByTagName(\"head\")[0].appendChild(s);\n",
       "      }\n",
       "    };var element = document.getElementById(\"86fee32e-f804-48f4-8762-418b5055a9a7\");\n",
       "    if (element == null) {\n",
       "      console.log(\"Bokeh: ERROR: autoload.js configured with elementid '86fee32e-f804-48f4-8762-418b5055a9a7' but no matching script tag was found. \")\n",
       "      return false;\n",
       "    }\n",
       "  \n",
       "    var js_urls = [];\n",
       "  \n",
       "    var inline_js = [\n",
       "      function(Bokeh) {\n",
       "        Bokeh.$(function() {\n",
       "            var docs_json = {\"a728f312-4203-4843-a74b-dd1159adaddf\":{\"roots\":{\"references\":[{\"attributes\":{\"data_source\":{\"id\":\"49f25123-94ce-4f21-934b-5f8661435315\",\"type\":\"ColumnDataSource\"},\"glyph\":{\"id\":\"0759cdc5-fcd5-45e0-84b8-d95d417f136a\",\"type\":\"Rect\"},\"hover_glyph\":null,\"nonselection_glyph\":null,\"selection_glyph\":null},\"id\":\"689eb6c1-9900-4657-abd6-4179be6dac5f\",\"type\":\"GlyphRenderer\"},{\"attributes\":{\"legends\":[[\"Jan\",[{\"id\":\"f78706c0-d226-42f4-9508-3b6552a21b69\",\"type\":\"GlyphRenderer\"}]],[\"Feb\",[{\"id\":\"28ead03d-0fed-41e0-b3e5-b01e02db4383\",\"type\":\"GlyphRenderer\"}]],[\"Mar\",[{\"id\":\"b40e741f-3967-4dcb-8acb-37dd7b96e6ca\",\"type\":\"GlyphRenderer\"}]],[\"Apr\",[{\"id\":\"344c04d6-ac1e-4ee9-97bb-dce44414060c\",\"type\":\"GlyphRenderer\"}]],[\"May\",[{\"id\":\"29db8895-967d-466c-aa87-7fd7c532019d\",\"type\":\"GlyphRenderer\"}]],[\"Jun\",[{\"id\":\"c13b2306-a537-46dd-b380-866f936e9508\",\"type\":\"GlyphRenderer\"}]],[\"Jul\",[{\"id\":\"25730923-2093-4aa0-90a8-39ef8f34df86\",\"type\":\"GlyphRenderer\"}]],[\"Aug\",[{\"id\":\"23cceeb4-ac85-456a-b614-26325945685b\",\"type\":\"GlyphRenderer\"}]],[\"Sep\",[{\"id\":\"adf38709-8e90-46b2-bb8e-9b5f6bd1afca\",\"type\":\"GlyphRenderer\"}]],[\"Oct\",[{\"id\":\"ad2ae73b-0be5-4558-b957-3834531594a8\",\"type\":\"GlyphRenderer\"}]],[\"Nov\",[{\"id\":\"689eb6c1-9900-4657-abd6-4179be6dac5f\",\"type\":\"GlyphRenderer\"}]],[\"Dec\",[{\"id\":\"1b0cae6a-ac7a-44ed-8e37-eace12cc4420\",\"type\":\"GlyphRenderer\"}]]],\"location\":\"top_left\",\"plot\":{\"id\":\"beb2660f-9298-4a5f-a64c-537258a1305e\",\"subtype\":\"Chart\",\"type\":\"Plot\"}},\"id\":\"ab367050-d271-4162-b682-39ec75c07898\",\"type\":\"Legend\"},{\"attributes\":{\"fill_alpha\":{\"field\":\"fill_alpha\"},\"fill_color\":{\"field\":\"color\"},\"height\":{\"field\":\"height\",\"units\":\"data\"},\"line_color\":{\"field\":\"line_color\"},\"width\":{\"field\":\"width\",\"units\":\"data\"},\"x\":{\"field\":\"x\"},\"y\":{\"field\":\"y\"}},\"id\":\"0759cdc5-fcd5-45e0-84b8-d95d417f136a\",\"type\":\"Rect\"},{\"attributes\":{\"callback\":null,\"column_names\":[\"line_color\",\"line_alpha\",\"color\",\"fill_alpha\",\"height\",\"width\",\"y\",\"x\",\"label\"],\"data\":{\"chart_index\":[{\"label\":\"Apr\"}],\"color\":[\"#f22c40\"],\"fill_alpha\":[0.8],\"height\":[285.0],\"label\":[\"Apr\"],\"line_alpha\":[1.0],\"line_color\":[\"white\"],\"width\":[0.8],\"x\":[\"Apr\"],\"y\":[142.5]}},\"id\":\"00baaca8-8897-45b8-8bd1-4a9164af8b75\",\"type\":\"ColumnDataSource\"},{\"attributes\":{},\"id\":\"69edc6ec-f253-449c-aba2-4115236112a2\",\"type\":\"CategoricalTicker\"},{\"attributes\":{\"fill_alpha\":{\"field\":\"fill_alpha\"},\"fill_color\":{\"field\":\"color\"},\"height\":{\"field\":\"height\",\"units\":\"data\"},\"line_color\":{\"field\":\"line_color\"},\"width\":{\"field\":\"width\",\"units\":\"data\"},\"x\":{\"field\":\"x\"},\"y\":{\"field\":\"y\"}},\"id\":\"f763a62a-5abb-4cc1-a4f8-456e0e798241\",\"type\":\"Rect\"},{\"attributes\":{\"axis_label\":\"Mean( Tweets )\",\"formatter\":{\"id\":\"93e38bd1-ccd6-4f49-8415-8aed59a0c8e1\",\"type\":\"BasicTickFormatter\"},\"plot\":{\"id\":\"beb2660f-9298-4a5f-a64c-537258a1305e\",\"subtype\":\"Chart\",\"type\":\"Plot\"},\"ticker\":{\"id\":\"1f0fa9d8-5811-42eb-8a88-51bc152fbb71\",\"type\":\"BasicTicker\"}},\"id\":\"c7eb06b9-9d8a-4535-8490-eb6ef08f4c79\",\"type\":\"LinearAxis\"},{\"attributes\":{\"callback\":null,\"column_names\":[\"line_color\",\"line_alpha\",\"color\",\"fill_alpha\",\"height\",\"width\",\"y\",\"x\",\"label\"],\"data\":{\"chart_index\":[{\"label\":\"Oct\"}],\"color\":[\"#f22c40\"],\"fill_alpha\":[0.8],\"height\":[424.0],\"label\":[\"Oct\"],\"line_alpha\":[1.0],\"line_color\":[\"white\"],\"width\":[0.8],\"x\":[\"Oct\"],\"y\":[212.0]}},\"id\":\"91c149b3-2f9a-43f5-bce1-6202c6ba76cc\",\"type\":\"ColumnDataSource\"},{\"attributes\":{\"data_source\":{\"id\":\"d9179b15-e836-4ea5-a696-5cc079fb7d1b\",\"type\":\"ColumnDataSource\"},\"glyph\":{\"id\":\"eb947001-48ef-444d-a8f6-1545e92dc28a\",\"type\":\"Rect\"},\"hover_glyph\":null,\"nonselection_glyph\":null,\"selection_glyph\":null},\"id\":\"25730923-2093-4aa0-90a8-39ef8f34df86\",\"type\":\"GlyphRenderer\"},{\"attributes\":{\"fill_alpha\":{\"field\":\"fill_alpha\"},\"fill_color\":{\"field\":\"color\"},\"height\":{\"field\":\"height\",\"units\":\"data\"},\"line_color\":{\"field\":\"line_color\"},\"width\":{\"field\":\"width\",\"units\":\"data\"},\"x\":{\"field\":\"x\"},\"y\":{\"field\":\"y\"}},\"id\":\"650d6480-9fc7-4d66-95b8-d1058f5edc4b\",\"type\":\"Rect\"},{\"attributes\":{\"fill_alpha\":{\"field\":\"fill_alpha\"},\"fill_color\":{\"field\":\"color\"},\"height\":{\"field\":\"height\",\"units\":\"data\"},\"line_color\":{\"field\":\"line_color\"},\"width\":{\"field\":\"width\",\"units\":\"data\"},\"x\":{\"field\":\"x\"},\"y\":{\"field\":\"y\"}},\"id\":\"081cd905-f418-49c9-abdb-7eb56f1944a3\",\"type\":\"Rect\"},{\"attributes\":{\"fill_alpha\":{\"field\":\"fill_alpha\"},\"fill_color\":{\"field\":\"color\"},\"height\":{\"field\":\"height\",\"units\":\"data\"},\"line_color\":{\"field\":\"line_color\"},\"width\":{\"field\":\"width\",\"units\":\"data\"},\"x\":{\"field\":\"x\"},\"y\":{\"field\":\"y\"}},\"id\":\"c71565a3-e7bb-4008-9f00-0523d58cb453\",\"type\":\"Rect\"},{\"attributes\":{\"data_source\":{\"id\":\"eacb794d-8fb4-4388-bf2a-f33240ac6178\",\"type\":\"ColumnDataSource\"},\"glyph\":{\"id\":\"c71565a3-e7bb-4008-9f00-0523d58cb453\",\"type\":\"Rect\"},\"hover_glyph\":null,\"nonselection_glyph\":null,\"selection_glyph\":null},\"id\":\"c13b2306-a537-46dd-b380-866f936e9508\",\"type\":\"GlyphRenderer\"},{\"attributes\":{\"plot\":{\"id\":\"beb2660f-9298-4a5f-a64c-537258a1305e\",\"subtype\":\"Chart\",\"type\":\"Plot\"}},\"id\":\"e2ed6aec-deb4-4d72-8401-0c64f8e78689\",\"type\":\"PanTool\"},{\"attributes\":{\"callback\":null,\"column_names\":[\"line_color\",\"line_alpha\",\"color\",\"fill_alpha\",\"height\",\"width\",\"y\",\"x\",\"label\"],\"data\":{\"chart_index\":[{\"label\":\"May\"}],\"color\":[\"#f22c40\"],\"fill_alpha\":[0.8],\"height\":[194.0],\"label\":[\"May\"],\"line_alpha\":[1.0],\"line_color\":[\"white\"],\"width\":[0.8],\"x\":[\"May\"],\"y\":[97.0]}},\"id\":\"de530730-ad73-4f4f-b848-93c2903f09c8\",\"type\":\"ColumnDataSource\"},{\"attributes\":{\"data_source\":{\"id\":\"08bd5cae-55cb-42fc-85f4-1d2c6c1d9afe\",\"type\":\"ColumnDataSource\"},\"glyph\":{\"id\":\"63bef0fb-4bfd-43c3-8ce4-bf3a1151f6df\",\"type\":\"Rect\"},\"hover_glyph\":null,\"nonselection_glyph\":null,\"selection_glyph\":null},\"id\":\"adf38709-8e90-46b2-bb8e-9b5f6bd1afca\",\"type\":\"GlyphRenderer\"},{\"attributes\":{},\"id\":\"36e5e5c9-7a2c-41bc-a1b0-aaf3b118e95f\",\"type\":\"CategoricalTickFormatter\"},{\"attributes\":{\"plot\":null,\"text\":\"Tweets Per Month\"},\"id\":\"078110f0-5c3e-42dd-95a9-8127a831c505\",\"type\":\"Title\"},{\"attributes\":{\"fill_alpha\":{\"field\":\"fill_alpha\"},\"fill_color\":{\"field\":\"color\"},\"height\":{\"field\":\"height\",\"units\":\"data\"},\"line_color\":{\"field\":\"line_color\"},\"width\":{\"field\":\"width\",\"units\":\"data\"},\"x\":{\"field\":\"x\"},\"y\":{\"field\":\"y\"}},\"id\":\"321a47ff-8514-4645-a572-a378478d56ae\",\"type\":\"Rect\"},{\"attributes\":{\"bottom_units\":\"screen\",\"fill_alpha\":{\"value\":0.5},\"fill_color\":{\"value\":\"lightgrey\"},\"left_units\":\"screen\",\"level\":\"overlay\",\"line_alpha\":{\"value\":1.0},\"line_color\":{\"value\":\"black\"},\"line_dash\":[4,4],\"line_width\":{\"value\":2},\"plot\":null,\"render_mode\":\"css\",\"right_units\":\"screen\",\"top_units\":\"screen\"},\"id\":\"00bb3d99-a1a9-461e-a0bd-39be1451d25d\",\"type\":\"BoxAnnotation\"},{\"attributes\":{\"data_source\":{\"id\":\"de530730-ad73-4f4f-b848-93c2903f09c8\",\"type\":\"ColumnDataSource\"},\"glyph\":{\"id\":\"719fe589-7eb6-4683-9c8b-f66ec270c1fe\",\"type\":\"Rect\"},\"hover_glyph\":null,\"nonselection_glyph\":null,\"selection_glyph\":null},\"id\":\"29db8895-967d-466c-aa87-7fd7c532019d\",\"type\":\"GlyphRenderer\"},{\"attributes\":{\"data_source\":{\"id\":\"5c023a64-d939-455d-9826-2d83e9dac445\",\"type\":\"ColumnDataSource\"},\"glyph\":{\"id\":\"4099b166-1a54-4456-bdec-bfc52c4a3b0e\",\"type\":\"Rect\"},\"hover_glyph\":null,\"nonselection_glyph\":null,\"selection_glyph\":null},\"id\":\"f78706c0-d226-42f4-9508-3b6552a21b69\",\"type\":\"GlyphRenderer\"},{\"attributes\":{\"plot\":{\"id\":\"beb2660f-9298-4a5f-a64c-537258a1305e\",\"subtype\":\"Chart\",\"type\":\"Plot\"}},\"id\":\"80166cc8-5810-4233-9404-22340e4d5438\",\"type\":\"SaveTool\"},{\"attributes\":{\"fill_alpha\":{\"field\":\"fill_alpha\"},\"fill_color\":{\"field\":\"color\"},\"height\":{\"field\":\"height\",\"units\":\"data\"},\"line_color\":{\"field\":\"line_color\"},\"width\":{\"field\":\"width\",\"units\":\"data\"},\"x\":{\"field\":\"x\"},\"y\":{\"field\":\"y\"}},\"id\":\"eb947001-48ef-444d-a8f6-1545e92dc28a\",\"type\":\"Rect\"},{\"attributes\":{\"callback\":null,\"column_names\":[\"line_color\",\"line_alpha\",\"color\",\"fill_alpha\",\"height\",\"width\",\"y\",\"x\",\"label\"],\"data\":{\"chart_index\":[{\"label\":\"Jul\"}],\"color\":[\"#f22c40\"],\"fill_alpha\":[0.8],\"height\":[352.0],\"label\":[\"Jul\"],\"line_alpha\":[1.0],\"line_color\":[\"white\"],\"width\":[0.8],\"x\":[\"Jul\"],\"y\":[176.0]}},\"id\":\"d9179b15-e836-4ea5-a696-5cc079fb7d1b\",\"type\":\"ColumnDataSource\"},{\"attributes\":{\"fill_alpha\":{\"field\":\"fill_alpha\"},\"fill_color\":{\"field\":\"color\"},\"height\":{\"field\":\"height\",\"units\":\"data\"},\"line_color\":{\"field\":\"line_color\"},\"width\":{\"field\":\"width\",\"units\":\"data\"},\"x\":{\"field\":\"x\"},\"y\":{\"field\":\"y\"}},\"id\":\"3c1df435-804e-4597-9b54-20ce2ab6500e\",\"type\":\"Rect\"},{\"attributes\":{\"data_source\":{\"id\":\"00baaca8-8897-45b8-8bd1-4a9164af8b75\",\"type\":\"ColumnDataSource\"},\"glyph\":{\"id\":\"f8cc2022-8a80-4397-8907-b8044e5c97df\",\"type\":\"Rect\"},\"hover_glyph\":null,\"nonselection_glyph\":null,\"selection_glyph\":null},\"id\":\"344c04d6-ac1e-4ee9-97bb-dce44414060c\",\"type\":\"GlyphRenderer\"},{\"attributes\":{\"callback\":null,\"end\":445.2},\"id\":\"a1bd83be-7577-4833-b374-d2cfe3e03de1\",\"type\":\"Range1d\"},{\"attributes\":{\"callback\":null,\"column_names\":[\"line_color\",\"line_alpha\",\"color\",\"fill_alpha\",\"height\",\"width\",\"y\",\"x\",\"label\"],\"data\":{\"chart_index\":[{\"label\":\"Jan\"}],\"color\":[\"#f22c40\"],\"fill_alpha\":[0.8],\"height\":[322.0],\"label\":[\"Jan\"],\"line_alpha\":[1.0],\"line_color\":[\"white\"],\"width\":[0.8],\"x\":[\"Jan\"],\"y\":[161.0]}},\"id\":\"5c023a64-d939-455d-9826-2d83e9dac445\",\"type\":\"ColumnDataSource\"},{\"attributes\":{\"callback\":null,\"column_names\":[\"line_color\",\"line_alpha\",\"color\",\"fill_alpha\",\"height\",\"width\",\"y\",\"x\",\"label\"],\"data\":{\"chart_index\":[{\"label\":\"Jun\"}],\"color\":[\"#f22c40\"],\"fill_alpha\":[0.8],\"height\":[271.0],\"label\":[\"Jun\"],\"line_alpha\":[1.0],\"line_color\":[\"white\"],\"width\":[0.8],\"x\":[\"Jun\"],\"y\":[135.5]}},\"id\":\"eacb794d-8fb4-4388-bf2a-f33240ac6178\",\"type\":\"ColumnDataSource\"},{\"attributes\":{\"callback\":null,\"column_names\":[\"line_color\",\"line_alpha\",\"color\",\"fill_alpha\",\"height\",\"width\",\"y\",\"x\",\"label\"],\"data\":{\"chart_index\":[{\"label\":\"Sep\"}],\"color\":[\"#f22c40\"],\"fill_alpha\":[0.8],\"height\":[404.0],\"label\":[\"Sep\"],\"line_alpha\":[1.0],\"line_color\":[\"white\"],\"width\":[0.8],\"x\":[\"Sep\"],\"y\":[202.0]}},\"id\":\"08bd5cae-55cb-42fc-85f4-1d2c6c1d9afe\",\"type\":\"ColumnDataSource\"},{\"attributes\":{\"callback\":null,\"column_names\":[\"line_color\",\"line_alpha\",\"color\",\"fill_alpha\",\"height\",\"width\",\"y\",\"x\",\"label\"],\"data\":{\"chart_index\":[{\"label\":\"Nov\"}],\"color\":[\"#f22c40\"],\"fill_alpha\":[0.8],\"height\":[399.0],\"label\":[\"Nov\"],\"line_alpha\":[1.0],\"line_color\":[\"white\"],\"width\":[0.8],\"x\":[\"Nov\"],\"y\":[199.5]}},\"id\":\"49f25123-94ce-4f21-934b-5f8661435315\",\"type\":\"ColumnDataSource\"},{\"attributes\":{\"callback\":null,\"column_names\":[\"line_color\",\"line_alpha\",\"color\",\"fill_alpha\",\"height\",\"width\",\"y\",\"x\",\"label\"],\"data\":{\"chart_index\":[{\"label\":\"Dec\"}],\"color\":[\"#f22c40\"],\"fill_alpha\":[0.8],\"height\":[369.0],\"label\":[\"Dec\"],\"line_alpha\":[1.0],\"line_color\":[\"white\"],\"width\":[0.8],\"x\":[\"Dec\"],\"y\":[184.5]}},\"id\":\"d41b09ce-2542-4037-ab8b-0c6b11fc02aa\",\"type\":\"ColumnDataSource\"},{\"attributes\":{\"data_source\":{\"id\":\"f2db0fa9-cbc1-4c2b-84de-5e56d6625213\",\"type\":\"ColumnDataSource\"},\"glyph\":{\"id\":\"3c1df435-804e-4597-9b54-20ce2ab6500e\",\"type\":\"Rect\"},\"hover_glyph\":null,\"nonselection_glyph\":null,\"selection_glyph\":null},\"id\":\"28ead03d-0fed-41e0-b3e5-b01e02db4383\",\"type\":\"GlyphRenderer\"},{\"attributes\":{\"plot\":{\"id\":\"beb2660f-9298-4a5f-a64c-537258a1305e\",\"subtype\":\"Chart\",\"type\":\"Plot\"}},\"id\":\"8de84a3a-96b4-4d5c-8936-4980c9f982aa\",\"type\":\"HelpTool\"},{\"attributes\":{},\"id\":\"93e38bd1-ccd6-4f49-8415-8aed59a0c8e1\",\"type\":\"BasicTickFormatter\"},{\"attributes\":{\"callback\":null,\"column_names\":[\"line_color\",\"line_alpha\",\"color\",\"fill_alpha\",\"height\",\"width\",\"y\",\"x\",\"label\"],\"data\":{\"chart_index\":[{\"label\":\"Aug\"}],\"color\":[\"#f22c40\"],\"fill_alpha\":[0.8],\"height\":[260.0],\"label\":[\"Aug\"],\"line_alpha\":[1.0],\"line_color\":[\"white\"],\"width\":[0.8],\"x\":[\"Aug\"],\"y\":[130.0]}},\"id\":\"85b8dc97-7424-4ae2-8916-3261e8f87172\",\"type\":\"ColumnDataSource\"},{\"attributes\":{},\"id\":\"975362f4-f471-4c77-96f5-bb11b903794c\",\"type\":\"ToolEvents\"},{\"attributes\":{\"fill_alpha\":{\"field\":\"fill_alpha\"},\"fill_color\":{\"field\":\"color\"},\"height\":{\"field\":\"height\",\"units\":\"data\"},\"line_color\":{\"field\":\"line_color\"},\"width\":{\"field\":\"width\",\"units\":\"data\"},\"x\":{\"field\":\"x\"},\"y\":{\"field\":\"y\"}},\"id\":\"4099b166-1a54-4456-bdec-bfc52c4a3b0e\",\"type\":\"Rect\"},{\"attributes\":{\"dimension\":1,\"plot\":{\"id\":\"beb2660f-9298-4a5f-a64c-537258a1305e\",\"subtype\":\"Chart\",\"type\":\"Plot\"},\"ticker\":{\"id\":\"1f0fa9d8-5811-42eb-8a88-51bc152fbb71\",\"type\":\"BasicTicker\"}},\"id\":\"7c0aa389-7e43-478a-9733-e93b933234d9\",\"type\":\"Grid\"},{\"attributes\":{},\"id\":\"1f0fa9d8-5811-42eb-8a88-51bc152fbb71\",\"type\":\"BasicTicker\"},{\"attributes\":{\"below\":[{\"id\":\"72744dbd-e19f-4cad-b932-d4a0ff2c13e6\",\"type\":\"CategoricalAxis\"}],\"left\":[{\"id\":\"c7eb06b9-9d8a-4535-8490-eb6ef08f4c79\",\"type\":\"LinearAxis\"}],\"renderers\":[{\"id\":\"00bb3d99-a1a9-461e-a0bd-39be1451d25d\",\"type\":\"BoxAnnotation\"},{\"id\":\"f78706c0-d226-42f4-9508-3b6552a21b69\",\"type\":\"GlyphRenderer\"},{\"id\":\"28ead03d-0fed-41e0-b3e5-b01e02db4383\",\"type\":\"GlyphRenderer\"},{\"id\":\"b40e741f-3967-4dcb-8acb-37dd7b96e6ca\",\"type\":\"GlyphRenderer\"},{\"id\":\"344c04d6-ac1e-4ee9-97bb-dce44414060c\",\"type\":\"GlyphRenderer\"},{\"id\":\"29db8895-967d-466c-aa87-7fd7c532019d\",\"type\":\"GlyphRenderer\"},{\"id\":\"c13b2306-a537-46dd-b380-866f936e9508\",\"type\":\"GlyphRenderer\"},{\"id\":\"25730923-2093-4aa0-90a8-39ef8f34df86\",\"type\":\"GlyphRenderer\"},{\"id\":\"23cceeb4-ac85-456a-b614-26325945685b\",\"type\":\"GlyphRenderer\"},{\"id\":\"adf38709-8e90-46b2-bb8e-9b5f6bd1afca\",\"type\":\"GlyphRenderer\"},{\"id\":\"ad2ae73b-0be5-4558-b957-3834531594a8\",\"type\":\"GlyphRenderer\"},{\"id\":\"689eb6c1-9900-4657-abd6-4179be6dac5f\",\"type\":\"GlyphRenderer\"},{\"id\":\"1b0cae6a-ac7a-44ed-8e37-eace12cc4420\",\"type\":\"GlyphRenderer\"},{\"id\":\"ab367050-d271-4162-b682-39ec75c07898\",\"type\":\"Legend\"},{\"id\":\"72744dbd-e19f-4cad-b932-d4a0ff2c13e6\",\"type\":\"CategoricalAxis\"},{\"id\":\"c7eb06b9-9d8a-4535-8490-eb6ef08f4c79\",\"type\":\"LinearAxis\"},{\"id\":\"7c0aa389-7e43-478a-9733-e93b933234d9\",\"type\":\"Grid\"}],\"title\":{\"id\":\"078110f0-5c3e-42dd-95a9-8127a831c505\",\"type\":\"Title\"},\"tool_events\":{\"id\":\"975362f4-f471-4c77-96f5-bb11b903794c\",\"type\":\"ToolEvents\"},\"toolbar\":{\"id\":\"453a4809-46e8-4ec4-a773-a098e66254b0\",\"type\":\"Toolbar\"},\"x_mapper_type\":\"auto\",\"x_range\":{\"id\":\"a90f95d9-5364-42fb-b7d8-11837dd6bf6c\",\"type\":\"FactorRange\"},\"y_mapper_type\":\"auto\",\"y_range\":{\"id\":\"a1bd83be-7577-4833-b374-d2cfe3e03de1\",\"type\":\"Range1d\"}},\"id\":\"beb2660f-9298-4a5f-a64c-537258a1305e\",\"subtype\":\"Chart\",\"type\":\"Plot\"},{\"attributes\":{\"data_source\":{\"id\":\"d41b09ce-2542-4037-ab8b-0c6b11fc02aa\",\"type\":\"ColumnDataSource\"},\"glyph\":{\"id\":\"f763a62a-5abb-4cc1-a4f8-456e0e798241\",\"type\":\"Rect\"},\"hover_glyph\":null,\"nonselection_glyph\":null,\"selection_glyph\":null},\"id\":\"1b0cae6a-ac7a-44ed-8e37-eace12cc4420\",\"type\":\"GlyphRenderer\"},{\"attributes\":{\"plot\":{\"id\":\"beb2660f-9298-4a5f-a64c-537258a1305e\",\"subtype\":\"Chart\",\"type\":\"Plot\"}},\"id\":\"55593b62-a8d0-45dd-a902-12dbf287a53a\",\"type\":\"WheelZoomTool\"},{\"attributes\":{\"data_source\":{\"id\":\"85b8dc97-7424-4ae2-8916-3261e8f87172\",\"type\":\"ColumnDataSource\"},\"glyph\":{\"id\":\"321a47ff-8514-4645-a572-a378478d56ae\",\"type\":\"Rect\"},\"hover_glyph\":null,\"nonselection_glyph\":null,\"selection_glyph\":null},\"id\":\"23cceeb4-ac85-456a-b614-26325945685b\",\"type\":\"GlyphRenderer\"},{\"attributes\":{\"callback\":null,\"factors\":[\"Jan\",\"Feb\",\"Mar\",\"Apr\",\"May\",\"Jun\",\"Jul\",\"Aug\",\"Sep\",\"Oct\",\"Nov\",\"Dec\"]},\"id\":\"a90f95d9-5364-42fb-b7d8-11837dd6bf6c\",\"type\":\"FactorRange\"},{\"attributes\":{\"callback\":null,\"column_names\":[\"line_color\",\"line_alpha\",\"color\",\"fill_alpha\",\"height\",\"width\",\"y\",\"x\",\"label\"],\"data\":{\"chart_index\":[{\"label\":\"Feb\"}],\"color\":[\"#f22c40\"],\"fill_alpha\":[0.8],\"height\":[316.0],\"label\":[\"Feb\"],\"line_alpha\":[1.0],\"line_color\":[\"white\"],\"width\":[0.8],\"x\":[\"Feb\"],\"y\":[158.0]}},\"id\":\"f2db0fa9-cbc1-4c2b-84de-5e56d6625213\",\"type\":\"ColumnDataSource\"},{\"attributes\":{\"axis_label\":\"Label\",\"formatter\":{\"id\":\"36e5e5c9-7a2c-41bc-a1b0-aaf3b118e95f\",\"type\":\"CategoricalTickFormatter\"},\"major_label_orientation\":0.7853981633974483,\"plot\":{\"id\":\"beb2660f-9298-4a5f-a64c-537258a1305e\",\"subtype\":\"Chart\",\"type\":\"Plot\"},\"ticker\":{\"id\":\"69edc6ec-f253-449c-aba2-4115236112a2\",\"type\":\"CategoricalTicker\"}},\"id\":\"72744dbd-e19f-4cad-b932-d4a0ff2c13e6\",\"type\":\"CategoricalAxis\"},{\"attributes\":{\"callback\":null,\"column_names\":[\"line_color\",\"line_alpha\",\"color\",\"fill_alpha\",\"height\",\"width\",\"y\",\"x\",\"label\"],\"data\":{\"chart_index\":[{\"label\":\"Mar\"}],\"color\":[\"#f22c40\"],\"fill_alpha\":[0.8],\"height\":[226.0],\"label\":[\"Mar\"],\"line_alpha\":[1.0],\"line_color\":[\"white\"],\"width\":[0.8],\"x\":[\"Mar\"],\"y\":[113.0]}},\"id\":\"9609e05c-c6da-461c-910c-d2c6e51b1f5c\",\"type\":\"ColumnDataSource\"},{\"attributes\":{\"active_drag\":\"auto\",\"active_scroll\":\"auto\",\"active_tap\":\"auto\",\"tools\":[{\"id\":\"e2ed6aec-deb4-4d72-8401-0c64f8e78689\",\"type\":\"PanTool\"},{\"id\":\"55593b62-a8d0-45dd-a902-12dbf287a53a\",\"type\":\"WheelZoomTool\"},{\"id\":\"0768eb65-1ca5-4498-85e8-d2945fd44aa2\",\"type\":\"BoxZoomTool\"},{\"id\":\"80166cc8-5810-4233-9404-22340e4d5438\",\"type\":\"SaveTool\"},{\"id\":\"4d1d4a14-da1e-49bb-800b-7735d7845f9a\",\"type\":\"ResetTool\"},{\"id\":\"8de84a3a-96b4-4d5c-8936-4980c9f982aa\",\"type\":\"HelpTool\"}]},\"id\":\"453a4809-46e8-4ec4-a773-a098e66254b0\",\"type\":\"Toolbar\"},{\"attributes\":{\"data_source\":{\"id\":\"91c149b3-2f9a-43f5-bce1-6202c6ba76cc\",\"type\":\"ColumnDataSource\"},\"glyph\":{\"id\":\"081cd905-f418-49c9-abdb-7eb56f1944a3\",\"type\":\"Rect\"},\"hover_glyph\":null,\"nonselection_glyph\":null,\"selection_glyph\":null},\"id\":\"ad2ae73b-0be5-4558-b957-3834531594a8\",\"type\":\"GlyphRenderer\"},{\"attributes\":{\"fill_alpha\":{\"field\":\"fill_alpha\"},\"fill_color\":{\"field\":\"color\"},\"height\":{\"field\":\"height\",\"units\":\"data\"},\"line_color\":{\"field\":\"line_color\"},\"width\":{\"field\":\"width\",\"units\":\"data\"},\"x\":{\"field\":\"x\"},\"y\":{\"field\":\"y\"}},\"id\":\"719fe589-7eb6-4683-9c8b-f66ec270c1fe\",\"type\":\"Rect\"},{\"attributes\":{\"overlay\":{\"id\":\"00bb3d99-a1a9-461e-a0bd-39be1451d25d\",\"type\":\"BoxAnnotation\"},\"plot\":{\"id\":\"beb2660f-9298-4a5f-a64c-537258a1305e\",\"subtype\":\"Chart\",\"type\":\"Plot\"}},\"id\":\"0768eb65-1ca5-4498-85e8-d2945fd44aa2\",\"type\":\"BoxZoomTool\"},{\"attributes\":{\"data_source\":{\"id\":\"9609e05c-c6da-461c-910c-d2c6e51b1f5c\",\"type\":\"ColumnDataSource\"},\"glyph\":{\"id\":\"650d6480-9fc7-4d66-95b8-d1058f5edc4b\",\"type\":\"Rect\"},\"hover_glyph\":null,\"nonselection_glyph\":null,\"selection_glyph\":null},\"id\":\"b40e741f-3967-4dcb-8acb-37dd7b96e6ca\",\"type\":\"GlyphRenderer\"},{\"attributes\":{\"plot\":{\"id\":\"beb2660f-9298-4a5f-a64c-537258a1305e\",\"subtype\":\"Chart\",\"type\":\"Plot\"}},\"id\":\"4d1d4a14-da1e-49bb-800b-7735d7845f9a\",\"type\":\"ResetTool\"},{\"attributes\":{\"fill_alpha\":{\"field\":\"fill_alpha\"},\"fill_color\":{\"field\":\"color\"},\"height\":{\"field\":\"height\",\"units\":\"data\"},\"line_color\":{\"field\":\"line_color\"},\"width\":{\"field\":\"width\",\"units\":\"data\"},\"x\":{\"field\":\"x\"},\"y\":{\"field\":\"y\"}},\"id\":\"f8cc2022-8a80-4397-8907-b8044e5c97df\",\"type\":\"Rect\"},{\"attributes\":{\"fill_alpha\":{\"field\":\"fill_alpha\"},\"fill_color\":{\"field\":\"color\"},\"height\":{\"field\":\"height\",\"units\":\"data\"},\"line_color\":{\"field\":\"line_color\"},\"width\":{\"field\":\"width\",\"units\":\"data\"},\"x\":{\"field\":\"x\"},\"y\":{\"field\":\"y\"}},\"id\":\"63bef0fb-4bfd-43c3-8ce4-bf3a1151f6df\",\"type\":\"Rect\"}],\"root_ids\":[\"beb2660f-9298-4a5f-a64c-537258a1305e\"]},\"title\":\"Bokeh Application\",\"version\":\"0.12.0\"}};\n",
       "            var render_items = [{\"docid\":\"a728f312-4203-4843-a74b-dd1159adaddf\",\"elementid\":\"86fee32e-f804-48f4-8762-418b5055a9a7\",\"modelid\":\"beb2660f-9298-4a5f-a64c-537258a1305e\",\"notebook_comms_target\":\"8a55c9ed-2eb1-4931-b966-da7fd1abe6c1\"}];\n",
       "            \n",
       "            Bokeh.embed.embed_items(docs_json, render_items);\n",
       "        });\n",
       "      },\n",
       "      function(Bokeh) {\n",
       "      }\n",
       "    ];\n",
       "  \n",
       "    function run_inline_js() {\n",
       "      for (var i = 0; i < inline_js.length; i++) {\n",
       "        inline_js[i](window.Bokeh);\n",
       "      }\n",
       "    }\n",
       "  \n",
       "    if (window._bokeh_is_loading === 0) {\n",
       "      console.log(\"Bokeh: BokehJS loaded, going straight to plotting\");\n",
       "      run_inline_js();\n",
       "    } else {\n",
       "      load_libs(js_urls, function() {\n",
       "        console.log(\"Bokeh: BokehJS plotting callback run at\", now());\n",
       "        run_inline_js();\n",
       "      });\n",
       "    }\n",
       "  }(this));\n",
       "</script>"
      ]
     },
     "metadata": {},
     "output_type": "display_data"
    },
    {
     "data": {
      "text/html": [
       "<p><code>&lt;Bokeh Notebook handle for <strong>In[4]</strong>&gt;</code></p>"
      ],
      "text/plain": [
       "<bokeh.io._CommsHandle at 0x7f19b2a6bad0>"
      ]
     },
     "execution_count": 4,
     "metadata": {},
     "output_type": "execute_result"
    }
   ],
   "source": [
    "from bokeh.charts import BoxPlot, Donut, Bar, output_notebook, show\n",
    "from bokeh.charts.attributes import cat\n",
    "sort=False\n",
    "# best support is with data in a format that is table-like\n",
    "data = {\n",
    "    'tweets': tweetsPerMon,\n",
    "    'label' : [\"Jan\", \"Feb\", \"Mar\", \"Apr\", \"May\", \"Jun\", \"Jul\", \"Aug\", \"Sep\", \"Oct\", \"Nov\", \"Dec\"],\n",
    "    'twitter' : [len(twitter) for index, twitter in twitterPerMon.items() ]\n",
    "}\n",
    "print (data)\n",
    "\n",
    "twitter = Bar(data, values='twitter', label=cat(columns='label', sort=False), title=\"Twitter Per Month\")\n",
    "\n",
    "tweet = Bar(data, values='tweets', label=cat(columns='label', sort=False), agg='mean', title=\"Tweets Per Month\")\n",
    "\n",
    "\n",
    "output_notebook()\n",
    "show(twitter)\n",
    "show(tweet)"
   ]
  },
  {
   "cell_type": "code",
   "execution_count": 5,
   "metadata": {
    "collapsed": false
   },
   "outputs": [
    {
     "data": {
      "text/html": [
       "\n",
       "    <div class=\"bk-root\">\n",
       "        <a href=\"http://bokeh.pydata.org\" target=\"_blank\" class=\"bk-logo bk-logo-small bk-logo-notebook\"></a>\n",
       "        <span id=\"d6123b71-9afa-45fb-a8fa-e52c16097582\">Loading BokehJS ...</span>\n",
       "    </div>"
      ]
     },
     "metadata": {},
     "output_type": "display_data"
    },
    {
     "data": {
      "application/javascript": [
       "\n",
       "(function(global) {\n",
       "  function now() {\n",
       "    return new Date();\n",
       "  }\n",
       "\n",
       "  if (typeof (window._bokeh_onload_callbacks) === \"undefined\") {\n",
       "    window._bokeh_onload_callbacks = [];\n",
       "  }\n",
       "\n",
       "  function run_callbacks() {\n",
       "    window._bokeh_onload_callbacks.forEach(function(callback) { callback() });\n",
       "    delete window._bokeh_onload_callbacks\n",
       "    console.info(\"Bokeh: all callbacks have finished\");\n",
       "  }\n",
       "\n",
       "  function load_libs(js_urls, callback) {\n",
       "    window._bokeh_onload_callbacks.push(callback);\n",
       "    if (window._bokeh_is_loading > 0) {\n",
       "      console.log(\"Bokeh: BokehJS is being loaded, scheduling callback at\", now());\n",
       "      return null;\n",
       "    }\n",
       "    if (js_urls == null || js_urls.length === 0) {\n",
       "      run_callbacks();\n",
       "      return null;\n",
       "    }\n",
       "    console.log(\"Bokeh: BokehJS not loaded, scheduling load and callback at\", now());\n",
       "    window._bokeh_is_loading = js_urls.length;\n",
       "    for (var i = 0; i < js_urls.length; i++) {\n",
       "      var url = js_urls[i];\n",
       "      var s = document.createElement('script');\n",
       "      s.src = url;\n",
       "      s.async = false;\n",
       "      s.onreadystatechange = s.onload = function() {\n",
       "        window._bokeh_is_loading--;\n",
       "        if (window._bokeh_is_loading === 0) {\n",
       "          console.log(\"Bokeh: all BokehJS libraries loaded\");\n",
       "          run_callbacks()\n",
       "        }\n",
       "      };\n",
       "      s.onerror = function() {\n",
       "        console.warn(\"failed to load library \" + url);\n",
       "      };\n",
       "      console.log(\"Bokeh: injecting script tag for BokehJS library: \", url);\n",
       "      document.getElementsByTagName(\"head\")[0].appendChild(s);\n",
       "    }\n",
       "  };\n",
       "\n",
       "  var js_urls = ['https://cdn.pydata.org/bokeh/release/bokeh-0.12.0.min.js', 'https://cdn.pydata.org/bokeh/release/bokeh-widgets-0.12.0.min.js', 'https://cdn.pydata.org/bokeh/release/bokeh-compiler-0.12.0.min.js'];\n",
       "\n",
       "  var inline_js = [\n",
       "    function(Bokeh) {\n",
       "      Bokeh.set_log_level(\"info\");\n",
       "    },\n",
       "    \n",
       "    function(Bokeh) {\n",
       "      Bokeh.$(\"#d6123b71-9afa-45fb-a8fa-e52c16097582\").text(\"BokehJS successfully loaded\");\n",
       "    },\n",
       "    function(Bokeh) {\n",
       "      console.log(\"Bokeh: injecting CSS: https://cdn.pydata.org/bokeh/release/bokeh-0.12.0.min.css\");\n",
       "      Bokeh.embed.inject_css(\"https://cdn.pydata.org/bokeh/release/bokeh-0.12.0.min.css\");\n",
       "      console.log(\"Bokeh: injecting CSS: https://cdn.pydata.org/bokeh/release/bokeh-widgets-0.12.0.min.css\");\n",
       "      Bokeh.embed.inject_css(\"https://cdn.pydata.org/bokeh/release/bokeh-widgets-0.12.0.min.css\");\n",
       "    }\n",
       "  ];\n",
       "\n",
       "  function run_inline_js() {\n",
       "    for (var i = 0; i < inline_js.length; i++) {\n",
       "      inline_js[i](window.Bokeh);\n",
       "    }\n",
       "  }\n",
       "\n",
       "  if (window._bokeh_is_loading === 0) {\n",
       "    console.log(\"Bokeh: BokehJS loaded, going straight to plotting\");\n",
       "    run_inline_js();\n",
       "  } else {\n",
       "    load_libs(js_urls, function() {\n",
       "      console.log(\"Bokeh: BokehJS plotting callback run at\", now());\n",
       "      run_inline_js();\n",
       "    });\n",
       "  }\n",
       "}(this));"
      ]
     },
     "metadata": {},
     "output_type": "display_data"
    },
    {
     "data": {
      "text/html": [
       "\n",
       "\n",
       "    <div class=\"bk-root\">\n",
       "        <div class=\"plotdiv\" id=\"4fc5e757-0c19-46ff-911c-8c4334407398\"></div>\n",
       "    </div>\n",
       "<script type=\"text/javascript\">\n",
       "  \n",
       "  (function(global) {\n",
       "    function now() {\n",
       "      return new Date();\n",
       "    }\n",
       "  \n",
       "    if (typeof (window._bokeh_onload_callbacks) === \"undefined\") {\n",
       "      window._bokeh_onload_callbacks = [];\n",
       "    }\n",
       "  \n",
       "    function run_callbacks() {\n",
       "      window._bokeh_onload_callbacks.forEach(function(callback) { callback() });\n",
       "      delete window._bokeh_onload_callbacks\n",
       "      console.info(\"Bokeh: all callbacks have finished\");\n",
       "    }\n",
       "  \n",
       "    function load_libs(js_urls, callback) {\n",
       "      window._bokeh_onload_callbacks.push(callback);\n",
       "      if (window._bokeh_is_loading > 0) {\n",
       "        console.log(\"Bokeh: BokehJS is being loaded, scheduling callback at\", now());\n",
       "        return null;\n",
       "      }\n",
       "      if (js_urls == null || js_urls.length === 0) {\n",
       "        run_callbacks();\n",
       "        return null;\n",
       "      }\n",
       "      console.log(\"Bokeh: BokehJS not loaded, scheduling load and callback at\", now());\n",
       "      window._bokeh_is_loading = js_urls.length;\n",
       "      for (var i = 0; i < js_urls.length; i++) {\n",
       "        var url = js_urls[i];\n",
       "        var s = document.createElement('script');\n",
       "        s.src = url;\n",
       "        s.async = false;\n",
       "        s.onreadystatechange = s.onload = function() {\n",
       "          window._bokeh_is_loading--;\n",
       "          if (window._bokeh_is_loading === 0) {\n",
       "            console.log(\"Bokeh: all BokehJS libraries loaded\");\n",
       "            run_callbacks()\n",
       "          }\n",
       "        };\n",
       "        s.onerror = function() {\n",
       "          console.warn(\"failed to load library \" + url);\n",
       "        };\n",
       "        console.log(\"Bokeh: injecting script tag for BokehJS library: \", url);\n",
       "        document.getElementsByTagName(\"head\")[0].appendChild(s);\n",
       "      }\n",
       "    };var element = document.getElementById(\"4fc5e757-0c19-46ff-911c-8c4334407398\");\n",
       "    if (element == null) {\n",
       "      console.log(\"Bokeh: ERROR: autoload.js configured with elementid '4fc5e757-0c19-46ff-911c-8c4334407398' but no matching script tag was found. \")\n",
       "      return false;\n",
       "    }\n",
       "  \n",
       "    var js_urls = [];\n",
       "  \n",
       "    var inline_js = [\n",
       "      function(Bokeh) {\n",
       "        Bokeh.$(function() {\n",
       "            var docs_json = {\"7c0e1f1b-4db9-4b54-8aaa-0ccf605f9d6c\":{\"roots\":{\"references\":[{\"attributes\":{},\"id\":\"f467fbae-cc25-4308-9b8e-980940c852b8\",\"type\":\"BasicTicker\"},{\"attributes\":{\"below\":[{\"id\":\"889d3abc-844d-4e5e-9dc3-4e79c09afc77\",\"type\":\"LinearAxis\"}],\"left\":[{\"id\":\"38cfe16e-a8b5-4a11-a970-898477b289b3\",\"type\":\"LinearAxis\"}],\"plot_height\":400,\"plot_width\":400,\"renderers\":[{\"id\":\"afcf0d36-e4dc-46b5-9a9c-0b51e734b9b1\",\"type\":\"BoxAnnotation\"},{\"id\":\"000df9ba-4800-411b-b2b6-3fd26b81aef9\",\"type\":\"GlyphRenderer\"},{\"id\":\"d1c8b924-bcba-4792-842a-3524c2e4f9e0\",\"type\":\"GlyphRenderer\"},{\"id\":\"aaef8bfe-4efc-46c5-a676-3299a9a3b7ab\",\"type\":\"Legend\"},{\"id\":\"889d3abc-844d-4e5e-9dc3-4e79c09afc77\",\"type\":\"LinearAxis\"},{\"id\":\"38cfe16e-a8b5-4a11-a970-898477b289b3\",\"type\":\"LinearAxis\"}],\"title\":{\"id\":\"7e290029-9c17-4c48-ba2b-4c1cdb2c829d\",\"type\":\"Title\"},\"tool_events\":{\"id\":\"6dadc94c-88ce-4c18-a5a0-d9f32e9d2e23\",\"type\":\"ToolEvents\"},\"toolbar\":{\"id\":\"1f7f2257-e5de-45d1-bfe2-cf70380abd4e\",\"type\":\"Toolbar\"},\"width\":500,\"x_mapper_type\":\"auto\",\"x_range\":{\"id\":\"4116df3d-d6a1-451b-a8e3-4a8994ea49f9\",\"type\":\"Range1d\"},\"y_mapper_type\":\"auto\",\"y_range\":{\"id\":\"b81f1988-f80d-41e7-86e8-6583f3a78376\",\"type\":\"Range1d\"}},\"id\":\"c71fcf1d-e55c-441c-a155-5affb2d3538c\",\"subtype\":\"Chart\",\"type\":\"Plot\"},{\"attributes\":{\"callback\":null,\"column_names\":[\"y\",\"x\",\"text_angle\",\"text\"],\"data\":{\"text\":[\"haveUrl 78.9638932496%\",\"noUrl 21.0361067504%\"],\"text_angle\":[0.0,0.0],\"x\":[-0.8881416755427829,0.8881416755427824],\"y\":[0.6905283224923205,-0.690528322492321]}},\"id\":\"7674d445-c725-452d-8261-d0995ce61030\",\"type\":\"ColumnDataSource\"},{\"attributes\":{},\"id\":\"e3299680-26b3-470c-8a06-3c56b86b3b0b\",\"type\":\"BasicTicker\"},{\"attributes\":{\"plot\":{\"id\":\"c71fcf1d-e55c-441c-a155-5affb2d3538c\",\"subtype\":\"Chart\",\"type\":\"Plot\"}},\"id\":\"2bdfd160-01e5-42ee-b977-c85213119d9e\",\"type\":\"SaveTool\"},{\"attributes\":{\"plot\":{\"id\":\"c71fcf1d-e55c-441c-a155-5affb2d3538c\",\"subtype\":\"Chart\",\"type\":\"Plot\"}},\"id\":\"c27ff4b2-01a5-4e2e-ade3-87ad83c060f9\",\"type\":\"PanTool\"},{\"attributes\":{\"active_drag\":\"auto\",\"active_scroll\":\"auto\",\"active_tap\":\"auto\",\"tools\":[{\"id\":\"c27ff4b2-01a5-4e2e-ade3-87ad83c060f9\",\"type\":\"PanTool\"},{\"id\":\"540dd480-7d65-4ae3-841d-2d0628b5fe16\",\"type\":\"WheelZoomTool\"},{\"id\":\"92b633d1-72ad-47c5-88ba-d07e314b10f6\",\"type\":\"BoxZoomTool\"},{\"id\":\"2bdfd160-01e5-42ee-b977-c85213119d9e\",\"type\":\"SaveTool\"},{\"id\":\"2f12b712-420d-4f41-98b3-6b98a0037fcb\",\"type\":\"ResetTool\"},{\"id\":\"33d26a42-34b3-4dcb-a5b3-0a181b555235\",\"type\":\"HelpTool\"}]},\"id\":\"1f7f2257-e5de-45d1-bfe2-cf70380abd4e\",\"type\":\"Toolbar\"},{\"attributes\":{\"overlay\":{\"id\":\"afcf0d36-e4dc-46b5-9a9c-0b51e734b9b1\",\"type\":\"BoxAnnotation\"},\"plot\":{\"id\":\"c71fcf1d-e55c-441c-a155-5affb2d3538c\",\"subtype\":\"Chart\",\"type\":\"Plot\"}},\"id\":\"92b633d1-72ad-47c5-88ba-d07e314b10f6\",\"type\":\"BoxZoomTool\"},{\"attributes\":{\"angle\":{\"field\":\"text_angle\",\"units\":\"rad\"},\"text_align\":\"center\",\"text_baseline\":\"middle\",\"text_font_size\":{\"value\":\"13pt\"},\"x\":{\"field\":\"x\"},\"y\":{\"field\":\"y\"}},\"id\":\"205c8793-a086-4cd7-bc57-aa5c2ada1096\",\"type\":\"Text\"},{\"attributes\":{\"axis_label\":null,\"formatter\":{\"id\":\"ec92832f-5d8b-4fad-a365-3e076d67bdb1\",\"type\":\"BasicTickFormatter\"},\"plot\":{\"id\":\"c71fcf1d-e55c-441c-a155-5affb2d3538c\",\"subtype\":\"Chart\",\"type\":\"Plot\"},\"ticker\":{\"id\":\"e3299680-26b3-470c-8a06-3c56b86b3b0b\",\"type\":\"BasicTicker\"},\"visible\":false},\"id\":\"38cfe16e-a8b5-4a11-a970-898477b289b3\",\"type\":\"LinearAxis\"},{\"attributes\":{\"plot\":null,\"text\":null},\"id\":\"7e290029-9c17-4c48-ba2b-4c1cdb2c829d\",\"type\":\"Title\"},{\"attributes\":{\"bottom_units\":\"screen\",\"fill_alpha\":{\"value\":0.5},\"fill_color\":{\"value\":\"lightgrey\"},\"left_units\":\"screen\",\"level\":\"overlay\",\"line_alpha\":{\"value\":1.0},\"line_color\":{\"value\":\"black\"},\"line_dash\":[4,4],\"line_width\":{\"value\":2},\"plot\":null,\"render_mode\":\"css\",\"right_units\":\"screen\",\"top_units\":\"screen\"},\"id\":\"afcf0d36-e4dc-46b5-9a9c-0b51e734b9b1\",\"type\":\"BoxAnnotation\"},{\"attributes\":{\"plot\":{\"id\":\"c71fcf1d-e55c-441c-a155-5affb2d3538c\",\"subtype\":\"Chart\",\"type\":\"Plot\"}},\"id\":\"33d26a42-34b3-4dcb-a5b3-0a181b555235\",\"type\":\"HelpTool\"},{\"attributes\":{},\"id\":\"0111e618-56ad-4218-a1b0-b7c2f374cabe\",\"type\":\"BasicTickFormatter\"},{\"attributes\":{\"data_source\":{\"id\":\"b7172ae5-c09c-4f97-a544-481bfc9d0eb0\",\"type\":\"ColumnDataSource\"},\"glyph\":{\"id\":\"4849848e-f224-4d13-9daa-943a9cab0551\",\"type\":\"AnnularWedge\"},\"hover_glyph\":null,\"nonselection_glyph\":null,\"selection_glyph\":null},\"id\":\"000df9ba-4800-411b-b2b6-3fd26b81aef9\",\"type\":\"GlyphRenderer\"},{\"attributes\":{\"plot\":{\"id\":\"c71fcf1d-e55c-441c-a155-5affb2d3538c\",\"subtype\":\"Chart\",\"type\":\"Plot\"}},\"id\":\"540dd480-7d65-4ae3-841d-2d0628b5fe16\",\"type\":\"WheelZoomTool\"},{\"attributes\":{},\"id\":\"6dadc94c-88ce-4c18-a5a0-d9f32e9d2e23\",\"type\":\"ToolEvents\"},{\"attributes\":{\"axis_label\":null,\"formatter\":{\"id\":\"0111e618-56ad-4218-a1b0-b7c2f374cabe\",\"type\":\"BasicTickFormatter\"},\"plot\":{\"id\":\"c71fcf1d-e55c-441c-a155-5affb2d3538c\",\"subtype\":\"Chart\",\"type\":\"Plot\"},\"ticker\":{\"id\":\"f467fbae-cc25-4308-9b8e-980940c852b8\",\"type\":\"BasicTicker\"},\"visible\":false},\"id\":\"889d3abc-844d-4e5e-9dc3-4e79c09afc77\",\"type\":\"LinearAxis\"},{\"attributes\":{\"data_source\":{\"id\":\"7674d445-c725-452d-8261-d0995ce61030\",\"type\":\"ColumnDataSource\"},\"glyph\":{\"id\":\"205c8793-a086-4cd7-bc57-aa5c2ada1096\",\"type\":\"Text\"},\"hover_glyph\":null,\"nonselection_glyph\":null,\"selection_glyph\":null},\"id\":\"d1c8b924-bcba-4792-842a-3524c2e4f9e0\",\"type\":\"GlyphRenderer\"},{\"attributes\":{\"end_angle\":{\"field\":\"end\",\"units\":\"rad\"},\"fill_alpha\":{\"value\":0.8},\"fill_color\":{\"field\":\"color\"},\"inner_radius\":{\"field\":\"inners\",\"units\":\"data\"},\"line_color\":{\"value\":\"White\"},\"outer_radius\":{\"field\":\"outers\",\"units\":\"data\"},\"start_angle\":{\"field\":\"start\",\"units\":\"rad\"},\"x\":{\"value\":0},\"y\":{\"value\":0}},\"id\":\"4849848e-f224-4d13-9daa-943a9cab0551\",\"type\":\"AnnularWedge\"},{\"attributes\":{\"location\":\"top_left\",\"plot\":{\"id\":\"c71fcf1d-e55c-441c-a155-5affb2d3538c\",\"subtype\":\"Chart\",\"type\":\"Plot\"}},\"id\":\"aaef8bfe-4efc-46c5-a676-3299a9a3b7ab\",\"type\":\"Legend\"},{\"attributes\":{\"callback\":null,\"column_names\":[\"end\",\"inners\",\"level\",\"color\",\"label\",\"start\",\"values\",\"outers\",\"centers\"],\"data\":{\"centers\":[1.125,1.125],\"color\":[\"#f22c40\",\"#5ab738\"],\"end\":[4.961447738636314,6.283185307179586],\"inners\":[0.0,0.0],\"label\":[\"haveUrl 78.9638932496%\",\"noUrl 21.0361067504%\"],\"level\":[0.0,0.0],\"outers\":[1.5,1.5],\"start\":[0.0,4.961447738636314],\"values\":[3018,804]}},\"id\":\"b7172ae5-c09c-4f97-a544-481bfc9d0eb0\",\"type\":\"ColumnDataSource\"},{\"attributes\":{\"callback\":null,\"end\":1.6500000000000001,\"start\":-1.6500000000000001},\"id\":\"4116df3d-d6a1-451b-a8e3-4a8994ea49f9\",\"type\":\"Range1d\"},{\"attributes\":{\"plot\":{\"id\":\"c71fcf1d-e55c-441c-a155-5affb2d3538c\",\"subtype\":\"Chart\",\"type\":\"Plot\"}},\"id\":\"2f12b712-420d-4f41-98b3-6b98a0037fcb\",\"type\":\"ResetTool\"},{\"attributes\":{},\"id\":\"ec92832f-5d8b-4fad-a365-3e076d67bdb1\",\"type\":\"BasicTickFormatter\"},{\"attributes\":{\"callback\":null,\"end\":1.6500000000000001,\"start\":-1.6500000000000001},\"id\":\"b81f1988-f80d-41e7-86e8-6583f3a78376\",\"type\":\"Range1d\"}],\"root_ids\":[\"c71fcf1d-e55c-441c-a155-5affb2d3538c\"]},\"title\":\"Bokeh Application\",\"version\":\"0.12.0\"}};\n",
       "            var render_items = [{\"docid\":\"7c0e1f1b-4db9-4b54-8aaa-0ccf605f9d6c\",\"elementid\":\"4fc5e757-0c19-46ff-911c-8c4334407398\",\"modelid\":\"c71fcf1d-e55c-441c-a155-5affb2d3538c\",\"notebook_comms_target\":\"75dd041f-4e55-4a9b-aab8-231c952298f1\"}];\n",
       "            \n",
       "            Bokeh.embed.embed_items(docs_json, render_items);\n",
       "        });\n",
       "      },\n",
       "      function(Bokeh) {\n",
       "      }\n",
       "    ];\n",
       "  \n",
       "    function run_inline_js() {\n",
       "      for (var i = 0; i < inline_js.length; i++) {\n",
       "        inline_js[i](window.Bokeh);\n",
       "      }\n",
       "    }\n",
       "  \n",
       "    if (window._bokeh_is_loading === 0) {\n",
       "      console.log(\"Bokeh: BokehJS loaded, going straight to plotting\");\n",
       "      run_inline_js();\n",
       "    } else {\n",
       "      load_libs(js_urls, function() {\n",
       "        console.log(\"Bokeh: BokehJS plotting callback run at\", now());\n",
       "        run_inline_js();\n",
       "      });\n",
       "    }\n",
       "  }(this));\n",
       "</script>"
      ]
     },
     "metadata": {},
     "output_type": "display_data"
    },
    {
     "data": {
      "text/html": [
       "<p><code>&lt;Bokeh Notebook handle for <strong>In[5]</strong>&gt;</code></p>"
      ],
      "text/plain": [
       "<bokeh.io._CommsHandle at 0x7f19b2a89cd0>"
      ]
     },
     "execution_count": 5,
     "metadata": {},
     "output_type": "execute_result"
    }
   ],
   "source": [
    "data = {\n",
    "    'label' : ['haveUrl ' + str( float(haveUrl) / len(result) * 100) + \"%\", 'noUrl ' + str( float(noUrl) / len(result) * 100) + \"%\"],\n",
    "    'value' : [haveUrl, noUrl]\n",
    "}\n",
    "\n",
    "\n",
    "pie = Donut(data, label='label', values='value', text_font_size='13pt', width=500)\n",
    "\n",
    "\n",
    "output_notebook()\n",
    "\n",
    "show(pie)"
   ]
  },
  {
   "cell_type": "code",
   "execution_count": 6,
   "metadata": {
    "collapsed": false
   },
   "outputs": [
    {
     "data": {
      "text/plain": [
       "265"
      ]
     },
     "execution_count": 6,
     "metadata": {},
     "output_type": "execute_result"
    }
   ],
   "source": [
    "bq2 = pyes.query.BoolQuery() \n",
    "bq2.add_should(cve)\n",
    "bq2.add_must(rq)\n",
    "justcve = conn.search(query=bq2 , indices='twitter2' , doc_types='tweet')\n",
    "len(justcve)"
   ]
  },
  {
   "cell_type": "code",
   "execution_count": 7,
   "metadata": {
    "collapsed": false
   },
   "outputs": [
    {
     "name": "stdout",
     "output_type": "stream",
     "text": [
      "defaultdict(<type 'list'>, {0: [43130563, 18783289, 15655289, 15655289, 18783289], 1: [17775619, 43130563, 39262054, 39262054, 390189754, 15589731, 43130563, 43130563, 43130563, 19206209, 39262054, 135907568, 14090906, 135907568, 15655289, 8236572, 19206209], 2: [15589731, 15757132, 43130563, 135907568, 15589731, 15589731, 15655289, 19206209, 118059149, 118059149, 118059149, 15637093, 118059149, 118059149, 15581551, 118059149, 39262054, 118059149, 43130563], 3: [43130563, 15589731, 43130563, 18252252, 18789893, 14090906, 18783289, 19206209, 11687162, 19206209, 118059149, 11687162, 118059149, 17767238, 14090906, 118059149, 14415986, 65845659, 43130563, 118059149, 41260072], 4: [15943215, 118059149, 17775619, 15589731, 312383587, 390189754, 118059149, 15655289, 43130563, 23566038, 19206209, 118059149, 43130563, 312383587, 19206209, 390189754, 43130563], 5: [43130563, 15589731, 15943215, 15589731, 15589731, 15589731, 15581551, 41260072, 118059149, 19206209, 118059149, 13089682, 135907568, 15655289, 20492381], 6: [41260072, 43130563, 15589731, 43130563, 41260072, 118059149, 118059149, 14181505, 118059149, 1088411], 7: [43130563, 15581551, 118059149, 19206209, 19206209, 15040971, 118059149, 8236572, 118059149, 14181505, 15589731, 15040971], 8: [51845510, 48443, 23566038, 40706825, 658323, 23566038, 15581551, 15581551, 14090906, 13089682, 390189754, 41260072, 43130563, 18789893, 15943215, 15589731, 15589731, 15589731, 810641, 810641, 43130563, 43130563, 297856522, 18252252, 43130563, 15589731, 297856522, 43130563, 43130563, 100361060, 17767238, 15655289, 14090906, 135907568, 65845659, 118059149, 14090906, 23566038, 118059149, 48443, 118059149, 65845659, 18783289, 16626073, 15943215, 14090906, 813697, 41260072, 18252252, 297856522, 297856522, 15589731, 14181505, 297856522, 219152305], 9: [15943215, 43130563, 43130563, 16626073, 40706825, 17767238, 43130563, 118059149, 43130563, 39262054, 15943215, 15655289, 14181505, 15589731, 43130563, 18252252, 118059149, 15943215, 14090906, 810641, 813697, 43130563, 18789893, 15943215, 43130563, 15943215, 15943215, 14924745, 23566038, 118059149, 43130563, 132778684, 15589731, 1088411, 118059149, 118059149, 118059149, 15589731, 15581551, 51845510, 118059149, 118059149, 43130563, 118059149, 14415986, 15589731, 13089682, 21650546, 17775619, 14090906, 18783289, 810641, 23566038, 3107271, 23566038, 118059149], 10: [43130563, 118059149, 41260072, 41260072, 43130563, 41260072, 18789893, 43130563, 41260072, 118059149, 15589731, 18252252, 15589731, 23566038, 15655289, 43130563, 118059149, 23566038, 118059149, 118059149, 23566038, 118059149, 118059149, 43130563, 97450156, 118059149, 15581551], 11: [43130563, 11791512, 43130563, 14780493, 43130563, 11791512, 43130563, 14924745, 14780493, 48443, 810641]})\n"
     ]
    }
   ],
   "source": [
    "twitterMonthCVE = defaultdict(list)\n",
    "for oneTweet in justcve:\n",
    "    month = int(datetime.datetime.fromtimestamp(oneTweet['created_at_linux_timestamp']/1000).strftime('%Y-%m-%d %H:%M:%S').split('-')[1])\n",
    "    twitterMonthCVE[month - 1].append(oneTweet['user']['id'])\n",
    "print (twitterMonthCVE)"
   ]
  },
  {
   "cell_type": "code",
   "execution_count": 8,
   "metadata": {
    "collapsed": false
   },
   "outputs": [
    {
     "name": "stdout",
     "output_type": "stream",
     "text": [
      "defaultdict(<type 'list'>, {'account': [2, 1, 2, 2, 1, 3, 2, 1, 4, 1, 1, 1, 1, 1, 3, 1, 1, 1, 7, 1, 1, 2, 1, 2, 1, 1, 1, 1, 4, 1, 3, 1, 2, 1, 1, 2, 1, 2, 1, 2, 3, 1, 3, 1, 1, 2, 1, 4, 1, 2, 1, 1, 1, 1, 1, 1, 1, 1, 2, 2, 1, 1, 3, 2, 1, 1, 2, 3, 1, 1, 1, 1, 6, 1, 1, 1, 1, 5, 3, 2, 2, 1, 1, 3, 1, 1, 4, 2, 2, 5, 1, 1, 2, 2, 1, 1, 1, 1, 2, 1, 1, 1, 1, 1, 1, 10, 1, 2, 1, 9, 3, 1, 1, 2, 1, 1, 4, 1, 1, 1, 1, 6, 1, 1, 1, 1, 5, 1, 4, 1, 8, 1, 2, 3, 1, 1, 1, 4, 2, 1, 1, 2], 'month': [1, 1, 1, 2, 2, 2, 2, 2, 2, 2, 2, 2, 2, 3, 3, 3, 3, 3, 3, 3, 3, 3, 3, 4, 4, 4, 4, 4, 4, 4, 4, 4, 4, 4, 4, 4, 5, 5, 5, 5, 5, 5, 5, 5, 5, 5, 6, 6, 6, 6, 6, 6, 6, 6, 6, 6, 6, 7, 7, 7, 7, 7, 7, 8, 8, 8, 8, 8, 8, 8, 8, 9, 9, 9, 9, 9, 9, 9, 9, 9, 9, 9, 9, 9, 9, 9, 9, 9, 9, 9, 9, 9, 9, 9, 9, 9, 9, 9, 9, 10, 10, 10, 10, 10, 10, 10, 10, 10, 10, 10, 10, 10, 10, 10, 10, 10, 10, 10, 10, 10, 10, 10, 10, 10, 10, 10, 11, 11, 11, 11, 11, 11, 11, 11, 11, 11, 12, 12, 12, 12, 12, 12]})\n"
     ]
    }
   ],
   "source": [
    "from collections import Counter\n",
    "twitterMonthCountCVE = defaultdict(list)\n",
    "for key, values in twitterMonthCVE.items():\n",
    "    twitterMonthCountCVE['month'] += [key + 1] * len(dict(Counter(values)).values())\n",
    "    twitterMonthCountCVE['account'] += dict(Counter(values)).values()\n",
    "print (twitterMonthCountCVE)"
   ]
  },
  {
   "cell_type": "code",
   "execution_count": 9,
   "metadata": {
    "collapsed": false
   },
   "outputs": [
    {
     "data": {
      "text/html": [
       "\n",
       "    <div class=\"bk-root\">\n",
       "        <a href=\"http://bokeh.pydata.org\" target=\"_blank\" class=\"bk-logo bk-logo-small bk-logo-notebook\"></a>\n",
       "        <span id=\"2edee9d6-eb4b-4526-9f1b-2d77032adcb0\">Loading BokehJS ...</span>\n",
       "    </div>"
      ]
     },
     "metadata": {},
     "output_type": "display_data"
    },
    {
     "data": {
      "application/javascript": [
       "\n",
       "(function(global) {\n",
       "  function now() {\n",
       "    return new Date();\n",
       "  }\n",
       "\n",
       "  if (typeof (window._bokeh_onload_callbacks) === \"undefined\") {\n",
       "    window._bokeh_onload_callbacks = [];\n",
       "  }\n",
       "\n",
       "  function run_callbacks() {\n",
       "    window._bokeh_onload_callbacks.forEach(function(callback) { callback() });\n",
       "    delete window._bokeh_onload_callbacks\n",
       "    console.info(\"Bokeh: all callbacks have finished\");\n",
       "  }\n",
       "\n",
       "  function load_libs(js_urls, callback) {\n",
       "    window._bokeh_onload_callbacks.push(callback);\n",
       "    if (window._bokeh_is_loading > 0) {\n",
       "      console.log(\"Bokeh: BokehJS is being loaded, scheduling callback at\", now());\n",
       "      return null;\n",
       "    }\n",
       "    if (js_urls == null || js_urls.length === 0) {\n",
       "      run_callbacks();\n",
       "      return null;\n",
       "    }\n",
       "    console.log(\"Bokeh: BokehJS not loaded, scheduling load and callback at\", now());\n",
       "    window._bokeh_is_loading = js_urls.length;\n",
       "    for (var i = 0; i < js_urls.length; i++) {\n",
       "      var url = js_urls[i];\n",
       "      var s = document.createElement('script');\n",
       "      s.src = url;\n",
       "      s.async = false;\n",
       "      s.onreadystatechange = s.onload = function() {\n",
       "        window._bokeh_is_loading--;\n",
       "        if (window._bokeh_is_loading === 0) {\n",
       "          console.log(\"Bokeh: all BokehJS libraries loaded\");\n",
       "          run_callbacks()\n",
       "        }\n",
       "      };\n",
       "      s.onerror = function() {\n",
       "        console.warn(\"failed to load library \" + url);\n",
       "      };\n",
       "      console.log(\"Bokeh: injecting script tag for BokehJS library: \", url);\n",
       "      document.getElementsByTagName(\"head\")[0].appendChild(s);\n",
       "    }\n",
       "  };\n",
       "\n",
       "  var js_urls = ['https://cdn.pydata.org/bokeh/release/bokeh-0.12.0.min.js', 'https://cdn.pydata.org/bokeh/release/bokeh-widgets-0.12.0.min.js', 'https://cdn.pydata.org/bokeh/release/bokeh-compiler-0.12.0.min.js'];\n",
       "\n",
       "  var inline_js = [\n",
       "    function(Bokeh) {\n",
       "      Bokeh.set_log_level(\"info\");\n",
       "    },\n",
       "    \n",
       "    function(Bokeh) {\n",
       "      Bokeh.$(\"#2edee9d6-eb4b-4526-9f1b-2d77032adcb0\").text(\"BokehJS successfully loaded\");\n",
       "    },\n",
       "    function(Bokeh) {\n",
       "      console.log(\"Bokeh: injecting CSS: https://cdn.pydata.org/bokeh/release/bokeh-0.12.0.min.css\");\n",
       "      Bokeh.embed.inject_css(\"https://cdn.pydata.org/bokeh/release/bokeh-0.12.0.min.css\");\n",
       "      console.log(\"Bokeh: injecting CSS: https://cdn.pydata.org/bokeh/release/bokeh-widgets-0.12.0.min.css\");\n",
       "      Bokeh.embed.inject_css(\"https://cdn.pydata.org/bokeh/release/bokeh-widgets-0.12.0.min.css\");\n",
       "    }\n",
       "  ];\n",
       "\n",
       "  function run_inline_js() {\n",
       "    for (var i = 0; i < inline_js.length; i++) {\n",
       "      inline_js[i](window.Bokeh);\n",
       "    }\n",
       "  }\n",
       "\n",
       "  if (window._bokeh_is_loading === 0) {\n",
       "    console.log(\"Bokeh: BokehJS loaded, going straight to plotting\");\n",
       "    run_inline_js();\n",
       "  } else {\n",
       "    load_libs(js_urls, function() {\n",
       "      console.log(\"Bokeh: BokehJS plotting callback run at\", now());\n",
       "      run_inline_js();\n",
       "    });\n",
       "  }\n",
       "}(this));"
      ]
     },
     "metadata": {},
     "output_type": "display_data"
    },
    {
     "data": {
      "text/html": [
       "\n",
       "\n",
       "    <div class=\"bk-root\">\n",
       "        <div class=\"plotdiv\" id=\"ec602afe-6795-476f-95a5-b935cee1466c\"></div>\n",
       "    </div>\n",
       "<script type=\"text/javascript\">\n",
       "  \n",
       "  (function(global) {\n",
       "    function now() {\n",
       "      return new Date();\n",
       "    }\n",
       "  \n",
       "    if (typeof (window._bokeh_onload_callbacks) === \"undefined\") {\n",
       "      window._bokeh_onload_callbacks = [];\n",
       "    }\n",
       "  \n",
       "    function run_callbacks() {\n",
       "      window._bokeh_onload_callbacks.forEach(function(callback) { callback() });\n",
       "      delete window._bokeh_onload_callbacks\n",
       "      console.info(\"Bokeh: all callbacks have finished\");\n",
       "    }\n",
       "  \n",
       "    function load_libs(js_urls, callback) {\n",
       "      window._bokeh_onload_callbacks.push(callback);\n",
       "      if (window._bokeh_is_loading > 0) {\n",
       "        console.log(\"Bokeh: BokehJS is being loaded, scheduling callback at\", now());\n",
       "        return null;\n",
       "      }\n",
       "      if (js_urls == null || js_urls.length === 0) {\n",
       "        run_callbacks();\n",
       "        return null;\n",
       "      }\n",
       "      console.log(\"Bokeh: BokehJS not loaded, scheduling load and callback at\", now());\n",
       "      window._bokeh_is_loading = js_urls.length;\n",
       "      for (var i = 0; i < js_urls.length; i++) {\n",
       "        var url = js_urls[i];\n",
       "        var s = document.createElement('script');\n",
       "        s.src = url;\n",
       "        s.async = false;\n",
       "        s.onreadystatechange = s.onload = function() {\n",
       "          window._bokeh_is_loading--;\n",
       "          if (window._bokeh_is_loading === 0) {\n",
       "            console.log(\"Bokeh: all BokehJS libraries loaded\");\n",
       "            run_callbacks()\n",
       "          }\n",
       "        };\n",
       "        s.onerror = function() {\n",
       "          console.warn(\"failed to load library \" + url);\n",
       "        };\n",
       "        console.log(\"Bokeh: injecting script tag for BokehJS library: \", url);\n",
       "        document.getElementsByTagName(\"head\")[0].appendChild(s);\n",
       "      }\n",
       "    };var element = document.getElementById(\"ec602afe-6795-476f-95a5-b935cee1466c\");\n",
       "    if (element == null) {\n",
       "      console.log(\"Bokeh: ERROR: autoload.js configured with elementid 'ec602afe-6795-476f-95a5-b935cee1466c' but no matching script tag was found. \")\n",
       "      return false;\n",
       "    }\n",
       "  \n",
       "    var js_urls = [];\n",
       "  \n",
       "    var inline_js = [\n",
       "      function(Bokeh) {\n",
       "        Bokeh.$(function() {\n",
       "            var docs_json = {\"0fb9e8d1-eed7-4c1f-9db0-c2223cbb0d3c\":{\"roots\":{\"references\":[{\"attributes\":{\"line_width\":{\"value\":2},\"x0\":{\"field\":\"x0s\"},\"x1\":{\"field\":\"x1s\"},\"y0\":{\"field\":\"y0s\"},\"y1\":{\"field\":\"y1s\"}},\"id\":\"4ae87ef3-9dca-48c8-a7cd-d862a452ab37\",\"type\":\"Segment\"},{\"attributes\":{\"callback\":null,\"column_names\":[\"line_color\",\"line_alpha\",\"color\",\"fill_alpha\",\"height\",\"width\",\"y\",\"x\",\"label\"],\"data\":{\"chart_index\":[{\"month\":6}],\"color\":[\"DimGrey\"],\"fill_alpha\":[0.8],\"height\":[0.0],\"label\":[{\"month\":6}],\"line_alpha\":[1.0],\"line_color\":[\"black\"],\"month\":[6],\"width\":[0.8],\"x\":[\"6\"],\"y\":[1.0]}},\"id\":\"1900e84c-237a-4bd2-8b42-0616c5c3b8da\",\"type\":\"ColumnDataSource\"},{\"attributes\":{\"line_width\":{\"value\":2},\"x0\":{\"field\":\"x0s\"},\"x1\":{\"field\":\"x1s\"},\"y0\":{\"field\":\"y0s\"},\"y1\":{\"field\":\"y1s\"}},\"id\":\"6c8251c8-7452-4cd9-b413-9bb14f9f2924\",\"type\":\"Segment\"},{\"attributes\":{\"callback\":null,\"column_names\":[\"x_values\",\"y_values\"],\"data\":{\"chart_index\":[{\"month\":9},{\"month\":9},{\"month\":9},{\"month\":9}],\"month\":[9,9,9,9],\"x_values\":[\"9:0.5\",\"9:0.5\",\"9:0.5\",\"9:0.5\"],\"y_values\":[6,5,4,5]}},\"id\":\"cb722bfc-39e3-4f07-950e-67203a58261d\",\"type\":\"ColumnDataSource\"},{\"attributes\":{\"data_source\":{\"id\":\"278dae65-9250-4e64-99c7-746ed6d078ec\",\"type\":\"ColumnDataSource\"},\"glyph\":{\"id\":\"d9cbd704-88bd-4d35-bf42-65fa4119220e\",\"type\":\"Rect\"},\"hover_glyph\":null,\"nonselection_glyph\":null,\"selection_glyph\":null},\"id\":\"f028cbd8-a6a2-4ecd-b324-5422f3567169\",\"type\":\"GlyphRenderer\"},{\"attributes\":{\"data_source\":{\"id\":\"e0aeefc1-e080-44dd-821a-27dd0381d964\",\"type\":\"ColumnDataSource\"},\"glyph\":{\"id\":\"6f8408aa-4a4b-4b51-b49c-4c120fb588a4\",\"type\":\"Rect\"},\"hover_glyph\":null,\"nonselection_glyph\":null,\"selection_glyph\":null},\"id\":\"e07552fa-7935-4510-97c3-bfef025b6334\",\"type\":\"GlyphRenderer\"},{\"attributes\":{\"fill_alpha\":{\"field\":\"fill_alpha\"},\"fill_color\":{\"field\":\"color\"},\"height\":{\"field\":\"height\",\"units\":\"data\"},\"line_color\":{\"field\":\"line_color\"},\"width\":{\"field\":\"width\",\"units\":\"data\"},\"x\":{\"field\":\"x\"},\"y\":{\"field\":\"y\"}},\"id\":\"98af2164-35e3-441d-8069-0f1fa4ca8594\",\"type\":\"Rect\"},{\"attributes\":{\"data_source\":{\"id\":\"2bb434f1-0ac7-4b80-a5b3-0d31577113c2\",\"type\":\"ColumnDataSource\"},\"glyph\":{\"id\":\"7260016e-c895-4240-b727-665045308247\",\"type\":\"Segment\"},\"hover_glyph\":null,\"nonselection_glyph\":null,\"selection_glyph\":null},\"id\":\"82420246-8a2d-4ba0-a259-e38705f21af2\",\"type\":\"GlyphRenderer\"},{\"attributes\":{\"callback\":null,\"column_names\":[\"x0s\",\"y0s\",\"x1s\",\"y1s\"],\"data\":{\"chart_index\":[{\"month\":6},{\"month\":6},{\"month\":6},{\"month\":6}],\"month\":[6,6,6,6],\"x0s\":[\"6:0.5\",\"6:0.65\",\"6:0.5\",\"6:0.65\"],\"x1s\":[\"6:0.5\",\"6:0.35\",\"6:0.5\",\"6:0.35\"],\"y0s\":[1.0,1.0,1.0,1.0],\"y1s\":[1.0,1.0,1.0,1.0]}},\"id\":\"2eaee8bc-998b-4cd9-860e-2028fd0af324\",\"type\":\"ColumnDataSource\"},{\"attributes\":{\"callback\":null,\"column_names\":[\"x_values\",\"y_values\"],\"data\":{\"chart_index\":[{\"month\":10},{\"month\":10},{\"month\":10},{\"month\":10},{\"month\":10}],\"month\":[10,10,10,10,10],\"x_values\":[\"10:0.5\",\"10:0.5\",\"10:0.5\",\"10:0.5\",\"10:0.5\"],\"y_values\":[10,9,3,4,6]}},\"id\":\"b089bfcf-8201-48e7-b5bf-11790814a2cf\",\"type\":\"ColumnDataSource\"},{\"attributes\":{\"data_source\":{\"id\":\"5dff48e6-208e-437d-a024-07555c2cdca7\",\"type\":\"ColumnDataSource\"},\"glyph\":{\"id\":\"f2bc0e54-15df-4faa-9774-6a81f9dd1b28\",\"type\":\"Rect\"},\"hover_glyph\":null,\"nonselection_glyph\":null,\"selection_glyph\":null},\"id\":\"d2f52314-f3c1-4d6c-a774-2f2be69d2c2e\",\"type\":\"GlyphRenderer\"},{\"attributes\":{\"bottom_units\":\"screen\",\"fill_alpha\":{\"value\":0.5},\"fill_color\":{\"value\":\"lightgrey\"},\"left_units\":\"screen\",\"level\":\"overlay\",\"line_alpha\":{\"value\":1.0},\"line_color\":{\"value\":\"black\"},\"line_dash\":[4,4],\"line_width\":{\"value\":2},\"plot\":null,\"render_mode\":\"css\",\"right_units\":\"screen\",\"top_units\":\"screen\"},\"id\":\"4ff56970-a98a-440b-b0c6-9cd258ad0a2d\",\"type\":\"BoxAnnotation\"},{\"attributes\":{\"data_source\":{\"id\":\"a568a0f0-7afe-401a-a073-0cd17d44fdaa\",\"type\":\"ColumnDataSource\"},\"glyph\":{\"id\":\"4358b997-1770-46c1-9d1d-023010155065\",\"type\":\"Rect\"},\"hover_glyph\":null,\"nonselection_glyph\":null,\"selection_glyph\":null},\"id\":\"1f76afc8-a786-4041-8630-f18f02a986b3\",\"type\":\"GlyphRenderer\"},{\"attributes\":{\"line_width\":{\"value\":2},\"x0\":{\"field\":\"x0s\"},\"x1\":{\"field\":\"x1s\"},\"y0\":{\"field\":\"y0s\"},\"y1\":{\"field\":\"y1s\"}},\"id\":\"26f9849f-79e0-46ff-addf-e6f20b0c8019\",\"type\":\"Segment\"},{\"attributes\":{\"line_width\":{\"value\":2},\"x0\":{\"field\":\"x0s\"},\"x1\":{\"field\":\"x1s\"},\"y0\":{\"field\":\"y0s\"},\"y1\":{\"field\":\"y1s\"}},\"id\":\"2a49c870-a919-41df-a60e-af6e55d8b742\",\"type\":\"Segment\"},{\"attributes\":{\"callback\":null,\"column_names\":[\"line_color\",\"line_alpha\",\"color\",\"fill_alpha\",\"height\",\"width\",\"y\",\"x\",\"label\"],\"data\":{\"chart_index\":[{\"month\":9}],\"color\":[\"DimGrey\"],\"fill_alpha\":[0.8],\"height\":[0.0],\"label\":[{\"month\":9}],\"line_alpha\":[1.0],\"line_color\":[\"black\"],\"month\":[9],\"width\":[0.8],\"x\":[\"9\"],\"y\":[1.0]}},\"id\":\"e0aeefc1-e080-44dd-821a-27dd0381d964\",\"type\":\"ColumnDataSource\"},{\"attributes\":{\"line_width\":{\"value\":2},\"x0\":{\"field\":\"x0s\"},\"x1\":{\"field\":\"x1s\"},\"y0\":{\"field\":\"y0s\"},\"y1\":{\"field\":\"y1s\"}},\"id\":\"7260016e-c895-4240-b727-665045308247\",\"type\":\"Segment\"},{\"attributes\":{\"fill_alpha\":{\"value\":0.7},\"fill_color\":{\"value\":\"red\"},\"line_color\":{\"value\":\"red\"},\"size\":{\"units\":\"screen\",\"value\":5},\"x\":{\"field\":\"x_values\"},\"y\":{\"field\":\"y_values\"}},\"id\":\"c55eaece-b1ca-4a20-9381-fdfb9f3a1f5d\",\"type\":\"Circle\"},{\"attributes\":{\"overlay\":{\"id\":\"4ff56970-a98a-440b-b0c6-9cd258ad0a2d\",\"type\":\"BoxAnnotation\"},\"plot\":{\"id\":\"31a64318-4d44-4b6e-b262-32e09ad309cf\",\"subtype\":\"Chart\",\"type\":\"Plot\"}},\"id\":\"b4d0148f-5123-4a52-9112-1345e8099c1f\",\"type\":\"BoxZoomTool\"},{\"attributes\":{\"callback\":null,\"column_names\":[\"line_color\",\"line_alpha\",\"color\",\"fill_alpha\",\"height\",\"width\",\"y\",\"x\",\"label\"],\"data\":{\"chart_index\":[{\"month\":6}],\"color\":[\"DimGrey\"],\"fill_alpha\":[0.8],\"height\":[0.0],\"label\":[{\"month\":6}],\"line_alpha\":[1.0],\"line_color\":[\"black\"],\"month\":[6],\"width\":[0.8],\"x\":[\"6\"],\"y\":[1.0]}},\"id\":\"574ea0d7-6418-4ab3-af99-e01bcc47393a\",\"type\":\"ColumnDataSource\"},{\"attributes\":{\"data_source\":{\"id\":\"3285b401-8ca1-45ef-ba1d-eedf03ce4aa8\",\"type\":\"ColumnDataSource\"},\"glyph\":{\"id\":\"605ec881-f52b-4cee-89ea-e9872241f5d9\",\"type\":\"Rect\"},\"hover_glyph\":null,\"nonselection_glyph\":null,\"selection_glyph\":null},\"id\":\"b88be27c-c878-427f-9ec1-8636761e2dae\",\"type\":\"GlyphRenderer\"},{\"attributes\":{\"callback\":null,\"column_names\":[\"x_values\",\"y_values\"],\"data\":{\"chart_index\":[{\"month\":3},{\"month\":3}],\"month\":[3,3],\"x_values\":[\"3:0.5\",\"3:0.5\"],\"y_values\":[3,7]}},\"id\":\"2b5b61d4-4792-4741-8aa1-182d2fcf2cbe\",\"type\":\"ColumnDataSource\"},{\"attributes\":{\"line_width\":{\"value\":2},\"x0\":{\"field\":\"x0s\"},\"x1\":{\"field\":\"x1s\"},\"y0\":{\"field\":\"y0s\"},\"y1\":{\"field\":\"y1s\"}},\"id\":\"8a5ca06b-db3e-457c-8b7f-9ff9e0d59bac\",\"type\":\"Segment\"},{\"attributes\":{\"data_source\":{\"id\":\"16ac339f-db21-4278-8e6d-b3d8f4956839\",\"type\":\"ColumnDataSource\"},\"glyph\":{\"id\":\"54157d1a-01f6-43f6-bb73-78535a63e628\",\"type\":\"Rect\"},\"hover_glyph\":null,\"nonselection_glyph\":null,\"selection_glyph\":null},\"id\":\"2cbf5f98-8da2-4890-a755-020d0d501169\",\"type\":\"GlyphRenderer\"},{\"attributes\":{\"callback\":null,\"column_names\":[\"x0s\",\"y0s\",\"x1s\",\"y1s\"],\"data\":{\"chart_index\":[{\"month\":8},{\"month\":8},{\"month\":8},{\"month\":8}],\"month\":[8,8,8,8],\"x0s\":[\"8:0.5\",\"8:0.65\",\"8:0.5\",\"8:0.65\"],\"x1s\":[\"8:0.5\",\"8:0.35\",\"8:0.5\",\"8:0.35\"],\"y0s\":[1.0,1.0,2.0,3.0],\"y1s\":[1.0,1.0,3.0,3.0]}},\"id\":\"5662716b-04a2-40d7-a49a-26d93d0df680\",\"type\":\"ColumnDataSource\"},{\"attributes\":{\"fill_alpha\":{\"field\":\"fill_alpha\"},\"fill_color\":{\"field\":\"color\"},\"height\":{\"field\":\"height\",\"units\":\"data\"},\"line_color\":{\"field\":\"line_color\"},\"width\":{\"field\":\"width\",\"units\":\"data\"},\"x\":{\"field\":\"x\"},\"y\":{\"field\":\"y\"}},\"id\":\"d9cbd704-88bd-4d35-bf42-65fa4119220e\",\"type\":\"Rect\"},{\"attributes\":{\"callback\":null,\"column_names\":[\"line_color\",\"line_alpha\",\"color\",\"fill_alpha\",\"height\",\"width\",\"y\",\"x\",\"label\"],\"data\":{\"chart_index\":[{\"month\":8}],\"color\":[\"DimGrey\"],\"fill_alpha\":[0.8],\"height\":[0.0],\"label\":[{\"month\":8}],\"line_alpha\":[1.0],\"line_color\":[\"black\"],\"month\":[8],\"width\":[0.8],\"x\":[\"8\"],\"y\":[1.0]}},\"id\":\"f45770fb-0fa2-4767-a5b9-0359b0d9528f\",\"type\":\"ColumnDataSource\"},{\"attributes\":{\"data_source\":{\"id\":\"c21233fb-ee62-440a-8456-abc4eed29b5a\",\"type\":\"ColumnDataSource\"},\"glyph\":{\"id\":\"c142de70-f848-464c-bb4c-3e9b21ed3f76\",\"type\":\"Rect\"},\"hover_glyph\":null,\"nonselection_glyph\":null,\"selection_glyph\":null},\"id\":\"f276319f-7759-4615-9c34-a7866c57d91c\",\"type\":\"GlyphRenderer\"},{\"attributes\":{\"fill_alpha\":{\"field\":\"fill_alpha\"},\"fill_color\":{\"field\":\"color\"},\"height\":{\"field\":\"height\",\"units\":\"data\"},\"line_color\":{\"field\":\"line_color\"},\"width\":{\"field\":\"width\",\"units\":\"data\"},\"x\":{\"field\":\"x\"},\"y\":{\"field\":\"y\"}},\"id\":\"6da8744b-4be4-4c24-8fc6-e6e219bcc70a\",\"type\":\"Rect\"},{\"attributes\":{\"callback\":null,\"column_names\":[\"x0s\",\"y0s\",\"x1s\",\"y1s\"],\"data\":{\"chart_index\":[{\"month\":5},{\"month\":5},{\"month\":5},{\"month\":5}],\"month\":[5,5,5,5],\"x0s\":[\"5:0.5\",\"5:0.65\",\"5:0.5\",\"5:0.65\"],\"x1s\":[\"5:0.5\",\"5:0.35\",\"5:0.5\",\"5:0.35\"],\"y0s\":[1.0,1.0,2.0,3.0],\"y1s\":[1.0,1.0,3.0,3.0]}},\"id\":\"c5a8c2f4-e7d6-45cb-9727-e7e9ce7eb229\",\"type\":\"ColumnDataSource\"},{\"attributes\":{\"callback\":null,\"factors\":[\"1\",\"2\",\"3\",\"4\",\"5\",\"6\",\"7\",\"8\",\"9\",\"10\",\"11\",\"12\"]},\"id\":\"357567ba-97bd-4cd1-800d-43476d8db2ef\",\"type\":\"FactorRange\"},{\"attributes\":{\"data_source\":{\"id\":\"2b5b61d4-4792-4741-8aa1-182d2fcf2cbe\",\"type\":\"ColumnDataSource\"},\"glyph\":{\"id\":\"9b185dab-c225-4bd3-a541-adc9e66dc538\",\"type\":\"Circle\"},\"hover_glyph\":null,\"nonselection_glyph\":null,\"selection_glyph\":null},\"id\":\"c3831ba5-f4d5-435e-bddb-64862ebcdd4b\",\"type\":\"GlyphRenderer\"},{\"attributes\":{\"callback\":null,\"column_names\":[\"line_color\",\"line_alpha\",\"color\",\"fill_alpha\",\"height\",\"width\",\"y\",\"x\",\"label\"],\"data\":{\"chart_index\":[{\"month\":10}],\"color\":[\"DimGrey\"],\"fill_alpha\":[0.8],\"height\":[0.5],\"label\":[{\"month\":10}],\"line_alpha\":[1.0],\"line_color\":[\"black\"],\"month\":[10],\"width\":[0.8],\"x\":[\"10\"],\"y\":[1.25]}},\"id\":\"16ac339f-db21-4278-8e6d-b3d8f4956839\",\"type\":\"ColumnDataSource\"},{\"attributes\":{\"data_source\":{\"id\":\"3913d336-91cc-49ab-88b4-7af94779c256\",\"type\":\"ColumnDataSource\"},\"glyph\":{\"id\":\"aaa8506b-8859-4d60-89fe-da3fe7cdcd1c\",\"type\":\"Circle\"},\"hover_glyph\":null,\"nonselection_glyph\":null,\"selection_glyph\":null},\"id\":\"817cc6a9-361a-4d41-a4a5-10ca7ce3f896\",\"type\":\"GlyphRenderer\"},{\"attributes\":{\"fill_alpha\":{\"value\":0.7},\"fill_color\":{\"value\":\"red\"},\"line_color\":{\"value\":\"red\"},\"size\":{\"units\":\"screen\",\"value\":5},\"x\":{\"field\":\"x_values\"},\"y\":{\"field\":\"y_values\"}},\"id\":\"fac45329-9372-4697-8aa5-f9130c0330af\",\"type\":\"Circle\"},{\"attributes\":{\"line_width\":{\"value\":2},\"x0\":{\"field\":\"x0s\"},\"x1\":{\"field\":\"x1s\"},\"y0\":{\"field\":\"y0s\"},\"y1\":{\"field\":\"y1s\"}},\"id\":\"d1ab388d-c0c1-407c-b29e-fb708b0a4d1f\",\"type\":\"Segment\"},{\"attributes\":{\"callback\":null,\"column_names\":[\"x0s\",\"y0s\",\"x1s\",\"y1s\"],\"data\":{\"chart_index\":[{\"month\":9},{\"month\":9},{\"month\":9},{\"month\":9}],\"month\":[9,9,9,9],\"x0s\":[\"9:0.5\",\"9:0.65\",\"9:0.5\",\"9:0.65\"],\"x1s\":[\"9:0.5\",\"9:0.35\",\"9:0.5\",\"9:0.35\"],\"y0s\":[1.0,1.0,2.0,3.5],\"y1s\":[1.0,1.0,3.5,3.5]}},\"id\":\"789b8033-f43b-42d7-a9d4-f7e0c15a9683\",\"type\":\"ColumnDataSource\"},{\"attributes\":{\"data_source\":{\"id\":\"a21e0b17-0d38-4b9d-baa2-3d13fe6d7bc0\",\"type\":\"ColumnDataSource\"},\"glyph\":{\"id\":\"2a71e367-1a74-4199-8f51-2e716f1e8138\",\"type\":\"Rect\"},\"hover_glyph\":null,\"nonselection_glyph\":null,\"selection_glyph\":null},\"id\":\"7d012dc3-afea-4425-8acf-c21444ecc4e7\",\"type\":\"GlyphRenderer\"},{\"attributes\":{\"fill_alpha\":{\"field\":\"fill_alpha\"},\"fill_color\":{\"field\":\"color\"},\"height\":{\"field\":\"height\",\"units\":\"data\"},\"line_color\":{\"field\":\"line_color\"},\"width\":{\"field\":\"width\",\"units\":\"data\"},\"x\":{\"field\":\"x\"},\"y\":{\"field\":\"y\"}},\"id\":\"2c805a6a-5c17-482f-b341-f158ab8175a4\",\"type\":\"Rect\"},{\"attributes\":{\"data_source\":{\"id\":\"5f6a1676-e506-4342-9837-d5010dc0ac2d\",\"type\":\"ColumnDataSource\"},\"glyph\":{\"id\":\"41eb5cd5-7dc2-417f-8852-740eef7105a7\",\"type\":\"Rect\"},\"hover_glyph\":null,\"nonselection_glyph\":null,\"selection_glyph\":null},\"id\":\"c1f05032-eb5c-4e3d-a261-7b66b5672aef\",\"type\":\"GlyphRenderer\"},{\"attributes\":{\"callback\":null,\"column_names\":[\"x_values\",\"y_values\"],\"data\":{\"chart_index\":[{\"month\":6},{\"month\":6}],\"month\":[6,6],\"x_values\":[\"6:0.5\",\"6:0.5\"],\"y_values\":[4,2]}},\"id\":\"dac7a30f-8b69-4ba6-87ae-cc0d62d43cd7\",\"type\":\"ColumnDataSource\"},{\"attributes\":{},\"id\":\"b61de33f-51fa-4035-9e54-1d539056b956\",\"type\":\"BasicTickFormatter\"},{\"attributes\":{\"data_source\":{\"id\":\"638d9894-80f6-4501-a458-e8625c0b2e24\",\"type\":\"ColumnDataSource\"},\"glyph\":{\"id\":\"fac45329-9372-4697-8aa5-f9130c0330af\",\"type\":\"Circle\"},\"hover_glyph\":null,\"nonselection_glyph\":null,\"selection_glyph\":null},\"id\":\"1e23b06d-7a99-44cd-8df4-cb593f151fb3\",\"type\":\"GlyphRenderer\"},{\"attributes\":{\"data_source\":{\"id\":\"f45770fb-0fa2-4767-a5b9-0359b0d9528f\",\"type\":\"ColumnDataSource\"},\"glyph\":{\"id\":\"96fd98a6-c0a9-4f15-8019-d5363aebc06f\",\"type\":\"Rect\"},\"hover_glyph\":null,\"nonselection_glyph\":null,\"selection_glyph\":null},\"id\":\"e6f62f1c-4b82-46d3-a9d4-ba3ce17b2b5d\",\"type\":\"GlyphRenderer\"},{\"attributes\":{\"callback\":null,\"column_names\":[\"x_values\",\"y_values\"],\"data\":{\"chart_index\":[{\"month\":11}],\"month\":[11],\"x_values\":[\"11:0.5\"],\"y_values\":[8]}},\"id\":\"638d9894-80f6-4501-a458-e8625c0b2e24\",\"type\":\"ColumnDataSource\"},{\"attributes\":{\"data_source\":{\"id\":\"789b8033-f43b-42d7-a9d4-f7e0c15a9683\",\"type\":\"ColumnDataSource\"},\"glyph\":{\"id\":\"a177da7a-8740-4b6b-869c-426f9416ad4c\",\"type\":\"Segment\"},\"hover_glyph\":null,\"nonselection_glyph\":null,\"selection_glyph\":null},\"id\":\"4f05345e-25e5-4e3e-9c73-a2413681a6ab\",\"type\":\"GlyphRenderer\"},{\"attributes\":{\"data_source\":{\"id\":\"52f3adb8-beb2-4803-befa-a04b7a3b71e7\",\"type\":\"ColumnDataSource\"},\"glyph\":{\"id\":\"0da734f6-0627-4bbf-825f-c2d9952da532\",\"type\":\"Segment\"},\"hover_glyph\":null,\"nonselection_glyph\":null,\"selection_glyph\":null},\"id\":\"4e0c5c75-e5d5-4690-a210-02c3af01b15b\",\"type\":\"GlyphRenderer\"},{\"attributes\":{\"data_source\":{\"id\":\"5662716b-04a2-40d7-a49a-26d93d0df680\",\"type\":\"ColumnDataSource\"},\"glyph\":{\"id\":\"6c8251c8-7452-4cd9-b413-9bb14f9f2924\",\"type\":\"Segment\"},\"hover_glyph\":null,\"nonselection_glyph\":null,\"selection_glyph\":null},\"id\":\"749310a4-eb29-4eef-8716-a5cb2a37bb1e\",\"type\":\"GlyphRenderer\"},{\"attributes\":{\"dimension\":1,\"plot\":{\"id\":\"31a64318-4d44-4b6e-b262-32e09ad309cf\",\"subtype\":\"Chart\",\"type\":\"Plot\"},\"ticker\":{\"id\":\"c212ae67-0faa-4a05-80b5-e0a0dba99545\",\"type\":\"BasicTicker\"}},\"id\":\"f722ada7-143f-4cf8-8d6b-46f5a01712e9\",\"type\":\"Grid\"},{\"attributes\":{\"data_source\":{\"id\":\"c3c698c4-6669-4d5b-9a28-5ff77c2abf3d\",\"type\":\"ColumnDataSource\"},\"glyph\":{\"id\":\"c55eaece-b1ca-4a20-9381-fdfb9f3a1f5d\",\"type\":\"Circle\"},\"hover_glyph\":null,\"nonselection_glyph\":null,\"selection_glyph\":null},\"id\":\"11c117f3-588a-4d94-bb01-a33de0203748\",\"type\":\"GlyphRenderer\"},{\"attributes\":{\"fill_alpha\":{\"field\":\"fill_alpha\"},\"fill_color\":{\"field\":\"color\"},\"height\":{\"field\":\"height\",\"units\":\"data\"},\"line_color\":{\"field\":\"line_color\"},\"width\":{\"field\":\"width\",\"units\":\"data\"},\"x\":{\"field\":\"x\"},\"y\":{\"field\":\"y\"}},\"id\":\"54157d1a-01f6-43f6-bb73-78535a63e628\",\"type\":\"Rect\"},{\"attributes\":{\"data_source\":{\"id\":\"11adcca7-5db0-4fc5-8a4c-7fb875807112\",\"type\":\"ColumnDataSource\"},\"glyph\":{\"id\":\"e31a46e7-b5cb-4527-92b6-51e09cce8802\",\"type\":\"Rect\"},\"hover_glyph\":null,\"nonselection_glyph\":null,\"selection_glyph\":null},\"id\":\"f5a9b487-e311-473e-9aeb-669dafaea653\",\"type\":\"GlyphRenderer\"},{\"attributes\":{\"data_source\":{\"id\":\"7eb8a5be-f597-4974-a657-ec59622257f1\",\"type\":\"ColumnDataSource\"},\"glyph\":{\"id\":\"ba4c6a58-4e8f-4c43-a0bf-453face0f9cc\",\"type\":\"Rect\"},\"hover_glyph\":null,\"nonselection_glyph\":null,\"selection_glyph\":null},\"id\":\"ff4f121c-c652-4492-a481-736f1a921a6a\",\"type\":\"GlyphRenderer\"},{\"attributes\":{\"fill_alpha\":{\"field\":\"fill_alpha\"},\"fill_color\":{\"field\":\"color\"},\"height\":{\"field\":\"height\",\"units\":\"data\"},\"line_color\":{\"field\":\"line_color\"},\"width\":{\"field\":\"width\",\"units\":\"data\"},\"x\":{\"field\":\"x\"},\"y\":{\"field\":\"y\"}},\"id\":\"96fd98a6-c0a9-4f15-8019-d5363aebc06f\",\"type\":\"Rect\"},{\"attributes\":{\"plot\":null,\"text\":\"Twitter CVE BoxPlot\"},\"id\":\"59e499f1-7100-4af4-810a-2ff65901da9e\",\"type\":\"Title\"},{\"attributes\":{\"callback\":null,\"column_names\":[\"x0s\",\"y0s\",\"x1s\",\"y1s\"],\"data\":{\"chart_index\":[{\"month\":4},{\"month\":4},{\"month\":4},{\"month\":4}],\"month\":[4,4,4,4],\"x0s\":[\"4:0.5\",\"4:0.65\",\"4:0.5\",\"4:0.65\"],\"x1s\":[\"4:0.5\",\"4:0.35\",\"4:0.5\",\"4:0.35\"],\"y0s\":[1.0,1.0,2.0,3.5],\"y1s\":[1.0,1.0,3.5,3.5]}},\"id\":\"044f42a2-fe55-4fe6-a880-72154cb42122\",\"type\":\"ColumnDataSource\"},{\"attributes\":{\"fill_alpha\":{\"field\":\"fill_alpha\"},\"fill_color\":{\"field\":\"color\"},\"height\":{\"field\":\"height\",\"units\":\"data\"},\"line_color\":{\"field\":\"line_color\"},\"width\":{\"field\":\"width\",\"units\":\"data\"},\"x\":{\"field\":\"x\"},\"y\":{\"field\":\"y\"}},\"id\":\"be088e25-f09c-4c34-926a-2dad23811e57\",\"type\":\"Rect\"},{\"attributes\":{},\"id\":\"299eb798-b23d-427a-a2d0-9dbe801a2296\",\"type\":\"CategoricalTickFormatter\"},{\"attributes\":{\"callback\":null,\"column_names\":[\"line_color\",\"line_alpha\",\"color\",\"fill_alpha\",\"height\",\"width\",\"y\",\"x\",\"label\"],\"data\":{\"chart_index\":[{\"month\":4}],\"color\":[\"DimGrey\"],\"fill_alpha\":[0.8],\"height\":[1.0],\"label\":[{\"month\":4}],\"line_alpha\":[1.0],\"line_color\":[\"black\"],\"month\":[4],\"width\":[0.8],\"x\":[\"4\"],\"y\":[1.5]}},\"id\":\"5dff48e6-208e-437d-a024-07555c2cdca7\",\"type\":\"ColumnDataSource\"},{\"attributes\":{\"plot\":{\"id\":\"31a64318-4d44-4b6e-b262-32e09ad309cf\",\"subtype\":\"Chart\",\"type\":\"Plot\"}},\"id\":\"405aeb31-9514-4de2-8d49-2d34f33ab7dd\",\"type\":\"WheelZoomTool\"},{\"attributes\":{\"callback\":null,\"column_names\":[\"line_color\",\"line_alpha\",\"color\",\"fill_alpha\",\"height\",\"width\",\"y\",\"x\",\"label\"],\"data\":{\"chart_index\":[{\"month\":8}],\"color\":[\"DimGrey\"],\"fill_alpha\":[0.8],\"height\":[1.0],\"label\":[{\"month\":8}],\"line_alpha\":[1.0],\"line_color\":[\"black\"],\"month\":[8],\"width\":[0.8],\"x\":[\"8\"],\"y\":[1.5]}},\"id\":\"11adcca7-5db0-4fc5-8a4c-7fb875807112\",\"type\":\"ColumnDataSource\"},{\"attributes\":{\"fill_alpha\":{\"value\":0.7},\"fill_color\":{\"value\":\"red\"},\"line_color\":{\"value\":\"red\"},\"size\":{\"units\":\"screen\",\"value\":5},\"x\":{\"field\":\"x_values\"},\"y\":{\"field\":\"y_values\"}},\"id\":\"9b185dab-c225-4bd3-a541-adc9e66dc538\",\"type\":\"Circle\"},{\"attributes\":{\"fill_alpha\":{\"value\":0.7},\"fill_color\":{\"value\":\"red\"},\"line_color\":{\"value\":\"red\"},\"size\":{\"units\":\"screen\",\"value\":5},\"x\":{\"field\":\"x_values\"},\"y\":{\"field\":\"y_values\"}},\"id\":\"ab231dee-6a5c-45be-80c1-0eac365de4f9\",\"type\":\"Circle\"},{\"attributes\":{\"fill_alpha\":{\"field\":\"fill_alpha\"},\"fill_color\":{\"field\":\"color\"},\"height\":{\"field\":\"height\",\"units\":\"data\"},\"line_color\":{\"field\":\"line_color\"},\"width\":{\"field\":\"width\",\"units\":\"data\"},\"x\":{\"field\":\"x\"},\"y\":{\"field\":\"y\"}},\"id\":\"4358b997-1770-46c1-9d1d-023010155065\",\"type\":\"Rect\"},{\"attributes\":{\"callback\":null,\"column_names\":[\"x0s\",\"y0s\",\"x1s\",\"y1s\"],\"data\":{\"chart_index\":[{\"month\":2},{\"month\":2},{\"month\":2},{\"month\":2}],\"month\":[2,2,2,2],\"x0s\":[\"2:0.5\",\"2:0.65\",\"2:0.5\",\"2:0.65\"],\"x1s\":[\"2:0.5\",\"2:0.35\",\"2:0.5\",\"2:0.35\"],\"y0s\":[1.0,1.0,2.0,3.5],\"y1s\":[1.0,1.0,3.5,3.5]}},\"id\":\"52f3adb8-beb2-4803-befa-a04b7a3b71e7\",\"type\":\"ColumnDataSource\"},{\"attributes\":{\"fill_alpha\":{\"field\":\"fill_alpha\"},\"fill_color\":{\"field\":\"color\"},\"height\":{\"field\":\"height\",\"units\":\"data\"},\"line_color\":{\"field\":\"line_color\"},\"width\":{\"field\":\"width\",\"units\":\"data\"},\"x\":{\"field\":\"x\"},\"y\":{\"field\":\"y\"}},\"id\":\"b88f0ccc-1e6e-48b8-b916-a4a17510c452\",\"type\":\"Rect\"},{\"attributes\":{\"data_source\":{\"id\":\"379559f9-8484-4f26-8f53-982ae7bcacbd\",\"type\":\"ColumnDataSource\"},\"glyph\":{\"id\":\"6da8744b-4be4-4c24-8fc6-e6e219bcc70a\",\"type\":\"Rect\"},\"hover_glyph\":null,\"nonselection_glyph\":null,\"selection_glyph\":null},\"id\":\"9ef37f2a-5b46-42c8-b81d-5b0c64f751f2\",\"type\":\"GlyphRenderer\"},{\"attributes\":{\"data_source\":{\"id\":\"a906c65d-3893-42d1-b430-e70398a0738d\",\"type\":\"ColumnDataSource\"},\"glyph\":{\"id\":\"98af2164-35e3-441d-8069-0f1fa4ca8594\",\"type\":\"Rect\"},\"hover_glyph\":null,\"nonselection_glyph\":null,\"selection_glyph\":null},\"id\":\"80695751-47dc-4a2a-b59c-928298adcff6\",\"type\":\"GlyphRenderer\"},{\"attributes\":{\"data_source\":{\"id\":\"b089bfcf-8201-48e7-b5bf-11790814a2cf\",\"type\":\"ColumnDataSource\"},\"glyph\":{\"id\":\"3369d676-fa5e-4fd5-8af8-6f970c50a8bb\",\"type\":\"Circle\"},\"hover_glyph\":null,\"nonselection_glyph\":null,\"selection_glyph\":null},\"id\":\"59229d85-7714-45f3-ab83-935840578757\",\"type\":\"GlyphRenderer\"},{\"attributes\":{\"callback\":null,\"column_names\":[\"line_color\",\"line_alpha\",\"color\",\"fill_alpha\",\"height\",\"width\",\"y\",\"x\",\"label\"],\"data\":{\"chart_index\":[{\"month\":7}],\"color\":[\"DimGrey\"],\"fill_alpha\":[0.8],\"height\":[0.5],\"label\":[{\"month\":7}],\"line_alpha\":[1.0],\"line_color\":[\"black\"],\"month\":[7],\"width\":[0.8],\"x\":[\"7\"],\"y\":[1.25]}},\"id\":\"6f2a60ec-6f67-45e6-8d3a-a530b3cc0679\",\"type\":\"ColumnDataSource\"},{\"attributes\":{\"data_source\":{\"id\":\"c7d765e3-dcb9-43a8-b8af-2af2001e8d9f\",\"type\":\"ColumnDataSource\"},\"glyph\":{\"id\":\"8a5ca06b-db3e-457c-8b7f-9ff9e0d59bac\",\"type\":\"Segment\"},\"hover_glyph\":null,\"nonselection_glyph\":null,\"selection_glyph\":null},\"id\":\"72d06c76-655b-4640-a2d3-5f2cf0786686\",\"type\":\"GlyphRenderer\"},{\"attributes\":{\"callback\":null,\"column_names\":[\"line_color\",\"line_alpha\",\"color\",\"fill_alpha\",\"height\",\"width\",\"y\",\"x\",\"label\"],\"data\":{\"chart_index\":[{\"month\":11}],\"color\":[\"DimGrey\"],\"fill_alpha\":[0.8],\"height\":[2.25],\"label\":[{\"month\":11}],\"line_alpha\":[1.0],\"line_color\":[\"black\"],\"month\":[11],\"width\":[0.8],\"x\":[\"11\"],\"y\":[2.625]}},\"id\":\"2ef65284-22ed-4bf6-901d-3c379ee47017\",\"type\":\"ColumnDataSource\"},{\"attributes\":{\"legends\":[[\"1\",[{\"id\":\"f028cbd8-a6a2-4ecd-b324-5422f3567169\",\"type\":\"GlyphRenderer\"},{\"id\":\"6993de37-8372-4c3e-8b5f-bcb1fd9a4f50\",\"type\":\"GlyphRenderer\"},{\"id\":\"82420246-8a2d-4ba0-a259-e38705f21af2\",\"type\":\"GlyphRenderer\"}]],[\"2\",[{\"id\":\"d4b1089c-88f1-4a16-88b1-66983ca13f0d\",\"type\":\"GlyphRenderer\"},{\"id\":\"9ef37f2a-5b46-42c8-b81d-5b0c64f751f2\",\"type\":\"GlyphRenderer\"},{\"id\":\"11c117f3-588a-4d94-bb01-a33de0203748\",\"type\":\"GlyphRenderer\"},{\"id\":\"4e0c5c75-e5d5-4690-a210-02c3af01b15b\",\"type\":\"GlyphRenderer\"}]],[\"3\",[{\"id\":\"1f76afc8-a786-4041-8630-f18f02a986b3\",\"type\":\"GlyphRenderer\"},{\"id\":\"db375418-4eb0-4980-b026-1512403cc230\",\"type\":\"GlyphRenderer\"},{\"id\":\"c3831ba5-f4d5-435e-bddb-64862ebcdd4b\",\"type\":\"GlyphRenderer\"},{\"id\":\"72d06c76-655b-4640-a2d3-5f2cf0786686\",\"type\":\"GlyphRenderer\"}]],[\"4\",[{\"id\":\"ff4f121c-c652-4492-a481-736f1a921a6a\",\"type\":\"GlyphRenderer\"},{\"id\":\"d2f52314-f3c1-4d6c-a774-2f2be69d2c2e\",\"type\":\"GlyphRenderer\"},{\"id\":\"48024705-2002-4d44-a9cd-be7648d927bb\",\"type\":\"GlyphRenderer\"},{\"id\":\"a015d19a-4404-46c5-a401-6edb0655aed0\",\"type\":\"GlyphRenderer\"}]],[\"5\",[{\"id\":\"1616f095-f260-49a6-a89a-83796c7a2b3e\",\"type\":\"GlyphRenderer\"},{\"id\":\"f276319f-7759-4615-9c34-a7866c57d91c\",\"type\":\"GlyphRenderer\"},{\"id\":\"3fc4cfdc-d0b9-479e-8ee4-961e3e3cf890\",\"type\":\"GlyphRenderer\"}]],[\"6\",[{\"id\":\"d3ee226d-ea90-4915-b13f-0c28b44e2e47\",\"type\":\"GlyphRenderer\"},{\"id\":\"f20e75bb-cfd9-443b-8c81-aecbff407584\",\"type\":\"GlyphRenderer\"},{\"id\":\"49c3b9c1-e929-4299-a049-1520938d0547\",\"type\":\"GlyphRenderer\"},{\"id\":\"1ce29687-3536-4a83-ad9f-d7f5cdf2c9e7\",\"type\":\"GlyphRenderer\"}]],[\"7\",[{\"id\":\"b86baad7-00f4-461e-9d90-b455a1c139d2\",\"type\":\"GlyphRenderer\"},{\"id\":\"c1f05032-eb5c-4e3d-a261-7b66b5672aef\",\"type\":\"GlyphRenderer\"},{\"id\":\"5fb04511-c9db-4513-ba5f-c0d6c349895d\",\"type\":\"GlyphRenderer\"}]],[\"8\",[{\"id\":\"e6f62f1c-4b82-46d3-a9d4-ba3ce17b2b5d\",\"type\":\"GlyphRenderer\"},{\"id\":\"f5a9b487-e311-473e-9aeb-669dafaea653\",\"type\":\"GlyphRenderer\"},{\"id\":\"749310a4-eb29-4eef-8716-a5cb2a37bb1e\",\"type\":\"GlyphRenderer\"}]],[\"9\",[{\"id\":\"e07552fa-7935-4510-97c3-bfef025b6334\",\"type\":\"GlyphRenderer\"},{\"id\":\"c0c99f3a-ba3f-4499-a004-895d04526b9c\",\"type\":\"GlyphRenderer\"},{\"id\":\"a1549c85-d84b-4ca8-8fb0-d0ab3aedcb7b\",\"type\":\"GlyphRenderer\"},{\"id\":\"4f05345e-25e5-4e3e-9c73-a2413681a6ab\",\"type\":\"GlyphRenderer\"}]],[\"10\",[{\"id\":\"80695751-47dc-4a2a-b59c-928298adcff6\",\"type\":\"GlyphRenderer\"},{\"id\":\"2cbf5f98-8da2-4890-a755-020d0d501169\",\"type\":\"GlyphRenderer\"},{\"id\":\"59229d85-7714-45f3-ab83-935840578757\",\"type\":\"GlyphRenderer\"},{\"id\":\"5011264e-3028-41e4-96c0-4bbdab692c1e\",\"type\":\"GlyphRenderer\"}]],[\"11\",[{\"id\":\"b88be27c-c878-427f-9ec1-8636761e2dae\",\"type\":\"GlyphRenderer\"},{\"id\":\"31ea4162-c10c-41a4-820c-ceede19c067a\",\"type\":\"GlyphRenderer\"},{\"id\":\"1e23b06d-7a99-44cd-8df4-cb593f151fb3\",\"type\":\"GlyphRenderer\"},{\"id\":\"f8da479e-7cd3-4a55-a75c-b71bea94b31a\",\"type\":\"GlyphRenderer\"}]],[\"12\",[{\"id\":\"dc9e5a8d-71b2-483b-baed-ad1a680b863c\",\"type\":\"GlyphRenderer\"},{\"id\":\"7d012dc3-afea-4425-8acf-c21444ecc4e7\",\"type\":\"GlyphRenderer\"},{\"id\":\"817cc6a9-361a-4d41-a4a5-10ca7ce3f896\",\"type\":\"GlyphRenderer\"},{\"id\":\"15273ff1-bad4-4424-807e-9e83d097b5d8\",\"type\":\"GlyphRenderer\"}]]],\"location\":\"top_left\",\"plot\":{\"id\":\"31a64318-4d44-4b6e-b262-32e09ad309cf\",\"subtype\":\"Chart\",\"type\":\"Plot\"}},\"id\":\"a93f30f7-e9b0-4b3e-a6a1-b8af5eccdec0\",\"type\":\"Legend\"},{\"attributes\":{\"data_source\":{\"id\":\"2eaee8bc-998b-4cd9-860e-2028fd0af324\",\"type\":\"ColumnDataSource\"},\"glyph\":{\"id\":\"b0a37ef3-4b41-4ffa-a099-50ea1c4c64b4\",\"type\":\"Segment\"},\"hover_glyph\":null,\"nonselection_glyph\":null,\"selection_glyph\":null},\"id\":\"1ce29687-3536-4a83-ad9f-d7f5cdf2c9e7\",\"type\":\"GlyphRenderer\"},{\"attributes\":{\"callback\":null,\"column_names\":[\"line_color\",\"line_alpha\",\"color\",\"fill_alpha\",\"height\",\"width\",\"y\",\"x\",\"label\"],\"data\":{\"chart_index\":[{\"month\":1}],\"color\":[\"DimGrey\"],\"fill_alpha\":[0.8],\"height\":[0.5],\"label\":[{\"month\":1}],\"line_alpha\":[1.0],\"line_color\":[\"black\"],\"month\":[1],\"width\":[0.8],\"x\":[\"1\"],\"y\":[1.75]}},\"id\":\"278dae65-9250-4e64-99c7-746ed6d078ec\",\"type\":\"ColumnDataSource\"},{\"attributes\":{\"callback\":null,\"column_names\":[\"line_color\",\"line_alpha\",\"color\",\"fill_alpha\",\"height\",\"width\",\"y\",\"x\",\"label\"],\"data\":{\"chart_index\":[{\"month\":2}],\"color\":[\"DimGrey\"],\"fill_alpha\":[0.8],\"height\":[1.0],\"label\":[{\"month\":2}],\"line_alpha\":[1.0],\"line_color\":[\"black\"],\"month\":[2],\"width\":[0.8],\"x\":[\"2\"],\"y\":[1.5]}},\"id\":\"379559f9-8484-4f26-8f53-982ae7bcacbd\",\"type\":\"ColumnDataSource\"},{\"attributes\":{\"data_source\":{\"id\":\"dac7a30f-8b69-4ba6-87ae-cc0d62d43cd7\",\"type\":\"ColumnDataSource\"},\"glyph\":{\"id\":\"ab231dee-6a5c-45be-80c1-0eac365de4f9\",\"type\":\"Circle\"},\"hover_glyph\":null,\"nonselection_glyph\":null,\"selection_glyph\":null},\"id\":\"49c3b9c1-e929-4299-a049-1520938d0547\",\"type\":\"GlyphRenderer\"},{\"attributes\":{\"data_source\":{\"id\":\"91baaa77-3f84-4227-8c71-6f5b518efd56\",\"type\":\"ColumnDataSource\"},\"glyph\":{\"id\":\"8bcbf730-3985-46c7-8bc9-d0bbbccdc8da\",\"type\":\"Rect\"},\"hover_glyph\":null,\"nonselection_glyph\":null,\"selection_glyph\":null},\"id\":\"c0c99f3a-ba3f-4499-a004-895d04526b9c\",\"type\":\"GlyphRenderer\"},{\"attributes\":{\"callback\":null,\"column_names\":[\"x0s\",\"y0s\",\"x1s\",\"y1s\"],\"data\":{\"chart_index\":[{\"month\":10},{\"month\":10},{\"month\":10},{\"month\":10}],\"month\":[10,10,10,10],\"x0s\":[\"10:0.5\",\"10:0.65\",\"10:0.5\",\"10:0.65\"],\"x1s\":[\"10:0.5\",\"10:0.35\",\"10:0.5\",\"10:0.35\"],\"y0s\":[1.0,1.0,1.5,2.25],\"y1s\":[1.0,1.0,2.25,2.25]}},\"id\":\"d5a8dae5-f9f8-4de3-9aaa-feff99945cc6\",\"type\":\"ColumnDataSource\"},{\"attributes\":{\"callback\":null,\"column_names\":[\"line_color\",\"line_alpha\",\"color\",\"fill_alpha\",\"height\",\"width\",\"y\",\"x\",\"label\"],\"data\":{\"chart_index\":[{\"month\":5}],\"color\":[\"DimGrey\"],\"fill_alpha\":[0.8],\"height\":[0.5],\"label\":[{\"month\":5}],\"line_alpha\":[1.0],\"line_color\":[\"black\"],\"month\":[5],\"width\":[0.8],\"x\":[\"5\"],\"y\":[1.25]}},\"id\":\"8b9138ab-4c94-4bab-82c1-7504df73953f\",\"type\":\"ColumnDataSource\"},{\"attributes\":{\"callback\":null,\"column_names\":[\"line_color\",\"line_alpha\",\"color\",\"fill_alpha\",\"height\",\"width\",\"y\",\"x\",\"label\"],\"data\":{\"chart_index\":[{\"month\":4}],\"color\":[\"DimGrey\"],\"fill_alpha\":[0.8],\"height\":[0.0],\"label\":[{\"month\":4}],\"line_alpha\":[1.0],\"line_color\":[\"black\"],\"month\":[4],\"width\":[0.8],\"x\":[\"4\"],\"y\":[1.0]}},\"id\":\"7eb8a5be-f597-4974-a657-ec59622257f1\",\"type\":\"ColumnDataSource\"},{\"attributes\":{\"callback\":null,\"column_names\":[\"x0s\",\"y0s\",\"x1s\",\"y1s\"],\"data\":{\"chart_index\":[{\"month\":7},{\"month\":7},{\"month\":7},{\"month\":7}],\"month\":[7,7,7,7],\"x0s\":[\"7:0.5\",\"7:0.65\",\"7:0.5\",\"7:0.65\"],\"x1s\":[\"7:0.5\",\"7:0.35\",\"7:0.5\",\"7:0.35\"],\"y0s\":[1.0,1.0,2.0,3.0],\"y1s\":[1.0,1.0,3.0,3.0]}},\"id\":\"df0c1a08-b4af-45f5-8014-00d6cceb689a\",\"type\":\"ColumnDataSource\"},{\"attributes\":{\"line_width\":{\"value\":2},\"x0\":{\"field\":\"x0s\"},\"x1\":{\"field\":\"x1s\"},\"y0\":{\"field\":\"y0s\"},\"y1\":{\"field\":\"y1s\"}},\"id\":\"5492abf7-8b18-440d-8128-ad594be60ff4\",\"type\":\"Segment\"},{\"attributes\":{\"below\":[{\"id\":\"728e89b7-07b8-4c34-b93c-ae9029a1b9d2\",\"type\":\"CategoricalAxis\"}],\"left\":[{\"id\":\"87774786-5049-45a9-b482-bd1d1bc5da66\",\"type\":\"LinearAxis\"}],\"renderers\":[{\"id\":\"4ff56970-a98a-440b-b0c6-9cd258ad0a2d\",\"type\":\"BoxAnnotation\"},{\"id\":\"f028cbd8-a6a2-4ecd-b324-5422f3567169\",\"type\":\"GlyphRenderer\"},{\"id\":\"6993de37-8372-4c3e-8b5f-bcb1fd9a4f50\",\"type\":\"GlyphRenderer\"},{\"id\":\"82420246-8a2d-4ba0-a259-e38705f21af2\",\"type\":\"GlyphRenderer\"},{\"id\":\"d4b1089c-88f1-4a16-88b1-66983ca13f0d\",\"type\":\"GlyphRenderer\"},{\"id\":\"9ef37f2a-5b46-42c8-b81d-5b0c64f751f2\",\"type\":\"GlyphRenderer\"},{\"id\":\"11c117f3-588a-4d94-bb01-a33de0203748\",\"type\":\"GlyphRenderer\"},{\"id\":\"4e0c5c75-e5d5-4690-a210-02c3af01b15b\",\"type\":\"GlyphRenderer\"},{\"id\":\"1f76afc8-a786-4041-8630-f18f02a986b3\",\"type\":\"GlyphRenderer\"},{\"id\":\"db375418-4eb0-4980-b026-1512403cc230\",\"type\":\"GlyphRenderer\"},{\"id\":\"c3831ba5-f4d5-435e-bddb-64862ebcdd4b\",\"type\":\"GlyphRenderer\"},{\"id\":\"72d06c76-655b-4640-a2d3-5f2cf0786686\",\"type\":\"GlyphRenderer\"},{\"id\":\"ff4f121c-c652-4492-a481-736f1a921a6a\",\"type\":\"GlyphRenderer\"},{\"id\":\"d2f52314-f3c1-4d6c-a774-2f2be69d2c2e\",\"type\":\"GlyphRenderer\"},{\"id\":\"48024705-2002-4d44-a9cd-be7648d927bb\",\"type\":\"GlyphRenderer\"},{\"id\":\"a015d19a-4404-46c5-a401-6edb0655aed0\",\"type\":\"GlyphRenderer\"},{\"id\":\"1616f095-f260-49a6-a89a-83796c7a2b3e\",\"type\":\"GlyphRenderer\"},{\"id\":\"f276319f-7759-4615-9c34-a7866c57d91c\",\"type\":\"GlyphRenderer\"},{\"id\":\"3fc4cfdc-d0b9-479e-8ee4-961e3e3cf890\",\"type\":\"GlyphRenderer\"},{\"id\":\"d3ee226d-ea90-4915-b13f-0c28b44e2e47\",\"type\":\"GlyphRenderer\"},{\"id\":\"f20e75bb-cfd9-443b-8c81-aecbff407584\",\"type\":\"GlyphRenderer\"},{\"id\":\"49c3b9c1-e929-4299-a049-1520938d0547\",\"type\":\"GlyphRenderer\"},{\"id\":\"1ce29687-3536-4a83-ad9f-d7f5cdf2c9e7\",\"type\":\"GlyphRenderer\"},{\"id\":\"b86baad7-00f4-461e-9d90-b455a1c139d2\",\"type\":\"GlyphRenderer\"},{\"id\":\"c1f05032-eb5c-4e3d-a261-7b66b5672aef\",\"type\":\"GlyphRenderer\"},{\"id\":\"5fb04511-c9db-4513-ba5f-c0d6c349895d\",\"type\":\"GlyphRenderer\"},{\"id\":\"e6f62f1c-4b82-46d3-a9d4-ba3ce17b2b5d\",\"type\":\"GlyphRenderer\"},{\"id\":\"f5a9b487-e311-473e-9aeb-669dafaea653\",\"type\":\"GlyphRenderer\"},{\"id\":\"749310a4-eb29-4eef-8716-a5cb2a37bb1e\",\"type\":\"GlyphRenderer\"},{\"id\":\"e07552fa-7935-4510-97c3-bfef025b6334\",\"type\":\"GlyphRenderer\"},{\"id\":\"c0c99f3a-ba3f-4499-a004-895d04526b9c\",\"type\":\"GlyphRenderer\"},{\"id\":\"a1549c85-d84b-4ca8-8fb0-d0ab3aedcb7b\",\"type\":\"GlyphRenderer\"},{\"id\":\"4f05345e-25e5-4e3e-9c73-a2413681a6ab\",\"type\":\"GlyphRenderer\"},{\"id\":\"80695751-47dc-4a2a-b59c-928298adcff6\",\"type\":\"GlyphRenderer\"},{\"id\":\"2cbf5f98-8da2-4890-a755-020d0d501169\",\"type\":\"GlyphRenderer\"},{\"id\":\"59229d85-7714-45f3-ab83-935840578757\",\"type\":\"GlyphRenderer\"},{\"id\":\"5011264e-3028-41e4-96c0-4bbdab692c1e\",\"type\":\"GlyphRenderer\"},{\"id\":\"b88be27c-c878-427f-9ec1-8636761e2dae\",\"type\":\"GlyphRenderer\"},{\"id\":\"31ea4162-c10c-41a4-820c-ceede19c067a\",\"type\":\"GlyphRenderer\"},{\"id\":\"1e23b06d-7a99-44cd-8df4-cb593f151fb3\",\"type\":\"GlyphRenderer\"},{\"id\":\"f8da479e-7cd3-4a55-a75c-b71bea94b31a\",\"type\":\"GlyphRenderer\"},{\"id\":\"dc9e5a8d-71b2-483b-baed-ad1a680b863c\",\"type\":\"GlyphRenderer\"},{\"id\":\"7d012dc3-afea-4425-8acf-c21444ecc4e7\",\"type\":\"GlyphRenderer\"},{\"id\":\"817cc6a9-361a-4d41-a4a5-10ca7ce3f896\",\"type\":\"GlyphRenderer\"},{\"id\":\"15273ff1-bad4-4424-807e-9e83d097b5d8\",\"type\":\"GlyphRenderer\"},{\"id\":\"a93f30f7-e9b0-4b3e-a6a1-b8af5eccdec0\",\"type\":\"Legend\"},{\"id\":\"728e89b7-07b8-4c34-b93c-ae9029a1b9d2\",\"type\":\"CategoricalAxis\"},{\"id\":\"87774786-5049-45a9-b482-bd1d1bc5da66\",\"type\":\"LinearAxis\"},{\"id\":\"f722ada7-143f-4cf8-8d6b-46f5a01712e9\",\"type\":\"Grid\"}],\"title\":{\"id\":\"59e499f1-7100-4af4-810a-2ff65901da9e\",\"type\":\"Title\"},\"tool_events\":{\"id\":\"f4a3fb20-976f-4018-ab9f-28a18fa44fa2\",\"type\":\"ToolEvents\"},\"toolbar\":{\"id\":\"459503fb-7a97-4ccf-8cc2-983cf6925a77\",\"type\":\"Toolbar\"},\"x_mapper_type\":\"auto\",\"x_range\":{\"id\":\"357567ba-97bd-4cd1-800d-43476d8db2ef\",\"type\":\"FactorRange\"},\"y_mapper_type\":\"auto\",\"y_range\":{\"id\":\"fec69040-0fc0-4ff1-89b2-87d3f1b48d41\",\"type\":\"Range1d\"}},\"id\":\"31a64318-4d44-4b6e-b262-32e09ad309cf\",\"subtype\":\"Chart\",\"type\":\"Plot\"},{\"attributes\":{\"callback\":null,\"column_names\":[\"x_values\",\"y_values\"],\"data\":{\"chart_index\":[{\"month\":12}],\"month\":[12],\"x_values\":[\"12:0.5\"],\"y_values\":[4]}},\"id\":\"3913d336-91cc-49ab-88b4-7af94779c256\",\"type\":\"ColumnDataSource\"},{\"attributes\":{\"data_source\":{\"id\":\"f68333b8-63d9-4828-b671-3280b04e848c\",\"type\":\"ColumnDataSource\"},\"glyph\":{\"id\":\"f441c90d-fdf6-436d-816e-507feaa2ad63\",\"type\":\"Rect\"},\"hover_glyph\":null,\"nonselection_glyph\":null,\"selection_glyph\":null},\"id\":\"db375418-4eb0-4980-b026-1512403cc230\",\"type\":\"GlyphRenderer\"},{\"attributes\":{\"line_width\":{\"value\":2},\"x0\":{\"field\":\"x0s\"},\"x1\":{\"field\":\"x1s\"},\"y0\":{\"field\":\"y0s\"},\"y1\":{\"field\":\"y1s\"}},\"id\":\"0da734f6-0627-4bbf-825f-c2d9952da532\",\"type\":\"Segment\"},{\"attributes\":{\"callback\":null,\"column_names\":[\"line_color\",\"line_alpha\",\"color\",\"fill_alpha\",\"height\",\"width\",\"y\",\"x\",\"label\"],\"data\":{\"chart_index\":[{\"month\":1}],\"color\":[\"DimGrey\"],\"fill_alpha\":[0.8],\"height\":[0.0],\"label\":[{\"month\":1}],\"line_alpha\":[1.0],\"line_color\":[\"black\"],\"month\":[1],\"width\":[0.8],\"x\":[\"1\"],\"y\":[2.0]}},\"id\":\"c73558f3-332b-4ee9-81e0-458e86932034\",\"type\":\"ColumnDataSource\"},{\"attributes\":{\"data_source\":{\"id\":\"8b9138ab-4c94-4bab-82c1-7504df73953f\",\"type\":\"ColumnDataSource\"},\"glyph\":{\"id\":\"2c805a6a-5c17-482f-b341-f158ab8175a4\",\"type\":\"Rect\"},\"hover_glyph\":null,\"nonselection_glyph\":null,\"selection_glyph\":null},\"id\":\"1616f095-f260-49a6-a89a-83796c7a2b3e\",\"type\":\"GlyphRenderer\"},{\"attributes\":{},\"id\":\"f4a3fb20-976f-4018-ab9f-28a18fa44fa2\",\"type\":\"ToolEvents\"},{\"attributes\":{\"callback\":null,\"column_names\":[\"line_color\",\"line_alpha\",\"color\",\"fill_alpha\",\"height\",\"width\",\"y\",\"x\",\"label\"],\"data\":{\"chart_index\":[{\"month\":12}],\"color\":[\"DimGrey\"],\"fill_alpha\":[0.8],\"height\":[0.5],\"label\":[{\"month\":12}],\"line_alpha\":[1.0],\"line_color\":[\"black\"],\"month\":[12],\"width\":[0.8],\"x\":[\"12\"],\"y\":[1.75]}},\"id\":\"a21e0b17-0d38-4b9d-baa2-3d13fe6d7bc0\",\"type\":\"ColumnDataSource\"},{\"attributes\":{\"data_source\":{\"id\":\"1900e84c-237a-4bd2-8b42-0616c5c3b8da\",\"type\":\"ColumnDataSource\"},\"glyph\":{\"id\":\"10a3a13f-4b45-4e53-bdd8-163a90cffe0b\",\"type\":\"Rect\"},\"hover_glyph\":null,\"nonselection_glyph\":null,\"selection_glyph\":null},\"id\":\"d3ee226d-ea90-4915-b13f-0c28b44e2e47\",\"type\":\"GlyphRenderer\"},{\"attributes\":{\"line_width\":{\"value\":2},\"x0\":{\"field\":\"x0s\"},\"x1\":{\"field\":\"x1s\"},\"y0\":{\"field\":\"y0s\"},\"y1\":{\"field\":\"y1s\"}},\"id\":\"b0a37ef3-4b41-4ffa-a099-50ea1c4c64b4\",\"type\":\"Segment\"},{\"attributes\":{\"data_source\":{\"id\":\"574ea0d7-6418-4ab3-af99-e01bcc47393a\",\"type\":\"ColumnDataSource\"},\"glyph\":{\"id\":\"53daec46-0812-4488-ba24-0f83c007c805\",\"type\":\"Rect\"},\"hover_glyph\":null,\"nonselection_glyph\":null,\"selection_glyph\":null},\"id\":\"f20e75bb-cfd9-443b-8c81-aecbff407584\",\"type\":\"GlyphRenderer\"},{\"attributes\":{\"fill_alpha\":{\"field\":\"fill_alpha\"},\"fill_color\":{\"field\":\"color\"},\"height\":{\"field\":\"height\",\"units\":\"data\"},\"line_color\":{\"field\":\"line_color\"},\"width\":{\"field\":\"width\",\"units\":\"data\"},\"x\":{\"field\":\"x\"},\"y\":{\"field\":\"y\"}},\"id\":\"6f8408aa-4a4b-4b51-b49c-4c120fb588a4\",\"type\":\"Rect\"},{\"attributes\":{\"line_width\":{\"value\":2},\"x0\":{\"field\":\"x0s\"},\"x1\":{\"field\":\"x1s\"},\"y0\":{\"field\":\"y0s\"},\"y1\":{\"field\":\"y1s\"}},\"id\":\"81c782d5-ad35-42ad-a773-580d6599321d\",\"type\":\"Segment\"},{\"attributes\":{\"plot\":{\"id\":\"31a64318-4d44-4b6e-b262-32e09ad309cf\",\"subtype\":\"Chart\",\"type\":\"Plot\"}},\"id\":\"34ca4ac9-8083-4997-a285-4495fa93bfac\",\"type\":\"HelpTool\"},{\"attributes\":{\"callback\":null,\"column_names\":[\"x_values\",\"y_values\"],\"data\":{\"chart_index\":[{\"month\":4}],\"month\":[4],\"x_values\":[\"4:0.5\"],\"y_values\":[4]}},\"id\":\"c53417ba-680f-4e88-b879-2842ef1bafc9\",\"type\":\"ColumnDataSource\"},{\"attributes\":{\"callback\":null,\"column_names\":[\"line_color\",\"line_alpha\",\"color\",\"fill_alpha\",\"height\",\"width\",\"y\",\"x\",\"label\"],\"data\":{\"chart_index\":[{\"month\":12}],\"color\":[\"DimGrey\"],\"fill_alpha\":[0.8],\"height\":[0.5],\"label\":[{\"month\":12}],\"line_alpha\":[1.0],\"line_color\":[\"black\"],\"month\":[12],\"width\":[0.8],\"x\":[\"12\"],\"y\":[1.25]}},\"id\":\"71e680ee-c576-4091-97db-b90d045812d8\",\"type\":\"ColumnDataSource\"},{\"attributes\":{\"fill_alpha\":{\"value\":0.7},\"fill_color\":{\"value\":\"red\"},\"line_color\":{\"value\":\"red\"},\"size\":{\"units\":\"screen\",\"value\":5},\"x\":{\"field\":\"x_values\"},\"y\":{\"field\":\"y_values\"}},\"id\":\"acb9f217-4208-4938-a7e5-231fa9cf00ea\",\"type\":\"Circle\"},{\"attributes\":{\"fill_alpha\":{\"field\":\"fill_alpha\"},\"fill_color\":{\"field\":\"color\"},\"height\":{\"field\":\"height\",\"units\":\"data\"},\"line_color\":{\"field\":\"line_color\"},\"width\":{\"field\":\"width\",\"units\":\"data\"},\"x\":{\"field\":\"x\"},\"y\":{\"field\":\"y\"}},\"id\":\"0ec33700-b08a-4373-a125-d9568604475a\",\"type\":\"Rect\"},{\"attributes\":{\"callback\":null,\"column_names\":[\"line_color\",\"line_alpha\",\"color\",\"fill_alpha\",\"height\",\"width\",\"y\",\"x\",\"label\"],\"data\":{\"chart_index\":[{\"month\":11}],\"color\":[\"DimGrey\"],\"fill_alpha\":[0.8],\"height\":[0.5],\"label\":[{\"month\":11}],\"line_alpha\":[1.0],\"line_color\":[\"black\"],\"month\":[11],\"width\":[0.8],\"x\":[\"11\"],\"y\":[1.25]}},\"id\":\"3285b401-8ca1-45ef-ba1d-eedf03ce4aa8\",\"type\":\"ColumnDataSource\"},{\"attributes\":{\"callback\":null,\"column_names\":[\"line_color\",\"line_alpha\",\"color\",\"fill_alpha\",\"height\",\"width\",\"y\",\"x\",\"label\"],\"data\":{\"chart_index\":[{\"month\":7}],\"color\":[\"DimGrey\"],\"fill_alpha\":[0.8],\"height\":[0.5],\"label\":[{\"month\":7}],\"line_alpha\":[1.0],\"line_color\":[\"black\"],\"month\":[7],\"width\":[0.8],\"x\":[\"7\"],\"y\":[1.75]}},\"id\":\"5f6a1676-e506-4342-9837-d5010dc0ac2d\",\"type\":\"ColumnDataSource\"},{\"attributes\":{\"fill_alpha\":{\"value\":0.7},\"fill_color\":{\"value\":\"red\"},\"line_color\":{\"value\":\"red\"},\"size\":{\"units\":\"screen\",\"value\":5},\"x\":{\"field\":\"x_values\"},\"y\":{\"field\":\"y_values\"}},\"id\":\"d3e47d82-71bb-44c2-bf50-dae68a5b6b2a\",\"type\":\"Circle\"},{\"attributes\":{\"plot\":{\"id\":\"31a64318-4d44-4b6e-b262-32e09ad309cf\",\"subtype\":\"Chart\",\"type\":\"Plot\"}},\"id\":\"db9e7b10-9814-4276-bb43-e38e4585bc42\",\"type\":\"ResetTool\"},{\"attributes\":{\"fill_alpha\":{\"field\":\"fill_alpha\"},\"fill_color\":{\"field\":\"color\"},\"height\":{\"field\":\"height\",\"units\":\"data\"},\"line_color\":{\"field\":\"line_color\"},\"width\":{\"field\":\"width\",\"units\":\"data\"},\"x\":{\"field\":\"x\"},\"y\":{\"field\":\"y\"}},\"id\":\"8bcbf730-3985-46c7-8bc9-d0bbbccdc8da\",\"type\":\"Rect\"},{\"attributes\":{\"data_source\":{\"id\":\"c5a8c2f4-e7d6-45cb-9727-e7e9ce7eb229\",\"type\":\"ColumnDataSource\"},\"glyph\":{\"id\":\"d1ab388d-c0c1-407c-b29e-fb708b0a4d1f\",\"type\":\"Segment\"},\"hover_glyph\":null,\"nonselection_glyph\":null,\"selection_glyph\":null},\"id\":\"3fc4cfdc-d0b9-479e-8ee4-961e3e3cf890\",\"type\":\"GlyphRenderer\"},{\"attributes\":{\"data_source\":{\"id\":\"6f2a60ec-6f67-45e6-8d3a-a530b3cc0679\",\"type\":\"ColumnDataSource\"},\"glyph\":{\"id\":\"0ec33700-b08a-4373-a125-d9568604475a\",\"type\":\"Rect\"},\"hover_glyph\":null,\"nonselection_glyph\":null,\"selection_glyph\":null},\"id\":\"b86baad7-00f4-461e-9d90-b455a1c139d2\",\"type\":\"GlyphRenderer\"},{\"attributes\":{\"callback\":null,\"column_names\":[\"line_color\",\"line_alpha\",\"color\",\"fill_alpha\",\"height\",\"width\",\"y\",\"x\",\"label\"],\"data\":{\"chart_index\":[{\"month\":9}],\"color\":[\"DimGrey\"],\"fill_alpha\":[0.8],\"height\":[1.0],\"label\":[{\"month\":9}],\"line_alpha\":[1.0],\"line_color\":[\"black\"],\"month\":[9],\"width\":[0.8],\"x\":[\"9\"],\"y\":[1.5]}},\"id\":\"91baaa77-3f84-4227-8c71-6f5b518efd56\",\"type\":\"ColumnDataSource\"},{\"attributes\":{\"fill_alpha\":{\"field\":\"fill_alpha\"},\"fill_color\":{\"field\":\"color\"},\"height\":{\"field\":\"height\",\"units\":\"data\"},\"line_color\":{\"field\":\"line_color\"},\"width\":{\"field\":\"width\",\"units\":\"data\"},\"x\":{\"field\":\"x\"},\"y\":{\"field\":\"y\"}},\"id\":\"ba4c6a58-4e8f-4c43-a0bf-453face0f9cc\",\"type\":\"Rect\"},{\"attributes\":{\"callback\":null,\"column_names\":[\"x0s\",\"y0s\",\"x1s\",\"y1s\"],\"data\":{\"chart_index\":[{\"month\":11},{\"month\":11},{\"month\":11},{\"month\":11}],\"month\":[11,11,11,11],\"x0s\":[\"11:0.5\",\"11:0.65\",\"11:0.5\",\"11:0.65\"],\"x1s\":[\"11:0.5\",\"11:0.35\",\"11:0.5\",\"11:0.35\"],\"y0s\":[1.0,1.0,3.75,7.875],\"y1s\":[1.0,1.0,7.875,7.875]}},\"id\":\"8a4099fd-83ad-4d58-a7a4-9a273e7c8e14\",\"type\":\"ColumnDataSource\"},{\"attributes\":{\"fill_alpha\":{\"field\":\"fill_alpha\"},\"fill_color\":{\"field\":\"color\"},\"height\":{\"field\":\"height\",\"units\":\"data\"},\"line_color\":{\"field\":\"line_color\"},\"width\":{\"field\":\"width\",\"units\":\"data\"},\"x\":{\"field\":\"x\"},\"y\":{\"field\":\"y\"}},\"id\":\"c142de70-f848-464c-bb4c-3e9b21ed3f76\",\"type\":\"Rect\"},{\"attributes\":{\"active_drag\":\"auto\",\"active_scroll\":\"auto\",\"active_tap\":\"auto\",\"tools\":[{\"id\":\"c28f63e8-96eb-459f-9731-31fc38ea9598\",\"type\":\"PanTool\"},{\"id\":\"405aeb31-9514-4de2-8d49-2d34f33ab7dd\",\"type\":\"WheelZoomTool\"},{\"id\":\"b4d0148f-5123-4a52-9112-1345e8099c1f\",\"type\":\"BoxZoomTool\"},{\"id\":\"8b764158-2cad-4425-8fc4-73e686f2319c\",\"type\":\"SaveTool\"},{\"id\":\"db9e7b10-9814-4276-bb43-e38e4585bc42\",\"type\":\"ResetTool\"},{\"id\":\"34ca4ac9-8083-4997-a285-4495fa93bfac\",\"type\":\"HelpTool\"}]},\"id\":\"459503fb-7a97-4ccf-8cc2-983cf6925a77\",\"type\":\"Toolbar\"},{\"attributes\":{\"fill_alpha\":{\"field\":\"fill_alpha\"},\"fill_color\":{\"field\":\"color\"},\"height\":{\"field\":\"height\",\"units\":\"data\"},\"line_color\":{\"field\":\"line_color\"},\"width\":{\"field\":\"width\",\"units\":\"data\"},\"x\":{\"field\":\"x\"},\"y\":{\"field\":\"y\"}},\"id\":\"e31a46e7-b5cb-4527-92b6-51e09cce8802\",\"type\":\"Rect\"},{\"attributes\":{\"data_source\":{\"id\":\"c53417ba-680f-4e88-b879-2842ef1bafc9\",\"type\":\"ColumnDataSource\"},\"glyph\":{\"id\":\"d3e47d82-71bb-44c2-bf50-dae68a5b6b2a\",\"type\":\"Circle\"},\"hover_glyph\":null,\"nonselection_glyph\":null,\"selection_glyph\":null},\"id\":\"48024705-2002-4d44-a9cd-be7648d927bb\",\"type\":\"GlyphRenderer\"},{\"attributes\":{\"fill_alpha\":{\"field\":\"fill_alpha\"},\"fill_color\":{\"field\":\"color\"},\"height\":{\"field\":\"height\",\"units\":\"data\"},\"line_color\":{\"field\":\"line_color\"},\"width\":{\"field\":\"width\",\"units\":\"data\"},\"x\":{\"field\":\"x\"},\"y\":{\"field\":\"y\"}},\"id\":\"f2bc0e54-15df-4faa-9774-6a81f9dd1b28\",\"type\":\"Rect\"},{\"attributes\":{\"callback\":null,\"column_names\":[\"x_values\",\"y_values\"],\"data\":{\"chart_index\":[{\"month\":2}],\"month\":[2],\"x_values\":[\"2:0.5\"],\"y_values\":[4]}},\"id\":\"c3c698c4-6669-4d5b-9a28-5ff77c2abf3d\",\"type\":\"ColumnDataSource\"},{\"attributes\":{\"fill_alpha\":{\"field\":\"fill_alpha\"},\"fill_color\":{\"field\":\"color\"},\"height\":{\"field\":\"height\",\"units\":\"data\"},\"line_color\":{\"field\":\"line_color\"},\"width\":{\"field\":\"width\",\"units\":\"data\"},\"x\":{\"field\":\"x\"},\"y\":{\"field\":\"y\"}},\"id\":\"10a3a13f-4b45-4e53-bdd8-163a90cffe0b\",\"type\":\"Rect\"},{\"attributes\":{\"fill_alpha\":{\"field\":\"fill_alpha\"},\"fill_color\":{\"field\":\"color\"},\"height\":{\"field\":\"height\",\"units\":\"data\"},\"line_color\":{\"field\":\"line_color\"},\"width\":{\"field\":\"width\",\"units\":\"data\"},\"x\":{\"field\":\"x\"},\"y\":{\"field\":\"y\"}},\"id\":\"41eb5cd5-7dc2-417f-8852-740eef7105a7\",\"type\":\"Rect\"},{\"attributes\":{\"data_source\":{\"id\":\"0691daf5-6389-440e-a75f-7bc910b378fb\",\"type\":\"ColumnDataSource\"},\"glyph\":{\"id\":\"3987a241-fbbb-4346-8d6c-0943f0717d95\",\"type\":\"Rect\"},\"hover_glyph\":null,\"nonselection_glyph\":null,\"selection_glyph\":null},\"id\":\"d4b1089c-88f1-4a16-88b1-66983ca13f0d\",\"type\":\"GlyphRenderer\"},{\"attributes\":{\"data_source\":{\"id\":\"cb722bfc-39e3-4f07-950e-67203a58261d\",\"type\":\"ColumnDataSource\"},\"glyph\":{\"id\":\"acb9f217-4208-4938-a7e5-231fa9cf00ea\",\"type\":\"Circle\"},\"hover_glyph\":null,\"nonselection_glyph\":null,\"selection_glyph\":null},\"id\":\"a1549c85-d84b-4ca8-8fb0-d0ab3aedcb7b\",\"type\":\"GlyphRenderer\"},{\"attributes\":{\"callback\":null,\"column_names\":[\"line_color\",\"line_alpha\",\"color\",\"fill_alpha\",\"height\",\"width\",\"y\",\"x\",\"label\"],\"data\":{\"chart_index\":[{\"month\":2}],\"color\":[\"DimGrey\"],\"fill_alpha\":[0.8],\"height\":[0.0],\"label\":[{\"month\":2}],\"line_alpha\":[1.0],\"line_color\":[\"black\"],\"month\":[2],\"width\":[0.8],\"x\":[\"2\"],\"y\":[1.0]}},\"id\":\"0691daf5-6389-440e-a75f-7bc910b378fb\",\"type\":\"ColumnDataSource\"},{\"attributes\":{\"callback\":null,\"end\":10.55},\"id\":\"fec69040-0fc0-4ff1-89b2-87d3f1b48d41\",\"type\":\"Range1d\"},{\"attributes\":{\"fill_alpha\":{\"value\":0.7},\"fill_color\":{\"value\":\"red\"},\"line_color\":{\"value\":\"red\"},\"size\":{\"units\":\"screen\",\"value\":5},\"x\":{\"field\":\"x_values\"},\"y\":{\"field\":\"y_values\"}},\"id\":\"aaa8506b-8859-4d60-89fe-da3fe7cdcd1c\",\"type\":\"Circle\"},{\"attributes\":{\"data_source\":{\"id\":\"2ef65284-22ed-4bf6-901d-3c379ee47017\",\"type\":\"ColumnDataSource\"},\"glyph\":{\"id\":\"006a7d49-f48f-4ba1-9dbf-568f9dc20acf\",\"type\":\"Rect\"},\"hover_glyph\":null,\"nonselection_glyph\":null,\"selection_glyph\":null},\"id\":\"31ea4162-c10c-41a4-820c-ceede19c067a\",\"type\":\"GlyphRenderer\"},{\"attributes\":{},\"id\":\"eeed0743-505d-4479-b111-bde28995650f\",\"type\":\"CategoricalTicker\"},{\"attributes\":{\"data_source\":{\"id\":\"71e680ee-c576-4091-97db-b90d045812d8\",\"type\":\"ColumnDataSource\"},\"glyph\":{\"id\":\"be088e25-f09c-4c34-926a-2dad23811e57\",\"type\":\"Rect\"},\"hover_glyph\":null,\"nonselection_glyph\":null,\"selection_glyph\":null},\"id\":\"dc9e5a8d-71b2-483b-baed-ad1a680b863c\",\"type\":\"GlyphRenderer\"},{\"attributes\":{\"callback\":null,\"column_names\":[\"line_color\",\"line_alpha\",\"color\",\"fill_alpha\",\"height\",\"width\",\"y\",\"x\",\"label\"],\"data\":{\"chart_index\":[{\"month\":3}],\"color\":[\"DimGrey\"],\"fill_alpha\":[0.8],\"height\":[0.75],\"label\":[{\"month\":3}],\"line_alpha\":[1.0],\"line_color\":[\"black\"],\"month\":[3],\"width\":[0.8],\"x\":[\"3\"],\"y\":[1.375]}},\"id\":\"f68333b8-63d9-4828-b671-3280b04e848c\",\"type\":\"ColumnDataSource\"},{\"attributes\":{},\"id\":\"c212ae67-0faa-4a05-80b5-e0a0dba99545\",\"type\":\"BasicTicker\"},{\"attributes\":{\"callback\":null,\"column_names\":[\"x0s\",\"y0s\",\"x1s\",\"y1s\"],\"data\":{\"chart_index\":[{\"month\":1},{\"month\":1},{\"month\":1},{\"month\":1}],\"month\":[1,1,1,1],\"x0s\":[\"1:0.5\",\"1:0.65\",\"1:0.5\",\"1:0.65\"],\"x1s\":[\"1:0.5\",\"1:0.35\",\"1:0.5\",\"1:0.35\"],\"y0s\":[1.0,1.0,2.0,2.0],\"y1s\":[1.5,1.0,2.0,2.0]}},\"id\":\"2bb434f1-0ac7-4b80-a5b3-0d31577113c2\",\"type\":\"ColumnDataSource\"},{\"attributes\":{\"callback\":null,\"column_names\":[\"line_color\",\"line_alpha\",\"color\",\"fill_alpha\",\"height\",\"width\",\"y\",\"x\",\"label\"],\"data\":{\"chart_index\":[{\"month\":5}],\"color\":[\"DimGrey\"],\"fill_alpha\":[0.8],\"height\":[0.5],\"label\":[{\"month\":5}],\"line_alpha\":[1.0],\"line_color\":[\"black\"],\"month\":[5],\"width\":[0.8],\"x\":[\"5\"],\"y\":[1.75]}},\"id\":\"c21233fb-ee62-440a-8456-abc4eed29b5a\",\"type\":\"ColumnDataSource\"},{\"attributes\":{\"fill_alpha\":{\"field\":\"fill_alpha\"},\"fill_color\":{\"field\":\"color\"},\"height\":{\"field\":\"height\",\"units\":\"data\"},\"line_color\":{\"field\":\"line_color\"},\"width\":{\"field\":\"width\",\"units\":\"data\"},\"x\":{\"field\":\"x\"},\"y\":{\"field\":\"y\"}},\"id\":\"53daec46-0812-4488-ba24-0f83c007c805\",\"type\":\"Rect\"},{\"attributes\":{\"data_source\":{\"id\":\"8a4099fd-83ad-4d58-a7a4-9a273e7c8e14\",\"type\":\"ColumnDataSource\"},\"glyph\":{\"id\":\"5492abf7-8b18-440d-8128-ad594be60ff4\",\"type\":\"Segment\"},\"hover_glyph\":null,\"nonselection_glyph\":null,\"selection_glyph\":null},\"id\":\"f8da479e-7cd3-4a55-a75c-b71bea94b31a\",\"type\":\"GlyphRenderer\"},{\"attributes\":{\"plot\":{\"id\":\"31a64318-4d44-4b6e-b262-32e09ad309cf\",\"subtype\":\"Chart\",\"type\":\"Plot\"}},\"id\":\"c28f63e8-96eb-459f-9731-31fc38ea9598\",\"type\":\"PanTool\"},{\"attributes\":{\"data_source\":{\"id\":\"df0c1a08-b4af-45f5-8014-00d6cceb689a\",\"type\":\"ColumnDataSource\"},\"glyph\":{\"id\":\"4ae87ef3-9dca-48c8-a7cd-d862a452ab37\",\"type\":\"Segment\"},\"hover_glyph\":null,\"nonselection_glyph\":null,\"selection_glyph\":null},\"id\":\"5fb04511-c9db-4513-ba5f-c0d6c349895d\",\"type\":\"GlyphRenderer\"},{\"attributes\":{\"data_source\":{\"id\":\"044f42a2-fe55-4fe6-a880-72154cb42122\",\"type\":\"ColumnDataSource\"},\"glyph\":{\"id\":\"26f9849f-79e0-46ff-addf-e6f20b0c8019\",\"type\":\"Segment\"},\"hover_glyph\":null,\"nonselection_glyph\":null,\"selection_glyph\":null},\"id\":\"a015d19a-4404-46c5-a401-6edb0655aed0\",\"type\":\"GlyphRenderer\"},{\"attributes\":{\"fill_alpha\":{\"field\":\"fill_alpha\"},\"fill_color\":{\"field\":\"color\"},\"height\":{\"field\":\"height\",\"units\":\"data\"},\"line_color\":{\"field\":\"line_color\"},\"width\":{\"field\":\"width\",\"units\":\"data\"},\"x\":{\"field\":\"x\"},\"y\":{\"field\":\"y\"}},\"id\":\"f441c90d-fdf6-436d-816e-507feaa2ad63\",\"type\":\"Rect\"},{\"attributes\":{\"data_source\":{\"id\":\"8088adde-b5bf-449d-867b-fc5b1903b331\",\"type\":\"ColumnDataSource\"},\"glyph\":{\"id\":\"81c782d5-ad35-42ad-a773-580d6599321d\",\"type\":\"Segment\"},\"hover_glyph\":null,\"nonselection_glyph\":null,\"selection_glyph\":null},\"id\":\"15273ff1-bad4-4424-807e-9e83d097b5d8\",\"type\":\"GlyphRenderer\"},{\"attributes\":{\"data_source\":{\"id\":\"d5a8dae5-f9f8-4de3-9aaa-feff99945cc6\",\"type\":\"ColumnDataSource\"},\"glyph\":{\"id\":\"2a49c870-a919-41df-a60e-af6e55d8b742\",\"type\":\"Segment\"},\"hover_glyph\":null,\"nonselection_glyph\":null,\"selection_glyph\":null},\"id\":\"5011264e-3028-41e4-96c0-4bbdab692c1e\",\"type\":\"GlyphRenderer\"},{\"attributes\":{\"callback\":null,\"column_names\":[\"line_color\",\"line_alpha\",\"color\",\"fill_alpha\",\"height\",\"width\",\"y\",\"x\",\"label\"],\"data\":{\"chart_index\":[{\"month\":10}],\"color\":[\"DimGrey\"],\"fill_alpha\":[0.8],\"height\":[0.0],\"label\":[{\"month\":10}],\"line_alpha\":[1.0],\"line_color\":[\"black\"],\"month\":[10],\"width\":[0.8],\"x\":[\"10\"],\"y\":[1.0]}},\"id\":\"a906c65d-3893-42d1-b430-e70398a0738d\",\"type\":\"ColumnDataSource\"},{\"attributes\":{\"fill_alpha\":{\"field\":\"fill_alpha\"},\"fill_color\":{\"field\":\"color\"},\"height\":{\"field\":\"height\",\"units\":\"data\"},\"line_color\":{\"field\":\"line_color\"},\"width\":{\"field\":\"width\",\"units\":\"data\"},\"x\":{\"field\":\"x\"},\"y\":{\"field\":\"y\"}},\"id\":\"3987a241-fbbb-4346-8d6c-0943f0717d95\",\"type\":\"Rect\"},{\"attributes\":{\"callback\":null,\"column_names\":[\"x0s\",\"y0s\",\"x1s\",\"y1s\"],\"data\":{\"chart_index\":[{\"month\":12},{\"month\":12},{\"month\":12},{\"month\":12}],\"month\":[12,12,12,12],\"x0s\":[\"12:0.5\",\"12:0.65\",\"12:0.5\",\"12:0.65\"],\"x1s\":[\"12:0.5\",\"12:0.35\",\"12:0.5\",\"12:0.35\"],\"y0s\":[1.0,1.0,2.0,3.5],\"y1s\":[1.0,1.0,3.5,3.5]}},\"id\":\"8088adde-b5bf-449d-867b-fc5b1903b331\",\"type\":\"ColumnDataSource\"},{\"attributes\":{\"callback\":null,\"column_names\":[\"line_color\",\"line_alpha\",\"color\",\"fill_alpha\",\"height\",\"width\",\"y\",\"x\",\"label\"],\"data\":{\"chart_index\":[{\"month\":3}],\"color\":[\"DimGrey\"],\"fill_alpha\":[0.8],\"height\":[0.0],\"label\":[{\"month\":3}],\"line_alpha\":[1.0],\"line_color\":[\"black\"],\"month\":[3],\"width\":[0.8],\"x\":[\"3\"],\"y\":[1.0]}},\"id\":\"a568a0f0-7afe-401a-a073-0cd17d44fdaa\",\"type\":\"ColumnDataSource\"},{\"attributes\":{\"callback\":null,\"column_names\":[\"x0s\",\"y0s\",\"x1s\",\"y1s\"],\"data\":{\"chart_index\":[{\"month\":3},{\"month\":3},{\"month\":3},{\"month\":3}],\"month\":[3,3,3,3],\"x0s\":[\"3:0.5\",\"3:0.65\",\"3:0.5\",\"3:0.65\"],\"x1s\":[\"3:0.5\",\"3:0.35\",\"3:0.5\",\"3:0.35\"],\"y0s\":[1.0,1.0,1.75,2.875],\"y1s\":[1.0,1.0,2.875,2.875]}},\"id\":\"c7d765e3-dcb9-43a8-b8af-2af2001e8d9f\",\"type\":\"ColumnDataSource\"},{\"attributes\":{\"fill_alpha\":{\"value\":0.7},\"fill_color\":{\"value\":\"red\"},\"line_color\":{\"value\":\"red\"},\"size\":{\"units\":\"screen\",\"value\":5},\"x\":{\"field\":\"x_values\"},\"y\":{\"field\":\"y_values\"}},\"id\":\"3369d676-fa5e-4fd5-8af8-6f970c50a8bb\",\"type\":\"Circle\"},{\"attributes\":{\"fill_alpha\":{\"field\":\"fill_alpha\"},\"fill_color\":{\"field\":\"color\"},\"height\":{\"field\":\"height\",\"units\":\"data\"},\"line_color\":{\"field\":\"line_color\"},\"width\":{\"field\":\"width\",\"units\":\"data\"},\"x\":{\"field\":\"x\"},\"y\":{\"field\":\"y\"}},\"id\":\"006a7d49-f48f-4ba1-9dbf-568f9dc20acf\",\"type\":\"Rect\"},{\"attributes\":{\"plot\":{\"id\":\"31a64318-4d44-4b6e-b262-32e09ad309cf\",\"subtype\":\"Chart\",\"type\":\"Plot\"}},\"id\":\"8b764158-2cad-4425-8fc4-73e686f2319c\",\"type\":\"SaveTool\"},{\"attributes\":{\"data_source\":{\"id\":\"c73558f3-332b-4ee9-81e0-458e86932034\",\"type\":\"ColumnDataSource\"},\"glyph\":{\"id\":\"b88f0ccc-1e6e-48b8-b916-a4a17510c452\",\"type\":\"Rect\"},\"hover_glyph\":null,\"nonselection_glyph\":null,\"selection_glyph\":null},\"id\":\"6993de37-8372-4c3e-8b5f-bcb1fd9a4f50\",\"type\":\"GlyphRenderer\"},{\"attributes\":{\"axis_label\":\"Account\",\"formatter\":{\"id\":\"b61de33f-51fa-4035-9e54-1d539056b956\",\"type\":\"BasicTickFormatter\"},\"plot\":{\"id\":\"31a64318-4d44-4b6e-b262-32e09ad309cf\",\"subtype\":\"Chart\",\"type\":\"Plot\"},\"ticker\":{\"id\":\"c212ae67-0faa-4a05-80b5-e0a0dba99545\",\"type\":\"BasicTicker\"}},\"id\":\"87774786-5049-45a9-b482-bd1d1bc5da66\",\"type\":\"LinearAxis\"},{\"attributes\":{\"line_width\":{\"value\":2},\"x0\":{\"field\":\"x0s\"},\"x1\":{\"field\":\"x1s\"},\"y0\":{\"field\":\"y0s\"},\"y1\":{\"field\":\"y1s\"}},\"id\":\"a177da7a-8740-4b6b-869c-426f9416ad4c\",\"type\":\"Segment\"},{\"attributes\":{\"fill_alpha\":{\"field\":\"fill_alpha\"},\"fill_color\":{\"field\":\"color\"},\"height\":{\"field\":\"height\",\"units\":\"data\"},\"line_color\":{\"field\":\"line_color\"},\"width\":{\"field\":\"width\",\"units\":\"data\"},\"x\":{\"field\":\"x\"},\"y\":{\"field\":\"y\"}},\"id\":\"2a71e367-1a74-4199-8f51-2e716f1e8138\",\"type\":\"Rect\"},{\"attributes\":{\"fill_alpha\":{\"field\":\"fill_alpha\"},\"fill_color\":{\"field\":\"color\"},\"height\":{\"field\":\"height\",\"units\":\"data\"},\"line_color\":{\"field\":\"line_color\"},\"width\":{\"field\":\"width\",\"units\":\"data\"},\"x\":{\"field\":\"x\"},\"y\":{\"field\":\"y\"}},\"id\":\"605ec881-f52b-4cee-89ea-e9872241f5d9\",\"type\":\"Rect\"},{\"attributes\":{\"axis_label\":\"Month\",\"formatter\":{\"id\":\"299eb798-b23d-427a-a2d0-9dbe801a2296\",\"type\":\"CategoricalTickFormatter\"},\"major_label_orientation\":0.7853981633974483,\"plot\":{\"id\":\"31a64318-4d44-4b6e-b262-32e09ad309cf\",\"subtype\":\"Chart\",\"type\":\"Plot\"},\"ticker\":{\"id\":\"eeed0743-505d-4479-b111-bde28995650f\",\"type\":\"CategoricalTicker\"}},\"id\":\"728e89b7-07b8-4c34-b93c-ae9029a1b9d2\",\"type\":\"CategoricalAxis\"}],\"root_ids\":[\"31a64318-4d44-4b6e-b262-32e09ad309cf\"]},\"title\":\"Bokeh Application\",\"version\":\"0.12.0\"}};\n",
       "            var render_items = [{\"docid\":\"0fb9e8d1-eed7-4c1f-9db0-c2223cbb0d3c\",\"elementid\":\"ec602afe-6795-476f-95a5-b935cee1466c\",\"modelid\":\"31a64318-4d44-4b6e-b262-32e09ad309cf\",\"notebook_comms_target\":\"1633f3cf-fff6-4ece-809b-ae35aacee20c\"}];\n",
       "            \n",
       "            Bokeh.embed.embed_items(docs_json, render_items);\n",
       "        });\n",
       "      },\n",
       "      function(Bokeh) {\n",
       "      }\n",
       "    ];\n",
       "  \n",
       "    function run_inline_js() {\n",
       "      for (var i = 0; i < inline_js.length; i++) {\n",
       "        inline_js[i](window.Bokeh);\n",
       "      }\n",
       "    }\n",
       "  \n",
       "    if (window._bokeh_is_loading === 0) {\n",
       "      console.log(\"Bokeh: BokehJS loaded, going straight to plotting\");\n",
       "      run_inline_js();\n",
       "    } else {\n",
       "      load_libs(js_urls, function() {\n",
       "        console.log(\"Bokeh: BokehJS plotting callback run at\", now());\n",
       "        run_inline_js();\n",
       "      });\n",
       "    }\n",
       "  }(this));\n",
       "</script>"
      ]
     },
     "metadata": {},
     "output_type": "display_data"
    },
    {
     "data": {
      "text/html": [
       "<p><code>&lt;Bokeh Notebook handle for <strong>In[9]</strong>&gt;</code></p>"
      ],
      "text/plain": [
       "<bokeh.io._CommsHandle at 0x7f19b282f550>"
      ]
     },
     "execution_count": 9,
     "metadata": {},
     "output_type": "execute_result"
    }
   ],
   "source": [
    "box = BoxPlot(twitterMonthCountCVE, values='account', label='month', title=\"Twitter CVE BoxPlot\")\n",
    "\n",
    "output_notebook()\n",
    "\n",
    "show(box)"
   ]
  },
  {
   "cell_type": "code",
   "execution_count": 10,
   "metadata": {
    "collapsed": false
   },
   "outputs": [
    {
     "name": "stdout",
     "output_type": "stream",
     "text": [
      "{'flower': (150343, 133870, 96474, 93573, 92543, 64363, 59120, 58201, 43184, 42726), 'label': (u'Kevin Mitnick', u'Eugene Kaspersky', u'Mikko Hypponen', u'briankrebs', u'Threatpost', u'Schneier Blog', u'McAfee Labs', u'Jeremiah Grossman', u'Christopher Soghoian', u'SophosLabs')}\n"
     ]
    },
    {
     "data": {
      "text/html": [
       "\n",
       "    <div class=\"bk-root\">\n",
       "        <a href=\"http://bokeh.pydata.org\" target=\"_blank\" class=\"bk-logo bk-logo-small bk-logo-notebook\"></a>\n",
       "        <span id=\"235c61ae-0893-4dbf-a4a7-756449c66db5\">Loading BokehJS ...</span>\n",
       "    </div>"
      ]
     },
     "metadata": {},
     "output_type": "display_data"
    },
    {
     "data": {
      "application/javascript": [
       "\n",
       "(function(global) {\n",
       "  function now() {\n",
       "    return new Date();\n",
       "  }\n",
       "\n",
       "  if (typeof (window._bokeh_onload_callbacks) === \"undefined\") {\n",
       "    window._bokeh_onload_callbacks = [];\n",
       "  }\n",
       "\n",
       "  function run_callbacks() {\n",
       "    window._bokeh_onload_callbacks.forEach(function(callback) { callback() });\n",
       "    delete window._bokeh_onload_callbacks\n",
       "    console.info(\"Bokeh: all callbacks have finished\");\n",
       "  }\n",
       "\n",
       "  function load_libs(js_urls, callback) {\n",
       "    window._bokeh_onload_callbacks.push(callback);\n",
       "    if (window._bokeh_is_loading > 0) {\n",
       "      console.log(\"Bokeh: BokehJS is being loaded, scheduling callback at\", now());\n",
       "      return null;\n",
       "    }\n",
       "    if (js_urls == null || js_urls.length === 0) {\n",
       "      run_callbacks();\n",
       "      return null;\n",
       "    }\n",
       "    console.log(\"Bokeh: BokehJS not loaded, scheduling load and callback at\", now());\n",
       "    window._bokeh_is_loading = js_urls.length;\n",
       "    for (var i = 0; i < js_urls.length; i++) {\n",
       "      var url = js_urls[i];\n",
       "      var s = document.createElement('script');\n",
       "      s.src = url;\n",
       "      s.async = false;\n",
       "      s.onreadystatechange = s.onload = function() {\n",
       "        window._bokeh_is_loading--;\n",
       "        if (window._bokeh_is_loading === 0) {\n",
       "          console.log(\"Bokeh: all BokehJS libraries loaded\");\n",
       "          run_callbacks()\n",
       "        }\n",
       "      };\n",
       "      s.onerror = function() {\n",
       "        console.warn(\"failed to load library \" + url);\n",
       "      };\n",
       "      console.log(\"Bokeh: injecting script tag for BokehJS library: \", url);\n",
       "      document.getElementsByTagName(\"head\")[0].appendChild(s);\n",
       "    }\n",
       "  };\n",
       "\n",
       "  var js_urls = ['https://cdn.pydata.org/bokeh/release/bokeh-0.12.0.min.js', 'https://cdn.pydata.org/bokeh/release/bokeh-widgets-0.12.0.min.js', 'https://cdn.pydata.org/bokeh/release/bokeh-compiler-0.12.0.min.js'];\n",
       "\n",
       "  var inline_js = [\n",
       "    function(Bokeh) {\n",
       "      Bokeh.set_log_level(\"info\");\n",
       "    },\n",
       "    \n",
       "    function(Bokeh) {\n",
       "      Bokeh.$(\"#235c61ae-0893-4dbf-a4a7-756449c66db5\").text(\"BokehJS successfully loaded\");\n",
       "    },\n",
       "    function(Bokeh) {\n",
       "      console.log(\"Bokeh: injecting CSS: https://cdn.pydata.org/bokeh/release/bokeh-0.12.0.min.css\");\n",
       "      Bokeh.embed.inject_css(\"https://cdn.pydata.org/bokeh/release/bokeh-0.12.0.min.css\");\n",
       "      console.log(\"Bokeh: injecting CSS: https://cdn.pydata.org/bokeh/release/bokeh-widgets-0.12.0.min.css\");\n",
       "      Bokeh.embed.inject_css(\"https://cdn.pydata.org/bokeh/release/bokeh-widgets-0.12.0.min.css\");\n",
       "    }\n",
       "  ];\n",
       "\n",
       "  function run_inline_js() {\n",
       "    for (var i = 0; i < inline_js.length; i++) {\n",
       "      inline_js[i](window.Bokeh);\n",
       "    }\n",
       "  }\n",
       "\n",
       "  if (window._bokeh_is_loading === 0) {\n",
       "    console.log(\"Bokeh: BokehJS loaded, going straight to plotting\");\n",
       "    run_inline_js();\n",
       "  } else {\n",
       "    load_libs(js_urls, function() {\n",
       "      console.log(\"Bokeh: BokehJS plotting callback run at\", now());\n",
       "      run_inline_js();\n",
       "    });\n",
       "  }\n",
       "}(this));"
      ]
     },
     "metadata": {},
     "output_type": "display_data"
    },
    {
     "data": {
      "text/html": [
       "\n",
       "\n",
       "    <div class=\"bk-root\">\n",
       "        <div class=\"plotdiv\" id=\"227e2065-29e7-40dc-acae-81378af994fc\"></div>\n",
       "    </div>\n",
       "<script type=\"text/javascript\">\n",
       "  \n",
       "  (function(global) {\n",
       "    function now() {\n",
       "      return new Date();\n",
       "    }\n",
       "  \n",
       "    if (typeof (window._bokeh_onload_callbacks) === \"undefined\") {\n",
       "      window._bokeh_onload_callbacks = [];\n",
       "    }\n",
       "  \n",
       "    function run_callbacks() {\n",
       "      window._bokeh_onload_callbacks.forEach(function(callback) { callback() });\n",
       "      delete window._bokeh_onload_callbacks\n",
       "      console.info(\"Bokeh: all callbacks have finished\");\n",
       "    }\n",
       "  \n",
       "    function load_libs(js_urls, callback) {\n",
       "      window._bokeh_onload_callbacks.push(callback);\n",
       "      if (window._bokeh_is_loading > 0) {\n",
       "        console.log(\"Bokeh: BokehJS is being loaded, scheduling callback at\", now());\n",
       "        return null;\n",
       "      }\n",
       "      if (js_urls == null || js_urls.length === 0) {\n",
       "        run_callbacks();\n",
       "        return null;\n",
       "      }\n",
       "      console.log(\"Bokeh: BokehJS not loaded, scheduling load and callback at\", now());\n",
       "      window._bokeh_is_loading = js_urls.length;\n",
       "      for (var i = 0; i < js_urls.length; i++) {\n",
       "        var url = js_urls[i];\n",
       "        var s = document.createElement('script');\n",
       "        s.src = url;\n",
       "        s.async = false;\n",
       "        s.onreadystatechange = s.onload = function() {\n",
       "          window._bokeh_is_loading--;\n",
       "          if (window._bokeh_is_loading === 0) {\n",
       "            console.log(\"Bokeh: all BokehJS libraries loaded\");\n",
       "            run_callbacks()\n",
       "          }\n",
       "        };\n",
       "        s.onerror = function() {\n",
       "          console.warn(\"failed to load library \" + url);\n",
       "        };\n",
       "        console.log(\"Bokeh: injecting script tag for BokehJS library: \", url);\n",
       "        document.getElementsByTagName(\"head\")[0].appendChild(s);\n",
       "      }\n",
       "    };var element = document.getElementById(\"227e2065-29e7-40dc-acae-81378af994fc\");\n",
       "    if (element == null) {\n",
       "      console.log(\"Bokeh: ERROR: autoload.js configured with elementid '227e2065-29e7-40dc-acae-81378af994fc' but no matching script tag was found. \")\n",
       "      return false;\n",
       "    }\n",
       "  \n",
       "    var js_urls = [];\n",
       "  \n",
       "    var inline_js = [\n",
       "      function(Bokeh) {\n",
       "        Bokeh.$(function() {\n",
       "            var docs_json = {\"e81ad141-a896-49d6-95f3-0c4a346bb8aa\":{\"roots\":{\"references\":[{\"attributes\":{\"data_source\":{\"id\":\"2ba5b3df-698b-4f2a-90cc-2a8cbca06a56\",\"type\":\"ColumnDataSource\"},\"glyph\":{\"id\":\"688af4e0-2c2d-4a7d-b617-549e9b5bb3a8\",\"type\":\"Rect\"},\"hover_glyph\":null,\"nonselection_glyph\":null,\"selection_glyph\":null},\"id\":\"9900c085-bba7-4e89-8ff5-0ccb331f83de\",\"type\":\"GlyphRenderer\"},{\"attributes\":{\"callback\":null,\"factors\":[\"Kevin Mitnick\",\"Eugene Kaspersky\",\"Mikko Hypponen\",\"briankrebs\",\"Threatpost\",\"Schneier Blog\",\"McAfee Labs\",\"Jeremiah Grossman\",\"Christopher Soghoian\",\"SophosLabs\"]},\"id\":\"c17aeeff-51d3-408c-a788-80c8f7b69624\",\"type\":\"FactorRange\"},{\"attributes\":{},\"id\":\"c3ec5b43-4614-4583-b5e3-d987f9442030\",\"type\":\"BasicTickFormatter\"},{\"attributes\":{},\"id\":\"36eaa75b-f0c2-441e-a8d8-a7bf3f5e9362\",\"type\":\"BasicTicker\"},{\"attributes\":{\"fill_alpha\":{\"field\":\"fill_alpha\"},\"fill_color\":{\"field\":\"color\"},\"height\":{\"field\":\"height\",\"units\":\"data\"},\"line_color\":{\"field\":\"line_color\"},\"width\":{\"field\":\"width\",\"units\":\"data\"},\"x\":{\"field\":\"x\"},\"y\":{\"field\":\"y\"}},\"id\":\"cb533ebc-98b8-4134-be6c-4ec2dfd22a4d\",\"type\":\"Rect\"},{\"attributes\":{\"data_source\":{\"id\":\"291ae4a7-6acc-4554-bd40-8e7aab031ba6\",\"type\":\"ColumnDataSource\"},\"glyph\":{\"id\":\"598b493e-d861-4e28-a300-0f29ad23a459\",\"type\":\"Rect\"},\"hover_glyph\":null,\"nonselection_glyph\":null,\"selection_glyph\":null},\"id\":\"2d72fd93-b92f-4b5b-b63e-08e353250647\",\"type\":\"GlyphRenderer\"},{\"attributes\":{\"axis_label\":\"Sum( Flower )\",\"formatter\":{\"id\":\"c3ec5b43-4614-4583-b5e3-d987f9442030\",\"type\":\"BasicTickFormatter\"},\"plot\":{\"id\":\"b689f41c-43a4-45e5-ab7c-7e02ab331837\",\"subtype\":\"Chart\",\"type\":\"Plot\"},\"ticker\":{\"id\":\"36eaa75b-f0c2-441e-a8d8-a7bf3f5e9362\",\"type\":\"BasicTicker\"}},\"id\":\"809a5a35-e5e2-40b3-b984-b66129a2e7e2\",\"type\":\"LinearAxis\"},{\"attributes\":{\"below\":[{\"id\":\"d68aedce-4c1d-4299-b2c8-2160b24cb652\",\"type\":\"CategoricalAxis\"}],\"left\":[{\"id\":\"809a5a35-e5e2-40b3-b984-b66129a2e7e2\",\"type\":\"LinearAxis\"}],\"renderers\":[{\"id\":\"94bbd466-36f0-45d4-b5b9-dd6241e3971b\",\"type\":\"BoxAnnotation\"},{\"id\":\"26fa9c27-fe2a-4ae9-9036-212475e5d9a2\",\"type\":\"GlyphRenderer\"},{\"id\":\"0cde25f8-6524-45a9-a9df-43278a8899b8\",\"type\":\"GlyphRenderer\"},{\"id\":\"ea1069a1-b859-4120-aa84-0f88e0f74f70\",\"type\":\"GlyphRenderer\"},{\"id\":\"9900c085-bba7-4e89-8ff5-0ccb331f83de\",\"type\":\"GlyphRenderer\"},{\"id\":\"dbce04a6-f1e2-4c46-b299-a254bdb7e824\",\"type\":\"GlyphRenderer\"},{\"id\":\"1586fcea-055a-4d08-8828-fba4d0cc8393\",\"type\":\"GlyphRenderer\"},{\"id\":\"9414a47d-83ce-4e70-be19-7f8595bf03cc\",\"type\":\"GlyphRenderer\"},{\"id\":\"b1faf824-46c5-4c90-8251-e112e301453b\",\"type\":\"GlyphRenderer\"},{\"id\":\"2d72fd93-b92f-4b5b-b63e-08e353250647\",\"type\":\"GlyphRenderer\"},{\"id\":\"7977655f-3c8b-4332-9abc-1f7fbd936cbe\",\"type\":\"GlyphRenderer\"},{\"id\":\"c92f4f0c-c8a2-4576-ba9a-4995effef4cf\",\"type\":\"Legend\"},{\"id\":\"d68aedce-4c1d-4299-b2c8-2160b24cb652\",\"type\":\"CategoricalAxis\"},{\"id\":\"809a5a35-e5e2-40b3-b984-b66129a2e7e2\",\"type\":\"LinearAxis\"},{\"id\":\"e11c2460-4a7c-42f4-8625-b0dce3062cb9\",\"type\":\"Grid\"}],\"title\":{\"id\":\"ad0ff087-cb9f-48fd-84e6-67a5300360d8\",\"type\":\"Title\"},\"tool_events\":{\"id\":\"81149060-3746-48aa-8fb9-015f4717c264\",\"type\":\"ToolEvents\"},\"toolbar\":{\"id\":\"12c66dfb-af88-4417-bdb7-a4669f7950c5\",\"type\":\"Toolbar\"},\"x_mapper_type\":\"auto\",\"x_range\":{\"id\":\"c17aeeff-51d3-408c-a788-80c8f7b69624\",\"type\":\"FactorRange\"},\"y_mapper_type\":\"auto\",\"y_range\":{\"id\":\"79d71c74-52da-4370-95a6-5060d1affa51\",\"type\":\"Range1d\"}},\"id\":\"b689f41c-43a4-45e5-ab7c-7e02ab331837\",\"subtype\":\"Chart\",\"type\":\"Plot\"},{\"attributes\":{\"legends\":[[\"Kevin Mitnick\",[{\"id\":\"26fa9c27-fe2a-4ae9-9036-212475e5d9a2\",\"type\":\"GlyphRenderer\"}]],[\"Eugene Kaspersky\",[{\"id\":\"0cde25f8-6524-45a9-a9df-43278a8899b8\",\"type\":\"GlyphRenderer\"}]],[\"Mikko Hypponen\",[{\"id\":\"ea1069a1-b859-4120-aa84-0f88e0f74f70\",\"type\":\"GlyphRenderer\"}]],[\"briankrebs\",[{\"id\":\"9900c085-bba7-4e89-8ff5-0ccb331f83de\",\"type\":\"GlyphRenderer\"}]],[\"Threatpost\",[{\"id\":\"dbce04a6-f1e2-4c46-b299-a254bdb7e824\",\"type\":\"GlyphRenderer\"}]],[\"Schneier Blog\",[{\"id\":\"1586fcea-055a-4d08-8828-fba4d0cc8393\",\"type\":\"GlyphRenderer\"}]],[\"McAfee Labs\",[{\"id\":\"9414a47d-83ce-4e70-be19-7f8595bf03cc\",\"type\":\"GlyphRenderer\"}]],[\"Jeremiah Grossman\",[{\"id\":\"b1faf824-46c5-4c90-8251-e112e301453b\",\"type\":\"GlyphRenderer\"}]],[\"Christopher Soghoian\",[{\"id\":\"2d72fd93-b92f-4b5b-b63e-08e353250647\",\"type\":\"GlyphRenderer\"}]],[\"SophosLabs\",[{\"id\":\"7977655f-3c8b-4332-9abc-1f7fbd936cbe\",\"type\":\"GlyphRenderer\"}]]],\"location\":\"top_left\",\"plot\":{\"id\":\"b689f41c-43a4-45e5-ab7c-7e02ab331837\",\"subtype\":\"Chart\",\"type\":\"Plot\"}},\"id\":\"c92f4f0c-c8a2-4576-ba9a-4995effef4cf\",\"type\":\"Legend\"},{\"attributes\":{\"data_source\":{\"id\":\"590a7f5a-db53-4223-a403-928cb4777cd7\",\"type\":\"ColumnDataSource\"},\"glyph\":{\"id\":\"b399bb53-2cf4-4141-a635-c19665dfdf5c\",\"type\":\"Rect\"},\"hover_glyph\":null,\"nonselection_glyph\":null,\"selection_glyph\":null},\"id\":\"ea1069a1-b859-4120-aa84-0f88e0f74f70\",\"type\":\"GlyphRenderer\"},{\"attributes\":{\"fill_alpha\":{\"field\":\"fill_alpha\"},\"fill_color\":{\"field\":\"color\"},\"height\":{\"field\":\"height\",\"units\":\"data\"},\"line_color\":{\"field\":\"line_color\"},\"width\":{\"field\":\"width\",\"units\":\"data\"},\"x\":{\"field\":\"x\"},\"y\":{\"field\":\"y\"}},\"id\":\"b399bb53-2cf4-4141-a635-c19665dfdf5c\",\"type\":\"Rect\"},{\"attributes\":{\"plot\":{\"id\":\"b689f41c-43a4-45e5-ab7c-7e02ab331837\",\"subtype\":\"Chart\",\"type\":\"Plot\"}},\"id\":\"d197e3cd-f435-498b-85a3-095ad345c6af\",\"type\":\"ResetTool\"},{\"attributes\":{\"overlay\":{\"id\":\"94bbd466-36f0-45d4-b5b9-dd6241e3971b\",\"type\":\"BoxAnnotation\"},\"plot\":{\"id\":\"b689f41c-43a4-45e5-ab7c-7e02ab331837\",\"subtype\":\"Chart\",\"type\":\"Plot\"}},\"id\":\"7d03d28f-29c1-4044-be50-f7173937fadb\",\"type\":\"BoxZoomTool\"},{\"attributes\":{\"fill_alpha\":{\"field\":\"fill_alpha\"},\"fill_color\":{\"field\":\"color\"},\"height\":{\"field\":\"height\",\"units\":\"data\"},\"line_color\":{\"field\":\"line_color\"},\"width\":{\"field\":\"width\",\"units\":\"data\"},\"x\":{\"field\":\"x\"},\"y\":{\"field\":\"y\"}},\"id\":\"598b493e-d861-4e28-a300-0f29ad23a459\",\"type\":\"Rect\"},{\"attributes\":{\"fill_alpha\":{\"field\":\"fill_alpha\"},\"fill_color\":{\"field\":\"color\"},\"height\":{\"field\":\"height\",\"units\":\"data\"},\"line_color\":{\"field\":\"line_color\"},\"width\":{\"field\":\"width\",\"units\":\"data\"},\"x\":{\"field\":\"x\"},\"y\":{\"field\":\"y\"}},\"id\":\"f6db8052-17fe-41bb-91fd-3ebc8f5f8bb3\",\"type\":\"Rect\"},{\"attributes\":{\"fill_alpha\":{\"field\":\"fill_alpha\"},\"fill_color\":{\"field\":\"color\"},\"height\":{\"field\":\"height\",\"units\":\"data\"},\"line_color\":{\"field\":\"line_color\"},\"width\":{\"field\":\"width\",\"units\":\"data\"},\"x\":{\"field\":\"x\"},\"y\":{\"field\":\"y\"}},\"id\":\"688af4e0-2c2d-4a7d-b617-549e9b5bb3a8\",\"type\":\"Rect\"},{\"attributes\":{\"fill_alpha\":{\"field\":\"fill_alpha\"},\"fill_color\":{\"field\":\"color\"},\"height\":{\"field\":\"height\",\"units\":\"data\"},\"line_color\":{\"field\":\"line_color\"},\"width\":{\"field\":\"width\",\"units\":\"data\"},\"x\":{\"field\":\"x\"},\"y\":{\"field\":\"y\"}},\"id\":\"5089b732-3da2-4e4c-ab70-41124e8d70dc\",\"type\":\"Rect\"},{\"attributes\":{\"data_source\":{\"id\":\"a451dc1d-d89e-40c0-8efe-d8b6c06753d2\",\"type\":\"ColumnDataSource\"},\"glyph\":{\"id\":\"5089b732-3da2-4e4c-ab70-41124e8d70dc\",\"type\":\"Rect\"},\"hover_glyph\":null,\"nonselection_glyph\":null,\"selection_glyph\":null},\"id\":\"9414a47d-83ce-4e70-be19-7f8595bf03cc\",\"type\":\"GlyphRenderer\"},{\"attributes\":{\"axis_label\":\"Label\",\"formatter\":{\"id\":\"adbab139-a9a4-422a-b717-3cdaed6b69fd\",\"type\":\"CategoricalTickFormatter\"},\"major_label_orientation\":0.7853981633974483,\"plot\":{\"id\":\"b689f41c-43a4-45e5-ab7c-7e02ab331837\",\"subtype\":\"Chart\",\"type\":\"Plot\"},\"ticker\":{\"id\":\"06ecef70-45ed-4fd6-972b-f415838c98cb\",\"type\":\"CategoricalTicker\"}},\"id\":\"d68aedce-4c1d-4299-b2c8-2160b24cb652\",\"type\":\"CategoricalAxis\"},{\"attributes\":{\"callback\":null,\"column_names\":[\"line_color\",\"line_alpha\",\"color\",\"fill_alpha\",\"height\",\"width\",\"y\",\"x\",\"label\"],\"data\":{\"chart_index\":[{\"label\":\"Jeremiah Grossman\"}],\"color\":[\"#f22c40\"],\"fill_alpha\":[0.8],\"height\":[58201.0],\"label\":[\"Jeremiah Grossman\"],\"line_alpha\":[1.0],\"line_color\":[\"white\"],\"width\":[0.8],\"x\":[\"Jeremiah Grossman\"],\"y\":[29100.5]}},\"id\":\"02013549-b4bf-4d5f-8efc-55ca0a664112\",\"type\":\"ColumnDataSource\"},{\"attributes\":{\"callback\":null,\"end\":157860.15},\"id\":\"79d71c74-52da-4370-95a6-5060d1affa51\",\"type\":\"Range1d\"},{\"attributes\":{\"fill_alpha\":{\"field\":\"fill_alpha\"},\"fill_color\":{\"field\":\"color\"},\"height\":{\"field\":\"height\",\"units\":\"data\"},\"line_color\":{\"field\":\"line_color\"},\"width\":{\"field\":\"width\",\"units\":\"data\"},\"x\":{\"field\":\"x\"},\"y\":{\"field\":\"y\"}},\"id\":\"e86872fb-188f-41d1-8b57-2855b32e3c5d\",\"type\":\"Rect\"},{\"attributes\":{\"callback\":null,\"column_names\":[\"line_color\",\"line_alpha\",\"color\",\"fill_alpha\",\"height\",\"width\",\"y\",\"x\",\"label\"],\"data\":{\"chart_index\":[{\"label\":\"Eugene Kaspersky\"}],\"color\":[\"#f22c40\"],\"fill_alpha\":[0.8],\"height\":[133870.0],\"label\":[\"Eugene Kaspersky\"],\"line_alpha\":[1.0],\"line_color\":[\"white\"],\"width\":[0.8],\"x\":[\"Eugene Kaspersky\"],\"y\":[66935.0]}},\"id\":\"303acad2-9578-43fd-b7ac-a7cffe162dd6\",\"type\":\"ColumnDataSource\"},{\"attributes\":{\"fill_alpha\":{\"field\":\"fill_alpha\"},\"fill_color\":{\"field\":\"color\"},\"height\":{\"field\":\"height\",\"units\":\"data\"},\"line_color\":{\"field\":\"line_color\"},\"width\":{\"field\":\"width\",\"units\":\"data\"},\"x\":{\"field\":\"x\"},\"y\":{\"field\":\"y\"}},\"id\":\"75ef378e-eb85-4065-8e63-9214f4390e9d\",\"type\":\"Rect\"},{\"attributes\":{\"callback\":null,\"column_names\":[\"line_color\",\"line_alpha\",\"color\",\"fill_alpha\",\"height\",\"width\",\"y\",\"x\",\"label\"],\"data\":{\"chart_index\":[{\"label\":\"Schneier Blog\"}],\"color\":[\"#f22c40\"],\"fill_alpha\":[0.8],\"height\":[64363.0],\"label\":[\"Schneier Blog\"],\"line_alpha\":[1.0],\"line_color\":[\"white\"],\"width\":[0.8],\"x\":[\"Schneier Blog\"],\"y\":[32181.5]}},\"id\":\"4de78b54-51e0-43fe-98dd-4081a1789a8e\",\"type\":\"ColumnDataSource\"},{\"attributes\":{\"callback\":null,\"column_names\":[\"line_color\",\"line_alpha\",\"color\",\"fill_alpha\",\"height\",\"width\",\"y\",\"x\",\"label\"],\"data\":{\"chart_index\":[{\"label\":\"Mikko Hypponen\"}],\"color\":[\"#f22c40\"],\"fill_alpha\":[0.8],\"height\":[96474.0],\"label\":[\"Mikko Hypponen\"],\"line_alpha\":[1.0],\"line_color\":[\"white\"],\"width\":[0.8],\"x\":[\"Mikko Hypponen\"],\"y\":[48237.0]}},\"id\":\"590a7f5a-db53-4223-a403-928cb4777cd7\",\"type\":\"ColumnDataSource\"},{\"attributes\":{\"data_source\":{\"id\":\"4de78b54-51e0-43fe-98dd-4081a1789a8e\",\"type\":\"ColumnDataSource\"},\"glyph\":{\"id\":\"75ef378e-eb85-4065-8e63-9214f4390e9d\",\"type\":\"Rect\"},\"hover_glyph\":null,\"nonselection_glyph\":null,\"selection_glyph\":null},\"id\":\"1586fcea-055a-4d08-8828-fba4d0cc8393\",\"type\":\"GlyphRenderer\"},{\"attributes\":{\"callback\":null,\"column_names\":[\"line_color\",\"line_alpha\",\"color\",\"fill_alpha\",\"height\",\"width\",\"y\",\"x\",\"label\"],\"data\":{\"chart_index\":[{\"label\":\"briankrebs\"}],\"color\":[\"#f22c40\"],\"fill_alpha\":[0.8],\"height\":[93573.0],\"label\":[\"briankrebs\"],\"line_alpha\":[1.0],\"line_color\":[\"white\"],\"width\":[0.8],\"x\":[\"briankrebs\"],\"y\":[46786.5]}},\"id\":\"2ba5b3df-698b-4f2a-90cc-2a8cbca06a56\",\"type\":\"ColumnDataSource\"},{\"attributes\":{\"plot\":null,\"text\":\"Twitter_id Flower\"},\"id\":\"ad0ff087-cb9f-48fd-84e6-67a5300360d8\",\"type\":\"Title\"},{\"attributes\":{\"data_source\":{\"id\":\"1e1429ac-568d-40f8-b342-2e4c6eb424ae\",\"type\":\"ColumnDataSource\"},\"glyph\":{\"id\":\"4d6ead33-9a3c-4731-bc66-bc00ee9bb464\",\"type\":\"Rect\"},\"hover_glyph\":null,\"nonselection_glyph\":null,\"selection_glyph\":null},\"id\":\"7977655f-3c8b-4332-9abc-1f7fbd936cbe\",\"type\":\"GlyphRenderer\"},{\"attributes\":{\"active_drag\":\"auto\",\"active_scroll\":\"auto\",\"active_tap\":\"auto\",\"tools\":[{\"id\":\"6ee8e241-547a-40f3-a884-f2dff5955d6c\",\"type\":\"PanTool\"},{\"id\":\"76c03214-6a6d-48ee-83c8-d99ab39aafcb\",\"type\":\"WheelZoomTool\"},{\"id\":\"7d03d28f-29c1-4044-be50-f7173937fadb\",\"type\":\"BoxZoomTool\"},{\"id\":\"a543872b-a8f4-4f0a-a0bb-f0a87a29e55e\",\"type\":\"SaveTool\"},{\"id\":\"d197e3cd-f435-498b-85a3-095ad345c6af\",\"type\":\"ResetTool\"},{\"id\":\"7f0cd985-ab5a-4791-8016-88822168f516\",\"type\":\"HelpTool\"}]},\"id\":\"12c66dfb-af88-4417-bdb7-a4669f7950c5\",\"type\":\"Toolbar\"},{\"attributes\":{\"dimension\":1,\"plot\":{\"id\":\"b689f41c-43a4-45e5-ab7c-7e02ab331837\",\"subtype\":\"Chart\",\"type\":\"Plot\"},\"ticker\":{\"id\":\"36eaa75b-f0c2-441e-a8d8-a7bf3f5e9362\",\"type\":\"BasicTicker\"}},\"id\":\"e11c2460-4a7c-42f4-8625-b0dce3062cb9\",\"type\":\"Grid\"},{\"attributes\":{\"callback\":null,\"column_names\":[\"line_color\",\"line_alpha\",\"color\",\"fill_alpha\",\"height\",\"width\",\"y\",\"x\",\"label\"],\"data\":{\"chart_index\":[{\"label\":\"Threatpost\"}],\"color\":[\"#f22c40\"],\"fill_alpha\":[0.8],\"height\":[92543.0],\"label\":[\"Threatpost\"],\"line_alpha\":[1.0],\"line_color\":[\"white\"],\"width\":[0.8],\"x\":[\"Threatpost\"],\"y\":[46271.5]}},\"id\":\"c6d00ab9-dd09-4b88-83bc-590a3633b38a\",\"type\":\"ColumnDataSource\"},{\"attributes\":{\"fill_alpha\":{\"field\":\"fill_alpha\"},\"fill_color\":{\"field\":\"color\"},\"height\":{\"field\":\"height\",\"units\":\"data\"},\"line_color\":{\"field\":\"line_color\"},\"width\":{\"field\":\"width\",\"units\":\"data\"},\"x\":{\"field\":\"x\"},\"y\":{\"field\":\"y\"}},\"id\":\"5490c34e-0f60-495b-bfbf-2782faec0f1e\",\"type\":\"Rect\"},{\"attributes\":{},\"id\":\"81149060-3746-48aa-8fb9-015f4717c264\",\"type\":\"ToolEvents\"},{\"attributes\":{\"plot\":{\"id\":\"b689f41c-43a4-45e5-ab7c-7e02ab331837\",\"subtype\":\"Chart\",\"type\":\"Plot\"}},\"id\":\"7f0cd985-ab5a-4791-8016-88822168f516\",\"type\":\"HelpTool\"},{\"attributes\":{\"data_source\":{\"id\":\"02013549-b4bf-4d5f-8efc-55ca0a664112\",\"type\":\"ColumnDataSource\"},\"glyph\":{\"id\":\"f6db8052-17fe-41bb-91fd-3ebc8f5f8bb3\",\"type\":\"Rect\"},\"hover_glyph\":null,\"nonselection_glyph\":null,\"selection_glyph\":null},\"id\":\"b1faf824-46c5-4c90-8251-e112e301453b\",\"type\":\"GlyphRenderer\"},{\"attributes\":{\"data_source\":{\"id\":\"303acad2-9578-43fd-b7ac-a7cffe162dd6\",\"type\":\"ColumnDataSource\"},\"glyph\":{\"id\":\"5490c34e-0f60-495b-bfbf-2782faec0f1e\",\"type\":\"Rect\"},\"hover_glyph\":null,\"nonselection_glyph\":null,\"selection_glyph\":null},\"id\":\"0cde25f8-6524-45a9-a9df-43278a8899b8\",\"type\":\"GlyphRenderer\"},{\"attributes\":{\"data_source\":{\"id\":\"86f1cff1-8394-4953-a3b1-4f3798b111b2\",\"type\":\"ColumnDataSource\"},\"glyph\":{\"id\":\"cb533ebc-98b8-4134-be6c-4ec2dfd22a4d\",\"type\":\"Rect\"},\"hover_glyph\":null,\"nonselection_glyph\":null,\"selection_glyph\":null},\"id\":\"26fa9c27-fe2a-4ae9-9036-212475e5d9a2\",\"type\":\"GlyphRenderer\"},{\"attributes\":{\"fill_alpha\":{\"field\":\"fill_alpha\"},\"fill_color\":{\"field\":\"color\"},\"height\":{\"field\":\"height\",\"units\":\"data\"},\"line_color\":{\"field\":\"line_color\"},\"width\":{\"field\":\"width\",\"units\":\"data\"},\"x\":{\"field\":\"x\"},\"y\":{\"field\":\"y\"}},\"id\":\"4d6ead33-9a3c-4731-bc66-bc00ee9bb464\",\"type\":\"Rect\"},{\"attributes\":{\"plot\":{\"id\":\"b689f41c-43a4-45e5-ab7c-7e02ab331837\",\"subtype\":\"Chart\",\"type\":\"Plot\"}},\"id\":\"6ee8e241-547a-40f3-a884-f2dff5955d6c\",\"type\":\"PanTool\"},{\"attributes\":{\"callback\":null,\"column_names\":[\"line_color\",\"line_alpha\",\"color\",\"fill_alpha\",\"height\",\"width\",\"y\",\"x\",\"label\"],\"data\":{\"chart_index\":[{\"label\":\"Kevin Mitnick\"}],\"color\":[\"#f22c40\"],\"fill_alpha\":[0.8],\"height\":[150343.0],\"label\":[\"Kevin Mitnick\"],\"line_alpha\":[1.0],\"line_color\":[\"white\"],\"width\":[0.8],\"x\":[\"Kevin Mitnick\"],\"y\":[75171.5]}},\"id\":\"86f1cff1-8394-4953-a3b1-4f3798b111b2\",\"type\":\"ColumnDataSource\"},{\"attributes\":{\"plot\":{\"id\":\"b689f41c-43a4-45e5-ab7c-7e02ab331837\",\"subtype\":\"Chart\",\"type\":\"Plot\"}},\"id\":\"76c03214-6a6d-48ee-83c8-d99ab39aafcb\",\"type\":\"WheelZoomTool\"},{\"attributes\":{},\"id\":\"06ecef70-45ed-4fd6-972b-f415838c98cb\",\"type\":\"CategoricalTicker\"},{\"attributes\":{\"plot\":{\"id\":\"b689f41c-43a4-45e5-ab7c-7e02ab331837\",\"subtype\":\"Chart\",\"type\":\"Plot\"}},\"id\":\"a543872b-a8f4-4f0a-a0bb-f0a87a29e55e\",\"type\":\"SaveTool\"},{\"attributes\":{\"data_source\":{\"id\":\"c6d00ab9-dd09-4b88-83bc-590a3633b38a\",\"type\":\"ColumnDataSource\"},\"glyph\":{\"id\":\"e86872fb-188f-41d1-8b57-2855b32e3c5d\",\"type\":\"Rect\"},\"hover_glyph\":null,\"nonselection_glyph\":null,\"selection_glyph\":null},\"id\":\"dbce04a6-f1e2-4c46-b299-a254bdb7e824\",\"type\":\"GlyphRenderer\"},{\"attributes\":{},\"id\":\"adbab139-a9a4-422a-b717-3cdaed6b69fd\",\"type\":\"CategoricalTickFormatter\"},{\"attributes\":{\"callback\":null,\"column_names\":[\"line_color\",\"line_alpha\",\"color\",\"fill_alpha\",\"height\",\"width\",\"y\",\"x\",\"label\"],\"data\":{\"chart_index\":[{\"label\":\"Christopher Soghoian\"}],\"color\":[\"#f22c40\"],\"fill_alpha\":[0.8],\"height\":[43184.0],\"label\":[\"Christopher Soghoian\"],\"line_alpha\":[1.0],\"line_color\":[\"white\"],\"width\":[0.8],\"x\":[\"Christopher Soghoian\"],\"y\":[21592.0]}},\"id\":\"291ae4a7-6acc-4554-bd40-8e7aab031ba6\",\"type\":\"ColumnDataSource\"},{\"attributes\":{\"callback\":null,\"column_names\":[\"line_color\",\"line_alpha\",\"color\",\"fill_alpha\",\"height\",\"width\",\"y\",\"x\",\"label\"],\"data\":{\"chart_index\":[{\"label\":\"SophosLabs\"}],\"color\":[\"#f22c40\"],\"fill_alpha\":[0.8],\"height\":[42726.0],\"label\":[\"SophosLabs\"],\"line_alpha\":[1.0],\"line_color\":[\"white\"],\"width\":[0.8],\"x\":[\"SophosLabs\"],\"y\":[21363.0]}},\"id\":\"1e1429ac-568d-40f8-b342-2e4c6eb424ae\",\"type\":\"ColumnDataSource\"},{\"attributes\":{\"callback\":null,\"column_names\":[\"line_color\",\"line_alpha\",\"color\",\"fill_alpha\",\"height\",\"width\",\"y\",\"x\",\"label\"],\"data\":{\"chart_index\":[{\"label\":\"McAfee Labs\"}],\"color\":[\"#f22c40\"],\"fill_alpha\":[0.8],\"height\":[59120.0],\"label\":[\"McAfee Labs\"],\"line_alpha\":[1.0],\"line_color\":[\"white\"],\"width\":[0.8],\"x\":[\"McAfee Labs\"],\"y\":[29560.0]}},\"id\":\"a451dc1d-d89e-40c0-8efe-d8b6c06753d2\",\"type\":\"ColumnDataSource\"},{\"attributes\":{\"bottom_units\":\"screen\",\"fill_alpha\":{\"value\":0.5},\"fill_color\":{\"value\":\"lightgrey\"},\"left_units\":\"screen\",\"level\":\"overlay\",\"line_alpha\":{\"value\":1.0},\"line_color\":{\"value\":\"black\"},\"line_dash\":[4,4],\"line_width\":{\"value\":2},\"plot\":null,\"render_mode\":\"css\",\"right_units\":\"screen\",\"top_units\":\"screen\"},\"id\":\"94bbd466-36f0-45d4-b5b9-dd6241e3971b\",\"type\":\"BoxAnnotation\"}],\"root_ids\":[\"b689f41c-43a4-45e5-ab7c-7e02ab331837\"]},\"title\":\"Bokeh Application\",\"version\":\"0.12.0\"}};\n",
       "            var render_items = [{\"docid\":\"e81ad141-a896-49d6-95f3-0c4a346bb8aa\",\"elementid\":\"227e2065-29e7-40dc-acae-81378af994fc\",\"modelid\":\"b689f41c-43a4-45e5-ab7c-7e02ab331837\",\"notebook_comms_target\":\"4c001128-b239-43fa-af4c-4be65966e274\"}];\n",
       "            \n",
       "            Bokeh.embed.embed_items(docs_json, render_items);\n",
       "        });\n",
       "      },\n",
       "      function(Bokeh) {\n",
       "      }\n",
       "    ];\n",
       "  \n",
       "    function run_inline_js() {\n",
       "      for (var i = 0; i < inline_js.length; i++) {\n",
       "        inline_js[i](window.Bokeh);\n",
       "      }\n",
       "    }\n",
       "  \n",
       "    if (window._bokeh_is_loading === 0) {\n",
       "      console.log(\"Bokeh: BokehJS loaded, going straight to plotting\");\n",
       "      run_inline_js();\n",
       "    } else {\n",
       "      load_libs(js_urls, function() {\n",
       "        console.log(\"Bokeh: BokehJS plotting callback run at\", now());\n",
       "        run_inline_js();\n",
       "      });\n",
       "    }\n",
       "  }(this));\n",
       "</script>"
      ]
     },
     "metadata": {},
     "output_type": "display_data"
    },
    {
     "data": {
      "text/html": [
       "<p><code>&lt;Bokeh Notebook handle for <strong>In[10]</strong>&gt;</code></p>"
      ],
      "text/plain": [
       "<bokeh.io._CommsHandle at 0x7f19b272a690>"
      ]
     },
     "execution_count": 10,
     "metadata": {},
     "output_type": "execute_result"
    }
   ],
   "source": [
    "twitterFollowers = sorted(twitterFollower.iteritems(), key=lambda (k,v):(v,k), reverse = True)[:10]\n",
    "twitterFollowers = zip(*twitterFollowers)\n",
    "data = {\n",
    "    'label' : twitterFollowers[0],\n",
    "    'flower' :  twitterFollowers[1]\n",
    "}\n",
    "print (data)\n",
    "\n",
    "flower = Bar(data, values='flower', label=cat(columns='label', sort=False), title=\"Twitter_id Flower\")\n",
    "\n",
    "output_notebook()\n",
    "show(flower)"
   ]
  },
  {
   "cell_type": "code",
   "execution_count": 11,
   "metadata": {
    "collapsed": false
   },
   "outputs": [
    {
     "name": "stdout",
     "output_type": "stream",
     "text": [
      "{'Eric Chabrow': [0, 1, 1, 0, 0, 1, 1, 0, 0, 0, 0, 1, 1], 'Joshua Corman': [0, 1, 1, 1, 1, 1, 0, 1, 0, 0, 0, 1, 1], 'Threatpost': [0, 1, 1, 1, 1, 1, 0, 0, 1, 1, 1, 1, 0], 'McAfee Labs': [0, 1, 1, 1, 0, 1, 0, 0, 1, 0, 1, 1, 1], 'Dan Philpott': [0, 0, 0, 0, 1, 1, 1, 0, 0, 1, 0, 1, 0], 'Dave Lewis': [0, 1, 1, 0, 0, 1, 0, 1, 0, 0, 0, 1, 0], 'Chris Gates': [1, 1, 1, 1, 1, 1, 0, 1, 0, 1, 0, 1, 1], 'Lenny Zeltser': [0, 1, 1, 0, 1, 1, 0, 1, 0, 0, 1, 1, 0], 'Jennifer Minella': [0, 1, 0, 0, 0, 0, 1, 0, 0, 0, 0, 1, 1], 'RSnake': [0, 1, 1, 0, 0, 1, 0, 1, 0, 0, 0, 1, 0], 'Chris Wysopal': [1, 1, 1, 1, 1, 1, 0, 1, 0, 0, 1, 1, 0], 'Andrew Hay': [0, 1, 1, 0, 0, 1, 1, 0, 0, 0, 0, 1, 1], 'Schneier Blog': [0, 1, 1, 0, 0, 1, 0, 0, 1, 0, 1, 1, 0], 'Eugene Kaspersky': [1, 1, 1, 1, 1, 1, 0, 0, 1, 1, 1, 1, 0], 'Gal Shpantzer': [0, 1, 1, 1, 0, 1, 1, 0, 0, 1, 0, 1, 0], 'Mikko Hypponen': [0, 1, 1, 0, 0, 1, 0, 0, 1, 0, 1, 1, 0], 'Kevin Mitnick': [0, 0, 1, 1, 0, 1, 0, 0, 1, 1, 1, 1, 1], 'Seth Rosenblatt': [0, 1, 1, 1, 1, 1, 1, 0, 0, 1, 0, 1, 0], 'edskoudis': [0, 1, 0, 0, 0, 1, 0, 1, 0, 0, 0, 1, 0], 'briankrebs': [0, 1, 1, 1, 1, 1, 0, 0, 1, 0, 1, 1, 0]}\n"
     ]
    }
   ],
   "source": [
    "result = conn.search(query=bq , indices='twitter2' , doc_types='tweet')\n",
    "twitter20s = [\"Kevin Mitnick\", \"Eugene Kaspersky\", \"Mikko Hypponen\", \"briankrebs\", \"Threatpost\", \"Schneier Blog\", \"McAfee Labs\", \"Chris Wysopal\", \"Chris Gates\", \"Lenny Zeltser\", \"Joshua Corman\", \"Dave Lewis\", \"RSnake\", \"edskoudis\", \"Jennifer Minella\", \"Seth Rosenblatt\", \"Dan Philpott\", \"Andrew Hay\", \"Gal Shpantzer\", \"Eric Chabrow\"]\n",
    "twitter20 = {key: [0,0,0,0,0,0,0,0,0,0,0,0,0] for key in twitter20s}\n",
    "for oneTwitter in twitter20s:\n",
    "    if twitterFollower[oneTwitter] < 10000:\n",
    "        twitter20[oneTwitter][6] = 1\n",
    "    elif twitterFollower[oneTwitter] > 10000 and twitterFollower[oneTwitter] < 25000:\n",
    "        twitter20[oneTwitter][7] = 1\n",
    "    elif twitterFollower[oneTwitter] > 50000:\n",
    "        twitter20[oneTwitter][8] = 1\n",
    "    if twitterFriend[oneTwitter] > 1500:\n",
    "        twitter20[oneTwitter][9] = 1\n",
    "    if twitterList[oneTwitter] > 1000:\n",
    "        twitter20[oneTwitter][10] = 1\n",
    "for oneTweet in result:\n",
    "    if oneTweet['user']['name'] in twitter20.keys():\n",
    "        if 'cve' in oneTweet['text']:\n",
    "            twitter20[oneTweet['user']['name']][0] = 1\n",
    "        if 'vulnerability' in oneTweet['text']:\n",
    "            twitter20[oneTweet['user']['name']][1] = 1\n",
    "        if 'exploit' in oneTweet['text']:\n",
    "            twitter20[oneTweet['user']['name']][2] = 1\n",
    "        if 'backdoor' in oneTweet['text']:\n",
    "            twitter20[oneTweet['user']['name']][3] = 1\n",
    "        if 'apt' in oneTweet['text']:\n",
    "            twitter20[oneTweet['user']['name']][4] = 1\n",
    "        if 'malware' in oneTweet['text']:\n",
    "            twitter20[oneTweet['user']['name']][5] = 1\n",
    "        if regex.findall(oneTweet['text']):\n",
    "            twitter20[oneTweet['user']['name']][11] = 1\n",
    "        if 'Security' in oneTweet['user']['description']:\n",
    "            twitter20[oneTweet['user']['name']][12] = 1\n",
    "print(twitter20)"
   ]
  },
  {
   "cell_type": "code",
   "execution_count": 12,
   "metadata": {
    "collapsed": false
   },
   "outputs": [
    {
     "name": "stdout",
     "output_type": "stream",
     "text": [
      "(array([[0, 1, 1, 0, 0, 1, 1, 0, 0, 0, 0, 1, 1],\n",
      "       [0, 1, 1, 1, 1, 1, 0, 1, 0, 0, 0, 1, 1],\n",
      "       [0, 1, 1, 1, 1, 1, 0, 0, 1, 1, 1, 1, 0],\n",
      "       [0, 1, 1, 1, 0, 1, 0, 0, 1, 0, 1, 1, 1],\n",
      "       [0, 0, 0, 0, 1, 1, 1, 0, 0, 1, 0, 1, 0],\n",
      "       [0, 1, 1, 0, 0, 1, 0, 1, 0, 0, 0, 1, 0],\n",
      "       [1, 1, 1, 1, 1, 1, 0, 1, 0, 1, 0, 1, 1],\n",
      "       [0, 1, 1, 0, 1, 1, 0, 1, 0, 0, 1, 1, 0],\n",
      "       [0, 1, 0, 0, 0, 0, 1, 0, 0, 0, 0, 1, 1],\n",
      "       [0, 1, 1, 0, 0, 1, 0, 1, 0, 0, 0, 1, 0],\n",
      "       [1, 1, 1, 1, 1, 1, 0, 1, 0, 0, 1, 1, 0],\n",
      "       [0, 1, 1, 0, 0, 1, 1, 0, 0, 0, 0, 1, 1],\n",
      "       [0, 1, 1, 0, 0, 1, 0, 0, 1, 0, 1, 1, 0],\n",
      "       [1, 1, 1, 1, 1, 1, 0, 0, 1, 1, 1, 1, 0],\n",
      "       [0, 1, 1, 1, 0, 1, 1, 0, 0, 1, 0, 1, 0],\n",
      "       [0, 1, 1, 0, 0, 1, 0, 0, 1, 0, 1, 1, 0],\n",
      "       [0, 0, 1, 1, 0, 1, 0, 0, 1, 1, 1, 1, 1],\n",
      "       [0, 1, 1, 1, 1, 1, 1, 0, 0, 1, 0, 1, 0],\n",
      "       [0, 1, 0, 0, 0, 1, 0, 1, 0, 0, 0, 1, 0],\n",
      "       [0, 1, 1, 1, 1, 1, 0, 0, 1, 0, 1, 1, 0]]), array(['1', '0', '0', '0', '2', '2', '0', '1', '2', '2', '0', '1', '1',\n",
      "       '0', '1', '1', '0', '0', '2', '0'], dtype=object))\n"
     ]
    }
   ],
   "source": [
    "import numpy as np\n",
    "from sklearn.cross_validation import train_test_split\n",
    "\n",
    "combine = []\n",
    "label = np.array(['1', '0', '0', '0', '2', '2', '0', '1', '2', '2', '0', '1', '1', '0', '1', '1', '0', '0', '2', '0'], dtype=object)\n",
    "for key, value in twitter20.iteritems():\n",
    "    combine.append(value)\n",
    "combine = np.array(combine)\n",
    "print(combine, label)\n",
    "(training_inputs, testing_inputs, training_classes, testing_classes) = train_test_split(combine,label, train_size=0.75, random_state=1)"
   ]
  },
  {
   "cell_type": "code",
   "execution_count": 13,
   "metadata": {
    "collapsed": false
   },
   "outputs": [
    {
     "data": {
      "text/plain": [
       "0.59999999999999998"
      ]
     },
     "execution_count": 13,
     "metadata": {},
     "output_type": "execute_result"
    }
   ],
   "source": [
    "from sklearn.tree import DecisionTreeClassifier\n",
    "decision_tree_classifier = DecisionTreeClassifier()\n",
    "decision_tree_classifier.fit(training_inputs, training_classes)\n",
    "decision_tree_classifier.score(testing_inputs, testing_classes)"
   ]
  },
  {
   "cell_type": "code",
   "execution_count": 14,
   "metadata": {
    "collapsed": false
   },
   "outputs": [
    {
     "data": {
      "text/plain": [
       "<matplotlib.axes._subplots.AxesSubplot at 0x7f19a69b75d0>"
      ]
     },
     "execution_count": 14,
     "metadata": {},
     "output_type": "execute_result"
    },
    {
     "data": {
      "image/png": "[encoded data removed]",
      "text/plain": [
       "<matplotlib.figure.Figure at 0x7f19b2acfa50>"
      ]
     },
     "metadata": {},
     "output_type": "display_data"
    }
   ],
   "source": [
    "%matplotlib inline\n",
    "import seaborn as sb\n",
    "model_accuracies = []\n",
    "\n",
    "for repetition in range(1000):\n",
    "    (training_inputs,\n",
    "     testing_inputs,\n",
    "     training_classes,\n",
    "     testing_classes) = train_test_split(combine, label, train_size=0.75)\n",
    "    \n",
    "    decision_tree_classifier = DecisionTreeClassifier()\n",
    "    decision_tree_classifier.fit(training_inputs, training_classes)\n",
    "    classifier_accuracy = decision_tree_classifier.score(testing_inputs, testing_classes)\n",
    "    model_accuracies.append(classifier_accuracy)\n",
    "    \n",
    "sb.distplot(model_accuracies)"
   ]
  },
  {
   "cell_type": "code",
   "execution_count": 15,
   "metadata": {
    "collapsed": false,
    "scrolled": true
   },
   "outputs": [
    {
     "name": "stdout",
     "output_type": "stream",
     "text": [
      "Best score: 0.9\n",
      "Best parameters: {'max_features': 9, 'max_depth': 4}\n"
     ]
    }
   ],
   "source": [
    "from sklearn.grid_search import GridSearchCV\n",
    "from sklearn.cross_validation import StratifiedKFold\n",
    "\n",
    "decision_tree_classifier = DecisionTreeClassifier()\n",
    "parameter_grid = {'max_depth': [1, 2, 3, 4, 5], 'max_features': [3, 6, 9, 11, 13]}\n",
    "cross_validation = StratifiedKFold(label, n_folds=5)\n",
    "grid_search = GridSearchCV(decision_tree_classifier, param_grid=parameter_grid, cv=cross_validation)\n",
    "\n",
    "grid_search.fit(combine, label)\n",
    "print('Best score: {}'.format(grid_search.best_score_))\n",
    "print('Best parameters: {}'.format(grid_search.best_params_))"
   ]
  },
  {
   "cell_type": "code",
   "execution_count": 21,
   "metadata": {
    "collapsed": false
   },
   "outputs": [
    {
     "data": {
      "text/plain": [
       "<matplotlib.text.Text at 0x7f19a337df10>"
      ]
     },
     "execution_count": 21,
     "metadata": {},
     "output_type": "execute_result"
    },
    {
     "data": {
      "image/png": "[encoded data removed]",
      "text/plain": [
       "<matplotlib.figure.Figure at 0x7f19a33f0d50>"
      ]
     },
     "metadata": {},
     "output_type": "display_data"
    }
   ],
   "source": [
    "import matplotlib.pyplot as plt\n",
    "grid_visualization = []\n",
    "\n",
    "for grid_pair in grid_search.grid_scores_:\n",
    "    grid_visualization.append(grid_pair.mean_validation_score)\n",
    "    \n",
    "grid_visualization = np.array(grid_visualization)\n",
    "grid_visualization.shape = (5, 5)\n",
    "sb.heatmap(grid_visualization, cmap='Blues')\n",
    "plt.xticks(np.arange(4) + 0.5, grid_search.param_grid['max_features'])\n",
    "plt.yticks(np.arange(5) + 0.5, grid_search.param_grid['max_depth'][::-1])\n",
    "plt.xlabel('max_features')\n",
    "plt.ylabel('max_depth')"
   ]
  }
 ],
 "metadata": {
  "kernelspec": {
   "display_name": "Python [Root]",
   "language": "python",
   "name": "Python [Root]"
  },
  "language_info": {
   "codemirror_mode": {
    "name": "ipython",
    "version": 2
   },
   "file_extension": ".py",
   "mimetype": "text/x-python",
   "name": "python",
   "nbconvert_exporter": "python",
   "pygments_lexer": "ipython2",
   "version": "2.7.12"
  }
 },
 "nbformat": 4,
 "nbformat_minor": 0
}
