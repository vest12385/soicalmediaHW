{
 "cells": [
  {
   "cell_type": "code",
   "execution_count": null,
   "metadata": {
    "collapsed": false
   },
   "outputs": [],
   "source": [
    "import pyes\n",
    "import elasticsearch\n",
    "\n",
    "es_address='140.118.155.14:9200'\n",
    "conn = pyes.es.ES(es_address)\n",
    "bq = pyes.query.BoolQuery() \n",
    "#q = pyes.query.MatchAllQuery()\n",
    "\n",
    "cve = pyes.query.TermQuery(field=\"text\", value=\"cve\")\n",
    "vul = pyes.query.TermQuery(field=\"text\", value=\"vulnerability\")\n",
    "exp = pyes.query.TermQuery(field=\"text\", value=\"exploit\")\n",
    "back = pyes.query.TermQuery(field=\"text\", value=\"backdoor\")\n",
    "apt = pyes.query.TermQuery(field=\"text\", value=\"apt\")\n",
    "mal = pyes.query.TermQuery(field=\"text\", value=\"malware\")\n",
    "\n",
    "\n",
    "ESR = pyes.ESRange(field=\"created_at_linux_timestamp\", from_value=\"1388534400000\", to_value=\"1420070400000\", \n",
    "                   include_lower=True ,include_upper=False)\n",
    "rq = pyes.query.RangeQuery(qrange=ESR)\n",
    "\n",
    "bq.add_should(cve)\n",
    "bq.add_should(vul)\n",
    "bq.add_should(exp)\n",
    "bq.add_should(back)\n",
    "bq.add_should(apt)\n",
    "bq.add_should(mal)\n",
    "bq.add_must(rq)\n",
    "\n",
    "result = conn.search(query=bq , indices='twitter2' , doc_types='tweet') \n",
    "len(result)"
   ]
  },
  {
   "cell_type": "code",
   "execution_count": null,
   "metadata": {
    "collapsed": false
   },
   "outputs": [],
   "source": [
    "from collections import defaultdict\n",
    "twitters = set()\n",
    "twitterPerMon = defaultdict(set)\n",
    "tweetsPerMon = [0]*12\n",
    "indicators = defaultdict(list)\n",
    "twitterFollower = dict()"
   ]
  },
  {
   "cell_type": "code",
   "execution_count": null,
   "metadata": {
    "collapsed": false
   },
   "outputs": [],
   "source": [
    "import datetime\n",
    "import re\n",
    "\n",
    "haveUrl = 0\n",
    "        \n",
    "regex = re.compile(r'http[s]?://(?:[a-zA-Z]|[0-9]|[$-_@.&+]|[!*\\(\\),]|(?:%[0-9a-fA-F][0-9a-fA-F]))+')\n",
    "for oneTweet in result:\n",
    "    twitters.add(oneTweet['user']['id'])\n",
    "    month = int(datetime.datetime.fromtimestamp(oneTweet['created_at_linux_timestamp']/1000).strftime('%Y-%m-%d %H:%M:%S').split('-')[1])\n",
    "    twitterPerMon[month - 1].add(oneTweet['user']['id'])\n",
    "    tweetsPerMon[month - 1] += 1\n",
    "    if regex.findall(oneTweet['text']):\n",
    "        #print(regex.findall(oneTweet['text']))\n",
    "        haveUrl += 1\n",
    "    if oneTweet['user']['id'] not in indicators.iterkeys():\n",
    "        indicators[oneTweet['user']['id']].append(1)\n",
    "        indicators[oneTweet['user']['id']].append(0)\n",
    "        indicators[oneTweet['user']['id']].append(0)\n",
    "    else:\n",
    "        indicators[oneTweet['user']['id']][0] += 1\n",
    "        indicators[oneTweet['user']['id']][1] += oneTweet['retweet_count']\n",
    "        indicators[oneTweet['user']['id']][2] += oneTweet['favorite_count']\n",
    "    if oneTweet['user']['id'] not in twitterFollower.iterkeys():\n",
    "        twitterFollower[oneTweet['user']['id']] = 0\n",
    "    else:\n",
    "        if twitterFollower[oneTweet['user']['id']] < oneTweet['user']['followers_count']:\n",
    "            twitterFollower[oneTweet['user']['id']] = oneTweet['user']['followers_count']\n",
    "\n",
    "noUrl = len(result) - haveUrl\n",
    "print (len(twitters))\n",
    "#print (twitterPerMon)\n",
    "#print (tweetsPerMon)\n",
    "#print (haveUrl, noUrl)\n",
    "#print (indicators)\n",
    "#len(indicators)\n",
    "print(twitterFollower)"
   ]
  },
  {
   "cell_type": "code",
   "execution_count": null,
   "metadata": {
    "collapsed": false,
    "scrolled": true
   },
   "outputs": [],
   "source": [
    "from bokeh.charts import BoxPlot, Donut, Bar, output_notebook, show\n",
    "from bokeh.charts.attributes import cat\n",
    "sort=False\n",
    "# best support is with data in a format that is table-like\n",
    "data = {\n",
    "    'tweets': tweetsPerMon,\n",
    "    'label' : [\"Jan\", \"Feb\", \"Mar\", \"Apr\", \"May\", \"Jun\", \"Jul\", \"Aug\", \"Sep\", \"Oct\", \"Nov\", \"Dec\"],\n",
    "    'twitter' : [len(twitter) for index, twitter in twitterPerMon.items() ]\n",
    "}\n",
    "print (data)\n",
    "\n",
    "twitter = Bar(data, values='twitter', label=cat(columns='label', sort=False), title=\"Twitter Per Month\")\n",
    "\n",
    "tweet = Bar(data, values='tweets', label=cat(columns='label', sort=False), agg='mean', title=\"Tweets Per Month\")\n",
    "\n",
    "\n",
    "output_notebook()\n",
    "show(twitter)\n",
    "show(tweet)"
   ]
  },
  {
   "cell_type": "code",
   "execution_count": null,
   "metadata": {
    "collapsed": false
   },
   "outputs": [],
   "source": [
    "data = {\n",
    "    'label' : ['haveUrl ' + str( float(haveUrl) / len(result) * 100) + \"%\", 'noUrl ' + str( float(noUrl) / len(result) * 100) + \"%\"],\n",
    "    'value' : [haveUrl, noUrl]\n",
    "}\n",
    "\n",
    "\n",
    "pie = Donut(data, label='label', values='value', text_font_size='13pt', width=500)\n",
    "\n",
    "\n",
    "output_notebook()\n",
    "\n",
    "show(pie)"
   ]
  },
  {
   "cell_type": "code",
   "execution_count": null,
   "metadata": {
    "collapsed": false
   },
   "outputs": [],
   "source": [
    "bq2 = pyes.query.BoolQuery() \n",
    "bq2.add_should(cve)\n",
    "bq2.add_must(rq)\n",
    "justcve = conn.search(query=bq2 , indices='twitter2' , doc_types='tweet')\n",
    "len(justcve)"
   ]
  },
  {
   "cell_type": "code",
   "execution_count": null,
   "metadata": {
    "collapsed": false
   },
   "outputs": [],
   "source": [
    "twitterMonthCVE = defaultdict(list)\n",
    "for oneTweet in justcve:\n",
    "    month = int(datetime.datetime.fromtimestamp(oneTweet['created_at_linux_timestamp']/1000).strftime('%Y-%m-%d %H:%M:%S').split('-')[1])\n",
    "    twitterMonthCVE[month - 1].append(oneTweet['user']['id'])\n",
    "print (twitterMonthCVE)"
   ]
  },
  {
   "cell_type": "code",
   "execution_count": null,
   "metadata": {
    "collapsed": false
   },
   "outputs": [],
   "source": [
    "from collections import Counter\n",
    "twitterMonthCountCVE = defaultdict(list)\n",
    "for key, values in twitterMonthCVE.items():\n",
    "    twitterMonthCountCVE['month'] += [key + 1] * len(dict(Counter(values)).values())\n",
    "    twitterMonthCountCVE['account'] += dict(Counter(values)).values()\n",
    "print (twitterMonthCountCVE)"
   ]
  },
  {
   "cell_type": "code",
   "execution_count": null,
   "metadata": {
    "collapsed": false
   },
   "outputs": [],
   "source": [
    "box = BoxPlot(twitterMonthCountCVE, values='account', label='month', title=\"Twitter CVE BoxPlot\")\n",
    "\n",
    "output_notebook()\n",
    "\n",
    "show(box)"
   ]
  },
  {
   "cell_type": "code",
   "execution_count": null,
   "metadata": {
    "collapsed": false
   },
   "outputs": [],
   "source": [
    "twitterFollowers = sorted(twitterFollower.iteritems(), key=lambda (k,v):(v,k), reverse = True)[:10]\n",
    "twitterFollowers = zip(*twitterFollowers)\n",
    "data = {\n",
    "    'label' : twitterFollowers[0],\n",
    "    'flower' :  twitterFollowers[1]\n",
    "}\n",
    "print (data)\n",
    "\n",
    "flower = Bar(data, values='flower', label=cat(columns='label', sort=False), title=\"Twitter_id Flower\")\n",
    "\n",
    "\n",
    "\n",
    "output_notebook()\n",
    "show(flower)"
   ]
  }
 ],
 "metadata": {
  "kernelspec": {
   "display_name": "Python [Root]",
   "language": "python",
   "name": "Python [Root]"
  },
  "language_info": {
   "codemirror_mode": {
    "name": "ipython",
    "version": 2
   },
   "file_extension": ".py",
   "mimetype": "text/x-python",
   "name": "python",
   "nbconvert_exporter": "python",
   "pygments_lexer": "ipython2",
   "version": "2.7.12"
  }
 },
 "nbformat": 4,
 "nbformat_minor": 0
}
